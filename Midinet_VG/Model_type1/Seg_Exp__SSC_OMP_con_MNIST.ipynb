{
 "cells": [
  {
   "cell_type": "code",
   "execution_count": 29,
   "metadata": {
    "colab": {
     "base_uri": "https://localhost:8080/",
     "height": 52
    },
    "colab_type": "code",
    "id": "YsBnY5WsKeQ4",
    "outputId": "29ca711e-c3e4-4d3f-faa2-096c7c91d712"
   },
   "outputs": [
    {
     "data": {
      "text/plain": [
       "(60000, 784)"
      ]
     },
     "execution_count": 29,
     "metadata": {},
     "output_type": "execute_result"
    }
   ],
   "source": [
    "from keras.datasets import mnist\n",
    "import numpy as np\n",
    "import pandas as pd\n",
    "import sys\n",
    "import copy\n",
    "import math\n",
    "from sklearn.preprocessing import normalize\n",
    "\n",
    "(x_train, y_train), (x_test, y_test) = mnist.load_data()\n",
    "x_train = x_train.reshape([60000,28*28])\n",
    "x_train.shape"
   ]
  },
  {
   "cell_type": "code",
   "execution_count": 30,
   "metadata": {
    "colab": {
     "base_uri": "https://localhost:8080/",
     "height": 34
    },
    "colab_type": "code",
    "id": "FKQ2hqb-KeRD",
    "outputId": "06af919b-774e-4b7c-9385-201517f259c8"
   },
   "outputs": [
    {
     "data": {
      "text/plain": [
       "(300, 784)"
      ]
     },
     "execution_count": 30,
     "metadata": {},
     "output_type": "execute_result"
    }
   ],
   "source": [
    "n_sample=300\n",
    "X=x_train[:n_sample,:]\n",
    "X.shape"
   ]
  },
  {
   "cell_type": "markdown",
   "metadata": {
    "colab_type": "text",
    "id": "HywIJORXZEiN"
   },
   "source": [
    "A partir de las celdas de abajo se definirá una variación de la función SpectralClustering de sklearn, para logar rescatar el *manifold* que contiene el ebedding inicial con *eigenvectors*"
   ]
  },
  {
   "cell_type": "code",
   "execution_count": 31,
   "metadata": {
    "colab": {},
    "colab_type": "code",
    "id": "giOejKcvQtoL"
   },
   "outputs": [],
   "source": [
    "import numpy as np\n",
    "import sys\n",
    "import copy\n",
    "\n",
    "class MatchingPursuit:\n",
    "\t\"\"\"Simple implementation of the Matching Pursuit (MP) algorithm\n",
    "\t\n",
    "  FUENTE: https://github.com/mitscha/ssc_mps_py/blob/master/matchingpursuit.py\n",
    "  \n",
    "\tParameters\n",
    "\t----------\n",
    "\t\n",
    "\tsmax: int\n",
    "\t\tMaximum number of MP iterations\n",
    "\tpmax: int, optional\n",
    "\t\tMaximum sparsity level of x (default: pmax = smax)\n",
    "\ttol: float, optional\n",
    "\t\tThreshold on approximation quality ||Ax - y|| (default: 0.0)\n",
    "\t\t\n",
    "\tAttributes\n",
    "\t----------\n",
    "\t\n",
    "\tcoef_: array, shape (n_samples)\n",
    "\t\tcoefficient vector (solution)\n",
    "\t\n",
    "\t\n",
    "\tNote: Stops after smax iterations, or when approximation quality specified by tol\n",
    "\t      is attained, or when the sparsity level of the coefficient vector is pmax\n",
    "\t\n",
    "\t\"\"\"\n",
    "\t\n",
    "\tdef __init__(self,smax,pmax=None,tol=None):\n",
    "\t\tself._smax = smax if smax != None else sys.maxsize\n",
    "\t\tself._pmax = pmax if pmax != None else smax\n",
    "\t\tself._tol = 0.0 if tol == None else tol\n",
    "\t\tself.coef_ = None\n",
    "\t\n",
    "\tdef fit(self,A,y):\n",
    "\t\t\"\"\"\n",
    "\t\tFinds a sparse (approximate) solution x to Ax = y\n",
    "\t\t\n",
    "\t\tParameters\n",
    "\t\t----------\n",
    "\t\t\n",
    "\t\tX: dictionary, array, shape (n_features, n_samples)\n",
    "\t\ty: target, array, shape (n_features)\n",
    "\t\t\n",
    "\t\t\"\"\"\n",
    "\t\t\n",
    "\t\tassert(len(A.shape) == 2)\n",
    "\t\tassert(len(y.shape) == 1 and A.shape[0] == y.shape[0])\n",
    "\t\t\n",
    "\t\tx = np.zeros(A.shape[1])\n",
    "\t\tr = copy.deepcopy(y)\n",
    "\t\tnit = 0\n",
    "\t\twhile np.linalg.norm(r) > self._tol \\\n",
    "\t\t\tand nit < self._smax \\\n",
    "\t\t\tand np.sum(np.abs(x) > 0) < self._pmax:\n",
    "\t\t\t\n",
    "\t\t\tidx = np.argmax(np.dot(r.T,A))\n",
    "\t\t\tdx = np.dot(r.T,A[:,idx])/np.dot(A[:,idx].T,A[:,idx])\n",
    "\t\t\tx[idx] += dx\n",
    "\t\t\tr -= dx*A[:,idx]\n",
    "\t\t\tnit += 1\n",
    "\t\t\n",
    "\t\tself.coef_ = x"
   ]
  },
  {
   "cell_type": "code",
   "execution_count": 1,
   "metadata": {
    "colab": {},
    "colab_type": "code",
    "id": "TQKIe1mHgfXJ"
   },
   "outputs": [],
   "source": [
    "import numpy as np\n",
    "from sklearn.linear_model import OrthogonalMatchingPursuit\n",
    "from sklearn.cluster import SpectralClustering\n",
    "from sklearn.manifold import SpectralEmbedding\n",
    "from sklearn.preprocessing import normalize\n",
    "\n",
    "def ssc_mps_modificado(X,smax,L,tol=None,alg_name='OMP',pmax=None):\n",
    "\t\"\"\"\n",
    "  Esta es una versión modificada de la función 'ssc_mps', implementada por\n",
    "  https://github.com/mitscha/ssc_mps_py/blob/master/ssc_mps.py\n",
    "  \n",
    "\tImplements Sparse Subspace Clustering-Orthogonal Matching Pursuit (SSC-OMP) and \n",
    "\tSSC-Matching Pursuit (SSC-MP)\n",
    "\t\n",
    "\tParameters\n",
    "\t----------\n",
    "\t\n",
    "\tX: array, shape (n_samples, n_features)\n",
    "\t\tdata matrix\n",
    "\tsmax: int\n",
    "\t\tMaximum number of OMP/MP iterations\n",
    "\tL: int\n",
    "\t\tNumber of clusters\n",
    "\ttol: float, optional\n",
    "\t\tThreshold on approximation quality\n",
    "\talg_name: string, optional\n",
    "\t\t'OMP' (default) or 'MP'\n",
    "\tpmax:\n",
    "\t\tMaximum sparsity level for MP\n",
    "\t\n",
    "\t\n",
    "\tNote: \n",
    "\t\n",
    "\t- Stopping behavior:\n",
    "\t  SSC-OMP: Stop after smax iterations if tol=None, stop when approximation quality\n",
    "\t           specified by tol is attained otherwise\n",
    "\t  SSC-MP:  Stop after smax iterations, or when approximation quality specified by tol\n",
    "\t           is attained, or when the sparsity level of the coefficient vector is pmax\n",
    "\t- See https://arxiv.org/abs/1612.03450 for a discussion of the stopping criteria\n",
    "\t\n",
    "\t\"\"\"\n",
    "\t\n",
    "\t\n",
    "\tXX = np.array(X).T\n",
    "\tXX = normalize(XX - np.outer(np.mean(XX, axis=1), np.ones(XX.shape[1])), axis=0)\n",
    "    \n",
    "\tassert(len(XX.shape) == 2)\n",
    "\t\n",
    "\tm = XX.shape[0]\n",
    "\tN = XX.shape[1]\n",
    "\t\n",
    "\t\n",
    "\talg = None\n",
    "\tif alg_name == 'MP':\n",
    "\t\talg = MatchingPursuit(smax, pmax, tol)\n",
    "\telse:\n",
    "\t\talg = OrthogonalMatchingPursuit(\n",
    "\t\t\tn_nonzero_coefs=smax, \n",
    "\t\t\ttol=tol, \n",
    "\t\t\tfit_intercept=False, \n",
    "\t\t\tnormalize=False)\n",
    "\t\n",
    "\t\n",
    "\tC = np.zeros((N,N))\n",
    "\t\n",
    "\tfor i in range(N):\n",
    "\t\tdata_idx = [j for j in range(i)]\n",
    "\t\tdata_idx.extend([j for j in range(i+1,N)])\n",
    "\t\talg.fit(XX[:,data_idx],np.squeeze(XX[:,i]))\n",
    "\t\tc = np.zeros(N)\n",
    "\t\tc[data_idx] = alg.coef_\n",
    "\t\tC[:,i] = c\n",
    "\tmaps=SpectralEmbedding(affinity='precomputed', n_components=L, eigen_solver='arpack').fit(np.abs(C)+np.abs(C.T))\n",
    "  # Se utiliza ahora una descomposición por eigenvectors\n",
    "\tsc = SpectralClustering(n_clusters=L, affinity='precomputed', n_init=50, n_jobs=-1, eigen_solver='arpack')\n",
    "\tsc.fit(np.abs(C) + np.abs(C.T)) # Se introduce la matriz de afinidad descrita en SUB-GAN\n",
    "\t\n",
    "\treturn sc.labels_, maps.embedding_"
   ]
  },
  {
   "cell_type": "code",
   "execution_count": 26,
   "metadata": {
    "colab": {},
    "colab_type": "code",
    "id": "yx-lU5j78ooH"
   },
   "outputs": [],
   "source": [
    "K = 15 # Numero de grupos\n",
    "soft_assign, eigen_embedding=ssc_mps_modificado(X,K,K)"
   ]
  },
  {
   "cell_type": "code",
   "execution_count": 27,
   "metadata": {
    "colab": {
     "base_uri": "https://localhost:8080/",
     "height": 34
    },
    "colab_type": "code",
    "id": "hDvBfhbcBsf8",
    "outputId": "a7057bde-eaca-47a7-f67e-a1d9943cd9d4"
   },
   "outputs": [
    {
     "data": {
      "text/plain": [
       "((300,), (300, 10))"
      ]
     },
     "execution_count": 27,
     "metadata": {},
     "output_type": "execute_result"
    }
   ],
   "source": [
    "# Verificamos que se obtienen las asignaciones correctas y el embedding tras la descomposición:\n",
    "soft_assign.shape, eigen_embedding.shape"
   ]
  },
  {
   "cell_type": "code",
   "execution_count": 28,
   "metadata": {
    "colab": {
     "base_uri": "https://localhost:8080/",
     "height": 389
    },
    "colab_type": "code",
    "id": "tfH6qCxRTNbo",
    "outputId": "6fdf236b-5aa1-4acf-98dd-59fcb6c11e23"
   },
   "outputs": [
    {
     "data": {
      "text/html": [
       "<div>\n",
       "<style scoped>\n",
       "    .dataframe tbody tr th:only-of-type {\n",
       "        vertical-align: middle;\n",
       "    }\n",
       "\n",
       "    .dataframe tbody tr th {\n",
       "        vertical-align: top;\n",
       "    }\n",
       "\n",
       "    .dataframe thead th {\n",
       "        text-align: right;\n",
       "    }\n",
       "</style>\n",
       "<table border=\"1\" class=\"dataframe\">\n",
       "  <thead>\n",
       "    <tr style=\"text-align: right;\">\n",
       "      <th>col_0</th>\n",
       "      <th>0</th>\n",
       "      <th>1</th>\n",
       "      <th>2</th>\n",
       "      <th>3</th>\n",
       "      <th>4</th>\n",
       "      <th>5</th>\n",
       "      <th>6</th>\n",
       "      <th>7</th>\n",
       "      <th>8</th>\n",
       "      <th>9</th>\n",
       "    </tr>\n",
       "    <tr>\n",
       "      <th>row_0</th>\n",
       "      <th></th>\n",
       "      <th></th>\n",
       "      <th></th>\n",
       "      <th></th>\n",
       "      <th></th>\n",
       "      <th></th>\n",
       "      <th></th>\n",
       "      <th></th>\n",
       "      <th></th>\n",
       "      <th></th>\n",
       "    </tr>\n",
       "  </thead>\n",
       "  <tbody>\n",
       "    <tr>\n",
       "      <th>0</th>\n",
       "      <td>0</td>\n",
       "      <td>0</td>\n",
       "      <td>0</td>\n",
       "      <td>18</td>\n",
       "      <td>0</td>\n",
       "      <td>3</td>\n",
       "      <td>0</td>\n",
       "      <td>0</td>\n",
       "      <td>6</td>\n",
       "      <td>1</td>\n",
       "    </tr>\n",
       "    <tr>\n",
       "      <th>1</th>\n",
       "      <td>0</td>\n",
       "      <td>0</td>\n",
       "      <td>0</td>\n",
       "      <td>0</td>\n",
       "      <td>0</td>\n",
       "      <td>0</td>\n",
       "      <td>0</td>\n",
       "      <td>15</td>\n",
       "      <td>0</td>\n",
       "      <td>0</td>\n",
       "    </tr>\n",
       "    <tr>\n",
       "      <th>2</th>\n",
       "      <td>0</td>\n",
       "      <td>0</td>\n",
       "      <td>0</td>\n",
       "      <td>0</td>\n",
       "      <td>0</td>\n",
       "      <td>13</td>\n",
       "      <td>0</td>\n",
       "      <td>0</td>\n",
       "      <td>0</td>\n",
       "      <td>0</td>\n",
       "    </tr>\n",
       "    <tr>\n",
       "      <th>3</th>\n",
       "      <td>5</td>\n",
       "      <td>0</td>\n",
       "      <td>0</td>\n",
       "      <td>0</td>\n",
       "      <td>0</td>\n",
       "      <td>0</td>\n",
       "      <td>21</td>\n",
       "      <td>0</td>\n",
       "      <td>0</td>\n",
       "      <td>0</td>\n",
       "    </tr>\n",
       "    <tr>\n",
       "      <th>4</th>\n",
       "      <td>7</td>\n",
       "      <td>10</td>\n",
       "      <td>15</td>\n",
       "      <td>7</td>\n",
       "      <td>17</td>\n",
       "      <td>4</td>\n",
       "      <td>5</td>\n",
       "      <td>4</td>\n",
       "      <td>12</td>\n",
       "      <td>7</td>\n",
       "    </tr>\n",
       "    <tr>\n",
       "      <th>5</th>\n",
       "      <td>21</td>\n",
       "      <td>0</td>\n",
       "      <td>0</td>\n",
       "      <td>0</td>\n",
       "      <td>1</td>\n",
       "      <td>0</td>\n",
       "      <td>2</td>\n",
       "      <td>0</td>\n",
       "      <td>0</td>\n",
       "      <td>0</td>\n",
       "    </tr>\n",
       "    <tr>\n",
       "      <th>6</th>\n",
       "      <td>0</td>\n",
       "      <td>8</td>\n",
       "      <td>12</td>\n",
       "      <td>9</td>\n",
       "      <td>2</td>\n",
       "      <td>3</td>\n",
       "      <td>1</td>\n",
       "      <td>2</td>\n",
       "      <td>2</td>\n",
       "      <td>2</td>\n",
       "    </tr>\n",
       "    <tr>\n",
       "      <th>7</th>\n",
       "      <td>0</td>\n",
       "      <td>18</td>\n",
       "      <td>0</td>\n",
       "      <td>0</td>\n",
       "      <td>0</td>\n",
       "      <td>0</td>\n",
       "      <td>0</td>\n",
       "      <td>0</td>\n",
       "      <td>0</td>\n",
       "      <td>0</td>\n",
       "    </tr>\n",
       "    <tr>\n",
       "      <th>8</th>\n",
       "      <td>1</td>\n",
       "      <td>0</td>\n",
       "      <td>1</td>\n",
       "      <td>0</td>\n",
       "      <td>12</td>\n",
       "      <td>0</td>\n",
       "      <td>0</td>\n",
       "      <td>8</td>\n",
       "      <td>1</td>\n",
       "      <td>21</td>\n",
       "    </tr>\n",
       "    <tr>\n",
       "      <th>9</th>\n",
       "      <td>0</td>\n",
       "      <td>3</td>\n",
       "      <td>0</td>\n",
       "      <td>0</td>\n",
       "      <td>0</td>\n",
       "      <td>0</td>\n",
       "      <td>0</td>\n",
       "      <td>0</td>\n",
       "      <td>0</td>\n",
       "      <td>0</td>\n",
       "    </tr>\n",
       "  </tbody>\n",
       "</table>\n",
       "</div>"
      ],
      "text/plain": [
       "col_0   0   1   2   3   4   5   6   7   8   9\n",
       "row_0                                        \n",
       "0       0   0   0  18   0   3   0   0   6   1\n",
       "1       0   0   0   0   0   0   0  15   0   0\n",
       "2       0   0   0   0   0  13   0   0   0   0\n",
       "3       5   0   0   0   0   0  21   0   0   0\n",
       "4       7  10  15   7  17   4   5   4  12   7\n",
       "5      21   0   0   0   1   0   2   0   0   0\n",
       "6       0   8  12   9   2   3   1   2   2   2\n",
       "7       0  18   0   0   0   0   0   0   0   0\n",
       "8       1   0   1   0  12   0   0   8   1  21\n",
       "9       0   3   0   0   0   0   0   0   0   0"
      ]
     },
     "execution_count": 28,
     "metadata": {},
     "output_type": "execute_result"
    }
   ],
   "source": [
    "# Este es el resultado del SpectralClustering utilizando la descomposición por\n",
    "# eigenvectors con el número equivalente de dimensiones = 10\n",
    "pd.crosstab(soft_assign,y_train[:n_sample]) "
   ]
  },
  {
   "cell_type": "code",
   "execution_count": 35,
   "metadata": {},
   "outputs": [
    {
     "data": {
      "text/plain": [
       "array([4, 5, 8, 9, 8, 4, 6, 0, 6, 4, 4, 2, 6, 3, 7, 1, 8, 4, 3, 8, 6, 3,\n",
       "       4, 9, 4, 6, 8, 0, 6, 4, 6, 4, 3, 4, 3, 2, 4, 3, 8, 3, 7, 0, 8, 8,\n",
       "       4, 8, 4, 2, 6, 0, 4, 5, 1, 8, 8, 4, 5, 8, 8, 4, 5, 4, 3, 4, 4, 2,\n",
       "       3, 4, 5, 5, 6, 1, 7, 3, 6, 4, 6, 4, 7, 1, 0, 4, 4, 3, 8, 0, 6, 4,\n",
       "       5, 4, 3, 1, 8, 3, 4, 5, 8, 4, 4, 4, 6, 1, 7, 1, 6, 4, 4, 4, 5, 4,\n",
       "       8, 0, 7, 4, 5, 4, 8, 6, 4, 3, 6, 5, 6, 1, 7, 0, 4, 4, 4, 3, 4, 4,\n",
       "       4, 8, 6, 0, 6, 4, 0, 4, 4, 1, 8, 4, 6, 2, 4, 3, 4, 0, 4, 3, 7, 8,\n",
       "       8, 3, 5, 0, 6, 4, 4, 4, 8, 4, 8, 3, 4, 4, 4, 5, 8, 6, 8, 2, 7, 2,\n",
       "       8, 7, 4, 0, 4, 0, 0, 8, 6, 1, 6, 6, 8, 6, 4, 2, 4, 1, 8, 4, 6, 4,\n",
       "       6, 4, 6, 9, 4, 0, 3, 4, 5, 0, 7, 5, 4, 7, 8, 4, 8, 0, 8, 8, 3, 2,\n",
       "       6, 3, 6, 1, 4, 4, 8, 4, 6, 5, 1, 7, 3, 4, 4, 0, 4, 8, 3, 2, 6, 5,\n",
       "       0, 1, 4, 0, 5, 8, 6, 5, 6, 7, 6, 4, 4, 0, 4, 4, 8, 2, 5, 3, 4, 1,\n",
       "       8, 0, 6, 8, 6, 7, 7, 4, 8, 2, 4, 4, 7, 4, 0, 0, 8, 0, 6, 5, 6, 4,\n",
       "       5, 2, 8, 4, 7, 0, 4, 5, 8, 0, 5, 4, 6, 3])"
      ]
     },
     "execution_count": 35,
     "metadata": {},
     "output_type": "execute_result"
    }
   ],
   "source": [
    "soft_assign"
   ]
  },
  {
   "cell_type": "code",
   "execution_count": null,
   "metadata": {},
   "outputs": [],
   "source": []
  }
 ],
 "metadata": {
  "accelerator": "GPU",
  "colab": {
   "collapsed_sections": [],
   "name": "Seg Exp_ SSC_OMP con MNIST.ipynb",
   "provenance": [],
   "version": "0.3.2"
  },
  "kernelspec": {
   "display_name": "Python 3",
   "language": "python",
   "name": "python3"
  },
  "language_info": {
   "codemirror_mode": {
    "name": "ipython",
    "version": 3
   },
   "file_extension": ".py",
   "mimetype": "text/x-python",
   "name": "python",
   "nbconvert_exporter": "python",
   "pygments_lexer": "ipython3",
   "version": "3.6.6"
  },
  "toc": {
   "base_numbering": 1,
   "nav_menu": {},
   "number_sections": true,
   "sideBar": true,
   "skip_h1_title": false,
   "title_cell": "Table of Contents",
   "title_sidebar": "Contents",
   "toc_cell": false,
   "toc_position": {},
   "toc_section_display": true,
   "toc_window_display": false
  },
  "varInspector": {
   "cols": {
    "lenName": 16,
    "lenType": 16,
    "lenVar": 40
   },
   "kernels_config": {
    "python": {
     "delete_cmd_postfix": "",
     "delete_cmd_prefix": "del ",
     "library": "var_list.py",
     "varRefreshCmd": "print(var_dic_list())"
    },
    "r": {
     "delete_cmd_postfix": ") ",
     "delete_cmd_prefix": "rm(",
     "library": "var_list.r",
     "varRefreshCmd": "cat(var_dic_list()) "
    }
   },
   "types_to_exclude": [
    "module",
    "function",
    "builtin_function_or_method",
    "instance",
    "_Feature"
   ],
   "window_display": false
  }
 },
 "nbformat": 4,
 "nbformat_minor": 1
}
