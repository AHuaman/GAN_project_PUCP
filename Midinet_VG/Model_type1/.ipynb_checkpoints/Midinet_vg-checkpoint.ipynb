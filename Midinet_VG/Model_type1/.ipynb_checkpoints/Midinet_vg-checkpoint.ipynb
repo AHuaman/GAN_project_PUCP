{
 "cells": [
  {
   "cell_type": "code",
   "execution_count": 1,
   "metadata": {
    "colab": {},
    "colab_type": "code",
    "id": "zsLlD0-9JiTr"
   },
   "outputs": [
    {
     "name": "stderr",
     "output_type": "stream",
     "text": [
      "C:\\ProgramData\\Anaconda3\\lib\\site-packages\\h5py\\__init__.py:36: FutureWarning: Conversion of the second argument of issubdtype from `float` to `np.floating` is deprecated. In future, it will be treated as `np.float64 == np.dtype(float).type`.\n",
      "  from ._conv import register_converters as _register_converters\n"
     ]
    }
   ],
   "source": [
    "import tensorflow as tf\n",
    "import pickle\n",
    "import numpy as np\n",
    "import pandas as pd"
   ]
  },
  {
   "cell_type": "code",
   "execution_count": 2,
   "metadata": {
    "colab": {
     "base_uri": "https://localhost:8080/",
     "height": 319
    },
    "colab_type": "code",
    "id": "xPgWSsjr9rbc",
    "outputId": "cfbed504-bf6e-424c-cb08-24c8650fe3b6"
   },
   "outputs": [
    {
     "name": "stdout",
     "output_type": "stream",
     "text": [
      "Collecting PyDrive\n",
      "  Downloading https://files.pythonhosted.org/packages/52/e0/0e64788e5dd58ce2d6934549676243dc69d982f198524be9b99e9c2a4fd5/PyDrive-1.3.1.tar.gz (987kB)\n",
      "Collecting google-api-python-client>=1.2 (from PyDrive)\n",
      "  Downloading https://files.pythonhosted.org/packages/56/04/5259a17a16a779426f6e2ac62796135b0d4a59cf8033a21037fd4ba5bf81/google_api_python_client-1.7.4-py3-none-any.whl (55kB)\n",
      "Collecting oauth2client>=4.0.0 (from PyDrive)\n",
      "  Downloading https://files.pythonhosted.org/packages/95/a9/4f25a14d23f0786b64875b91784607c2277eff25d48f915e39ff0cff505a/oauth2client-4.1.3-py2.py3-none-any.whl (98kB)\n",
      "Requirement not upgraded as not directly required: PyYAML>=3.0 in c:\\programdata\\anaconda3\\lib\\site-packages (from PyDrive) (3.12)\n",
      "Collecting uritemplate<4dev,>=3.0.0 (from google-api-python-client>=1.2->PyDrive)\n",
      "  Downloading https://files.pythonhosted.org/packages/e5/7d/9d5a640c4f8bf2c8b1afc015e9a9d8de32e13c9016dcc4b0ec03481fb396/uritemplate-3.0.0-py2.py3-none-any.whl\n",
      "Requirement not upgraded as not directly required: six<2dev,>=1.6.1 in c:\\programdata\\anaconda3\\lib\\site-packages (from google-api-python-client>=1.2->PyDrive) (1.11.0)\n",
      "Collecting google-auth>=1.4.1 (from google-api-python-client>=1.2->PyDrive)\n",
      "  Downloading https://files.pythonhosted.org/packages/24/62/8b9612b1055cfbecd577e252446fe5f939f6818d0b7ddc27bb872f233cd4/google_auth-1.6.1-py2.py3-none-any.whl (68kB)\n",
      "Collecting google-auth-httplib2>=0.0.3 (from google-api-python-client>=1.2->PyDrive)\n",
      "  Downloading https://files.pythonhosted.org/packages/33/49/c814d6d438b823441552198f096fcd0377fd6c88714dbed34f1d3c8c4389/google_auth_httplib2-0.0.3-py2.py3-none-any.whl\n",
      "Collecting httplib2<1dev,>=0.9.2 (from google-api-python-client>=1.2->PyDrive)\n",
      "  Downloading https://files.pythonhosted.org/packages/fd/ce/aa4a385e3e9fd351737fd2b07edaa56e7a730448465aceda6b35086a0d9b/httplib2-0.11.3.tar.gz (215kB)\n",
      "Collecting rsa>=3.1.4 (from oauth2client>=4.0.0->PyDrive)\n",
      "  Downloading https://files.pythonhosted.org/packages/02/e5/38518af393f7c214357079ce67a317307936896e961e35450b70fad2a9cf/rsa-4.0-py2.py3-none-any.whl\n",
      "Collecting pyasn1-modules>=0.0.5 (from oauth2client>=4.0.0->PyDrive)\n",
      "  Downloading https://files.pythonhosted.org/packages/19/02/fa63f7ba30a0d7b925ca29d034510fc1ffde53264b71b4155022ddf3ab5d/pyasn1_modules-0.2.2-py2.py3-none-any.whl (62kB)\n",
      "Collecting pyasn1>=0.1.7 (from oauth2client>=4.0.0->PyDrive)\n",
      "  Downloading https://files.pythonhosted.org/packages/d1/a1/7790cc85db38daa874f6a2e6308131b9953feb1367f2ae2d1123bb93a9f5/pyasn1-0.4.4-py2.py3-none-any.whl (72kB)\n",
      "Collecting cachetools>=2.0.0 (from google-auth>=1.4.1->google-api-python-client>=1.2->PyDrive)\n",
      "  Downloading https://files.pythonhosted.org/packages/76/7e/08cd3846bebeabb6b1cfc4af8aae649d90249b4aeed080bddb5297f1d73b/cachetools-3.0.0-py2.py3-none-any.whl\n",
      "Building wheels for collected packages: PyDrive, httplib2\n",
      "  Running setup.py bdist_wheel for PyDrive: started\n",
      "  Running setup.py bdist_wheel for PyDrive: finished with status 'done'\n",
      "  Stored in directory: C:\\Users\\Gustavo\\AppData\\Local\\pip\\Cache\\wheels\\fa\\d2\\9a\\d3b6b506c2da98289e5d417215ce34b696db856643bad779f4\n",
      "  Running setup.py bdist_wheel for httplib2: started\n",
      "  Running setup.py bdist_wheel for httplib2: finished with status 'done'\n",
      "  Stored in directory: C:\\Users\\Gustavo\\AppData\\Local\\pip\\Cache\\wheels\\1b\\9c\\9e\\1f6fdb21dbb1fe6a99101d697f12cb8c1fa96c1587df69adba\n",
      "Successfully built PyDrive httplib2\n",
      "Installing collected packages: uritemplate, pyasn1, rsa, pyasn1-modules, cachetools, google-auth, httplib2, google-auth-httplib2, google-api-python-client, oauth2client, PyDrive\n",
      "Successfully installed PyDrive-1.3.1 cachetools-3.0.0 google-api-python-client-1.7.4 google-auth-1.6.1 google-auth-httplib2-0.0.3 httplib2-0.11.3 oauth2client-4.1.3 pyasn1-0.4.4 pyasn1-modules-0.2.2 rsa-4.0 uritemplate-3.0.0\n"
     ]
    },
    {
     "name": "stderr",
     "output_type": "stream",
     "text": [
      "distributed 1.20.2 requires msgpack-python, which is not installed.\n",
      "You are using pip version 10.0.1, however version 18.1 is available.\n",
      "You should consider upgrading via the 'python -m pip install --upgrade pip' command.\n"
     ]
    }
   ],
   "source": [
    "!pip install -U PyDrive"
   ]
  },
  {
   "cell_type": "code",
   "execution_count": 6,
   "metadata": {
    "colab": {},
    "colab_type": "code",
    "id": "b4SwC9ea9uI5"
   },
   "outputs": [],
   "source": [
    "#Import authentication libraries\n",
    "\n",
    "# from google.colab import auth\n",
    "from pydrive.auth import GoogleAuth\n",
    "from pydrive.drive import GoogleDrive\n",
    "from oauth2client.client import GoogleCredentials"
   ]
  },
  {
   "cell_type": "code",
   "execution_count": null,
   "metadata": {
    "colab": {},
    "colab_type": "code",
    "id": "cN5MzVEF9y7E"
   },
   "outputs": [],
   "source": [
    "# auth.authenticate_user()\n",
    "gauth = GoogleAuth()\n",
    "gauth.credentials = GoogleCredentials.get_application_default()\n",
    "drive = GoogleDrive(gauth)"
   ]
  },
  {
   "cell_type": "code",
   "execution_count": 0,
   "metadata": {
    "colab": {},
    "colab_type": "code",
    "id": "wln-wC4aHWHy"
   },
   "outputs": [],
   "source": [
    "folder_id='1uXkcRXuQ5fFG0S8mLW67ewj_jsqAb_Ff'"
   ]
  },
  {
   "cell_type": "code",
   "execution_count": 8,
   "metadata": {
    "colab": {
     "base_uri": "https://localhost:8080/",
     "height": 151
    },
    "colab_type": "code",
    "id": "Nl-diLK0-9UL",
    "outputId": "a0e473b1-a532-4629-adb4-0e7c3dffe717"
   },
   "outputs": [
    {
     "name": "stdout",
     "output_type": "stream",
     "text": [
      "title: song6_5tracks_72measures.pickle, id: 1ERVco5q1ZMwV1hGOJvgCwJqIOLWQPeuz\n",
      "title: song5_5tracks_65measures.pickle, id: 1j0SlX-LDG0S-mWAvm9j41Ei4OE5HO2yi\n",
      "title: song1_5tracks_98measures.pickle, id: 12x6wKA-j-72_GvCuB354Uf3O6Wbyh6cz\n",
      "title: song4_5tracks_59measures.pickle, id: 19hDuxKplbAMTWDWzSjyug972FOabhipU\n",
      "title: song3_1tracks_98measures.pickle, id: 1-USl2EA_QdbXgoFc8zYKlT-LLZes9Z_F\n",
      "title: song7_5tracks_157measures.pickle, id: 1WsKUxQ2OJmdrJkq8epEfS8yacNH_MZCJ\n",
      "title: song2_5tracks_103measures.pickle, id: 1sho2Eno5CDH0vzXuzMvj98CeAvS3cf32\n",
      "title: song0_5tracks_128measures.pickle, id: 1nn6zWV1Mix3hmp9b6b9YfYu7ZBKC-NFB\n"
     ]
    }
   ],
   "source": [
    "# Auto-iterate through all files in the midi folder.\n",
    "file_list = drive.ListFile({'q': \"'{0}' in parents and trashed=false\".format(folder_id)}).GetList()\n",
    "for file1 in file_list:\n",
    "  print('title: {0}, id: {1}'.format(file1['title'], file1['id']))"
   ]
  },
  {
   "cell_type": "code",
   "execution_count": 210,
   "metadata": {
    "colab": {
     "base_uri": "https://localhost:8080/",
     "height": 34
    },
    "colab_type": "code",
    "id": "O_eZFrRjSlGw",
    "outputId": "86f74a0f-ef36-4046-cc42-308b710ebe39"
   },
   "outputs": [
    {
     "data": {
      "text/plain": [
       "65"
      ]
     },
     "execution_count": 210,
     "metadata": {
      "tags": []
     },
     "output_type": "execute_result"
    }
   ],
   "source": [
    "song_opened = open('song5_5tracks_65measures.pickle',\"rb\")\n",
    "song_loaded= pickle.load(song_opened)\n",
    "len(song_loaded[1])"
   ]
  },
  {
   "cell_type": "code",
   "execution_count": 206,
   "metadata": {
    "colab": {
     "base_uri": "https://localhost:8080/",
     "height": 34
    },
    "colab_type": "code",
    "id": "odHFnueRSsjD",
    "outputId": "a2e530be-4fb8-462b-80fc-f33cac91018f"
   },
   "outputs": [
    {
     "data": {
      "text/plain": [
       "72"
      ]
     },
     "execution_count": 206,
     "metadata": {
      "tags": []
     },
     "output_type": "execute_result"
    }
   ],
   "source": [
    "np.array(song_loaded).shape\n",
    "len(song_loaded[1])"
   ]
  },
  {
   "cell_type": "code",
   "execution_count": 0,
   "metadata": {
    "colab": {},
    "colab_type": "code",
    "id": "b8hWXhkOECVP"
   },
   "outputs": [],
   "source": [
    "# Download all midi files\n",
    "for file1 in file_list:\n",
    "  file_id=file1['id']\n",
    "  file_title = file1['title']\n",
    "  drive.CreateFile({'id': file_id}).GetContentFile(file_title)\n",
    "  "
   ]
  },
  {
   "cell_type": "code",
   "execution_count": 0,
   "metadata": {
    "colab": {},
    "colab_type": "code",
    "id": "n_HCdPhRQbNz"
   },
   "outputs": [],
   "source": [
    "from os import listdir\n",
    "from os.path import isfile, join"
   ]
  },
  {
   "cell_type": "code",
   "execution_count": 0,
   "metadata": {
    "colab": {},
    "colab_type": "code",
    "id": "QSvst7nFQhQb"
   },
   "outputs": [],
   "source": [
    "folder=!pwd"
   ]
  },
  {
   "cell_type": "code",
   "execution_count": 0,
   "metadata": {
    "colab": {},
    "colab_type": "code",
    "id": "svj4H-45V72z"
   },
   "outputs": [],
   "source": [
    "songs=[f for f in listdir(folder[0])]\n",
    "songs=songs[2:-1]"
   ]
  },
  {
   "cell_type": "code",
   "execution_count": 221,
   "metadata": {
    "colab": {
     "base_uri": "https://localhost:8080/",
     "height": 151
    },
    "colab_type": "code",
    "id": "yr1muOuFLwtz",
    "outputId": "379316b9-1703-4383-c5dc-2e35488ed0c5"
   },
   "outputs": [
    {
     "name": "stdout",
     "output_type": "stream",
     "text": [
      "(98, 16, 128)\n",
      "(163, 16, 128)\n",
      "(261, 16, 128)\n",
      "(320, 16, 128)\n",
      "(392, 16, 128)\n",
      "(495, 16, 128)\n",
      "(652, 16, 128)\n",
      "(780, 16, 128)\n"
     ]
    }
   ],
   "source": [
    "data_songs=np.empty((0,16,128), int)\n",
    "for song in songs:\n",
    "  song_opened = open(song,\"rb\")\n",
    "  song_loaded= pickle.load(song_opened)\n",
    "  #for track 1\n",
    "  for i in range(len(song_loaded[0])):\n",
    "    bar=np.empty((0,128), int)[None]\n",
    "    for j in song_loaded[0][i]:\n",
    "      note=np.zeros(128)[None][None]\n",
    "      if type(j) == type(1.5):\n",
    "        note[0,0,int(j)] = 1\n",
    "      bar=np.append(bar,note,axis=1)\n",
    "    data_songs =np.append(data_songs,bar, axis=0)\n",
    "  print(np.array(data_songs).shape)\n"
   ]
  },
  {
   "cell_type": "code",
   "execution_count": 0,
   "metadata": {
    "colab": {},
    "colab_type": "code",
    "id": "XCMRauAuK8y3"
   },
   "outputs": [],
   "source": []
  }
 ],
 "metadata": {
  "accelerator": "GPU",
  "colab": {
   "collapsed_sections": [],
   "name": "Untitled3.ipynb",
   "provenance": [],
   "version": "0.3.2"
  },
  "kernelspec": {
   "display_name": "Python 3",
   "language": "python",
   "name": "python3"
  },
  "language_info": {
   "codemirror_mode": {
    "name": "ipython",
    "version": 3
   },
   "file_extension": ".py",
   "mimetype": "text/x-python",
   "name": "python",
   "nbconvert_exporter": "python",
   "pygments_lexer": "ipython3",
   "version": "3.6.6"
  }
 },
 "nbformat": 4,
 "nbformat_minor": 1
}
