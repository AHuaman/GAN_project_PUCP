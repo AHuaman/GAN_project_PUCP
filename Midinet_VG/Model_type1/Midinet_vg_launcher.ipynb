{
 "cells": [
  {
   "cell_type": "code",
   "execution_count": 1,
   "metadata": {
    "colab": {},
    "colab_type": "code",
    "id": "zsLlD0-9JiTr"
   },
   "outputs": [
    {
     "name": "stderr",
     "output_type": "stream",
     "text": [
      "C:\\ProgramData\\Anaconda3\\lib\\site-packages\\h5py\\__init__.py:36: FutureWarning: Conversion of the second argument of issubdtype from `float` to `np.floating` is deprecated. In future, it will be treated as `np.float64 == np.dtype(float).type`.\n",
      "  from ._conv import register_converters as _register_converters\n"
     ]
    }
   ],
   "source": [
    "import tensorflow as tf\n",
    "import pickle\n",
    "import numpy as np\n",
    "import pandas as pd"
   ]
  },
  {
   "cell_type": "code",
   "execution_count": null,
   "metadata": {
    "colab": {
     "base_uri": "https://localhost:8080/",
     "height": 319
    },
    "colab_type": "code",
    "id": "xPgWSsjr9rbc",
    "outputId": "cfbed504-bf6e-424c-cb08-24c8650fe3b6"
   },
   "outputs": [],
   "source": [
    "# # !pip install -U PyDrive\n",
    "# from tensorflow.python.client import device_lib\n",
    "# print(device_lib.list_local_devices())\n"
   ]
  },
  {
   "cell_type": "code",
   "execution_count": null,
   "metadata": {},
   "outputs": [],
   "source": [
    "# from pydrive.auth import GoogleAuth\n",
    "# from pydrive.drive import GoogleDrive\n",
    "\n",
    "# gauth = GoogleAuth()\n",
    "# # Try to load saved client credentials\n",
    "# gauth.LoadCredentialsFile(\"mycreds.txt\")\n",
    "# if gauth.credentials is None:\n",
    "#     # Authenticate if they're not there\n",
    "#     gauth.LocalWebserverAuth()\n",
    "# elif gauth.access_token_expired:\n",
    "#     # Refresh them if expired\n",
    "#     gauth.Refresh()\n",
    "# else:\n",
    "#     # Initialize the saved creds\n",
    "#     gauth.Authorize()\n",
    "# # Save the current credentials to a file\n",
    "# gauth.SaveCredentialsFile(\"mycreds.txt\")\n",
    "\n",
    "# drive = GoogleDrive(gauth)\n"
   ]
  },
  {
   "cell_type": "code",
   "execution_count": null,
   "metadata": {},
   "outputs": [],
   "source": []
  },
  {
   "cell_type": "code",
   "execution_count": null,
   "metadata": {
    "colab": {},
    "colab_type": "code",
    "id": "b4SwC9ea9uI5"
   },
   "outputs": [],
   "source": [
    "#Import authentication libraries\n",
    "\n",
    "# from google.colab import auth\n",
    "# from pydrive.auth import GoogleAuth\n",
    "# from pydrive.drive import GoogleDrive\n",
    "# from oauth2client.client import GoogleCredentials"
   ]
  },
  {
   "cell_type": "code",
   "execution_count": null,
   "metadata": {
    "colab": {},
    "colab_type": "code",
    "id": "cN5MzVEF9y7E"
   },
   "outputs": [],
   "source": [
    "# auth.authenticate_user()\n",
    "# gauth = GoogleAuth()\n",
    "# gauth.credentials = GoogleCredentials.get_application_default()\n",
    "# drive = GoogleDrive(gauth)"
   ]
  },
  {
   "cell_type": "code",
   "execution_count": null,
   "metadata": {
    "colab": {},
    "colab_type": "code",
    "id": "wln-wC4aHWHy"
   },
   "outputs": [],
   "source": [
    "# folder_id='1uXkcRXuQ5fFG0S8mLW67ewj_jsqAb_Ff'"
   ]
  },
  {
   "cell_type": "code",
   "execution_count": null,
   "metadata": {
    "colab": {
     "base_uri": "https://localhost:8080/",
     "height": 151
    },
    "colab_type": "code",
    "id": "Nl-diLK0-9UL",
    "outputId": "a0e473b1-a532-4629-adb4-0e7c3dffe717"
   },
   "outputs": [],
   "source": [
    "# # Auto-iterate through all files in the midi folder.\n",
    "# file_list = drive.ListFile({'q': \"'{0}' in parents and trashed=false\".format(folder_id)}).GetList()\n",
    "# for file1 in file_list:\n",
    "#   print('title: {0}, id: {1}'.format(file1['title'], file1['id']))"
   ]
  },
  {
   "cell_type": "code",
   "execution_count": null,
   "metadata": {
    "colab": {},
    "colab_type": "code",
    "id": "b8hWXhkOECVP"
   },
   "outputs": [],
   "source": [
    "# # Download all midi files\n",
    "# for file1 in file_list:\n",
    "#   file_id=file1['id']\n",
    "#   file_title = file1['title']\n",
    "#   drive.CreateFile({'id': file_id}).GetContentFile(file_title)\n",
    "  "
   ]
  },
  {
   "cell_type": "code",
   "execution_count": 2,
   "metadata": {
    "colab": {},
    "colab_type": "code",
    "id": "n_HCdPhRQbNz"
   },
   "outputs": [],
   "source": [
    "from os import listdir\n",
    "from os.path import isfile, join"
   ]
  },
  {
   "cell_type": "code",
   "execution_count": 3,
   "metadata": {
    "colab": {},
    "colab_type": "code",
    "id": "QSvst7nFQhQb"
   },
   "outputs": [
    {
     "name": "stdout",
     "output_type": "stream",
     "text": [
      "C:\\Users\\Gustavo\\Documents\\GitHub\\GAN_project_PUCP\\Midinet_VG\\Model_type1\n"
     ]
    }
   ],
   "source": [
    "echo %cd%"
   ]
  },
  {
   "cell_type": "code",
   "execution_count": 4,
   "metadata": {},
   "outputs": [],
   "source": [
    "folder ='C:/Users/Gustavo/Documents/GitHub/GAN_project_PUCP/Midinet_VG/Model_type1'\n"
   ]
  },
  {
   "cell_type": "code",
   "execution_count": 93,
   "metadata": {
    "colab": {},
    "colab_type": "code",
    "id": "svj4H-45V72z"
   },
   "outputs": [
    {
     "data": {
      "text/plain": [
       "['song0_5tracks_128measures.pickle',\n",
       " 'song1_5tracks_98measures.pickle',\n",
       " 'song2_5tracks_103measures.pickle',\n",
       " 'song3_1tracks_98measures.pickle',\n",
       " 'song4_5tracks_59measures.pickle',\n",
       " 'song5_5tracks_65measures.pickle',\n",
       " 'song6_5tracks_72measures.pickle',\n",
       " 'song7_5tracks_157measures.pickle',\n",
       " 'song_1445_5tracks_34measures.pickle',\n",
       " 'song_Battle1_5tracks_54measures.pickle',\n",
       " 'song_Battlethemeremix_5tracks_38measures.pickle',\n",
       " 'song_bkgr_freezing_furnace_5tracks_120measures.pickle',\n",
       " 'song_Bricksterbots_4tracks_33measures.pickle',\n",
       " 'song_CVAoS-DanceHall_5tracks_186measures.pickle',\n",
       " 'song_CVAoS-TheArena_5tracks_201measures.pickle',\n",
       " 'song_DE-AW2Opening_5tracks_19measures.pickle',\n",
       " 'song_Donut_Plains_Remix_5tracks_100measures.pickle',\n",
       " 'song_F-Zero_GP_Legend_-_Fire_Field_5tracks_98measures.pickle',\n",
       " 'song_FF5_HOM2_5tracks_96measures.pickle',\n",
       " 'song_FFGBAstage1_5tracks_53measures.pickle',\n",
       " 'song_FZC_Silence-KM_5tracks_129measures.pickle',\n",
       " 'song_gba-pkmnfrlg-profoakencounter_5tracks_42measures.pickle',\n",
       " 'song_GS_MercuryLighthouse_5tracks_72measures.pickle',\n",
       " 'song_hm-mmbn2www_error.pickle',\n",
       " 'song_ManaHolySword_5tracks_141measures.pickle',\n",
       " 'song_mkscboopier_5tracks_80measures.pickle',\n",
       " 'song_MKSCMenuext_5tracks_88measures.pickle',\n",
       " 'song_MMBCC-RegularMatch_XG_5tracks_110measures.pickle',\n",
       " 'song_mmbn3_SecretArea_Blue_5tracks_118measures.pickle',\n",
       " 'song_mmbn4_NaviCustomizer_Blue_5tracks_106measures.pickle',\n",
       " 'song_MMBN5ATotalWarGM_5tracks_55measures.pickle',\n",
       " 'song_MMBN5KnightMagnetGM_5tracks_51measures.pickle',\n",
       " 'song_MMBN5VictoryGM_5tracks_20measures.pickle',\n",
       " 'song_mmz2_FinalStage_Blue_5tracks_209measures.pickle',\n",
       " 'song_MMZ_Series_-_Neo_Arcadia_-Medley-_5tracks_145measures.pickle',\n",
       " 'song_mtPyre_by_maximohoundoom_2_5tracks_36measures.pickle',\n",
       " 'song_Pinobee_Victory_Dance_4tracks_14measures.pickle',\n",
       " 'song_PkmRS-Trick_5tracks_49measures.pickle',\n",
       " 'song_pkr_5tracks_97measures.pickle',\n",
       " 'song_prselite4drama_5tracks_93measures.pickle',\n",
       " 'song_RSETrainerBattle_5tracks_37measures.pickle',\n",
       " 'song_Running_To_The_Match_5tracks_82measures.pickle',\n",
       " 'song_sa2_boss_xg_5tracks_31measures.pickle',\n",
       " 'song_sadvgba_act1end_3tracks_3measures.pickle',\n",
       " 'song_SkyCanyonZoneAct1_5tracks_76measures.pickle',\n",
       " 'song_SonicAdvance3_-_TwinkleSnowArrangeXG_5tracks_101measures.pickle',\n",
       " 'song_SonicAdvance3_TwinkleSnow1_5tracks_147measures.pickle',\n",
       " 'song_Sonic_Advance_-_Angel_Island_Zone_1_5tracks_83measures.pickle',\n",
       " 'song_Sonic_Advance_3_-_Zone_5_-_Twinkle_Snow_Act_1_5tracks_97measures.pickle',\n",
       " 'song_sonic_factory_5tracks_71measures.pickle',\n",
       " 'song_spyro-ten-gba_gaul_5tracks_61measures.pickle',\n",
       " 'song_spyro_adventure-chateau_ripto_3tracks_58measures.pickle',\n",
       " 'song_TitleScreenGM_5tracks_120measures.pickle',\n",
       " 'song_Ttawspmc_5tracks_637measures.pickle',\n",
       " 'song_T_LadySia_Act1_5tracks_58measures.pickle',\n",
       " 'song_T_MetroidFusion_B-O-XBossTheme_5tracks_31measures.pickle',\n",
       " 'song_T_MetroidFusion_GameOverTheme_4tracks_16measures.pickle',\n",
       " 'song_Wario_-_The_Toxic_Landfill_5tracks_74measures.pickle']"
      ]
     },
     "execution_count": 93,
     "metadata": {},
     "output_type": "execute_result"
    }
   ],
   "source": [
    "songs=list(filter(lambda x: 'pickle' in x, listdir(folder)))\n",
    "songs"
   ]
  },
  {
   "cell_type": "code",
   "execution_count": 94,
   "metadata": {
    "colab": {},
    "colab_type": "code",
    "id": "XCMRauAuK8y3"
   },
   "outputs": [
    {
     "name": "stdout",
     "output_type": "stream",
     "text": [
      "(128, 16, 128) song= song0_5tracks_128measures.pickle (5, 128, 16)\n",
      "(226, 16, 128) song= song1_5tracks_98measures.pickle (5, 98, 16)\n",
      "(329, 16, 128) song= song2_5tracks_103measures.pickle (5, 103, 16)\n",
      "(427, 16, 128) song= song3_1tracks_98measures.pickle (1, 98, 16)\n",
      "(486, 16, 128) song= song4_5tracks_59measures.pickle (5, 59, 16)\n",
      "(551, 16, 128) song= song5_5tracks_65measures.pickle (5, 65, 16)\n",
      "(623, 16, 128) song= song6_5tracks_72measures.pickle (5, 72, 16)\n",
      "(780, 16, 128) song= song7_5tracks_157measures.pickle (5, 157, 16)\n",
      "(814, 16, 128) song= song_1445_5tracks_34measures.pickle (5, 34, 16)\n",
      "(868, 16, 128) song= song_Battle1_5tracks_54measures.pickle (5, 54, 16)\n",
      "(906, 16, 128) song= song_Battlethemeremix_5tracks_38measures.pickle (5, 38, 16)\n",
      "(1026, 16, 128) song= song_bkgr_freezing_furnace_5tracks_120measures.pickle (5, 120, 16)\n",
      "(1059, 16, 128) song= song_Bricksterbots_4tracks_33measures.pickle (4, 33, 16)\n",
      "(1245, 16, 128) song= song_CVAoS-DanceHall_5tracks_186measures.pickle (5, 186, 16)\n",
      "(1446, 16, 128) song= song_CVAoS-TheArena_5tracks_201measures.pickle (5, 201, 16)\n",
      "(1465, 16, 128) song= song_DE-AW2Opening_5tracks_19measures.pickle (5, 19, 16)\n",
      "(1565, 16, 128) song= song_Donut_Plains_Remix_5tracks_100measures.pickle (5, 100, 16)\n",
      "(1663, 16, 128) song= song_F-Zero_GP_Legend_-_Fire_Field_5tracks_98measures.pickle (5, 98, 16)\n",
      "(1759, 16, 128) song= song_FF5_HOM2_5tracks_96measures.pickle (5, 96, 16)\n",
      "(1812, 16, 128) song= song_FFGBAstage1_5tracks_53measures.pickle (5, 53, 16)\n",
      "(1941, 16, 128) song= song_FZC_Silence-KM_5tracks_129measures.pickle (5, 129, 16)\n",
      "(1983, 16, 128) song= song_gba-pkmnfrlg-profoakencounter_5tracks_42measures.pickle (5, 42, 16)\n",
      "(2055, 16, 128) song= song_GS_MercuryLighthouse_5tracks_72measures.pickle (5, 72, 16)\n",
      "error parsing\n",
      "(2196, 16, 128) song= song_ManaHolySword_5tracks_141measures.pickle (5, 141, 16)\n",
      "(2276, 16, 128) song= song_mkscboopier_5tracks_80measures.pickle (5, 80, 16)\n",
      "(2364, 16, 128) song= song_MKSCMenuext_5tracks_88measures.pickle (5, 88, 16)\n",
      "(2474, 16, 128) song= song_MMBCC-RegularMatch_XG_5tracks_110measures.pickle (5, 110, 16)\n",
      "(2592, 16, 128) song= song_mmbn3_SecretArea_Blue_5tracks_118measures.pickle (5, 118, 16)\n",
      "(2698, 16, 128) song= song_mmbn4_NaviCustomizer_Blue_5tracks_106measures.pickle (5, 106, 16)\n",
      "(2753, 16, 128) song= song_MMBN5ATotalWarGM_5tracks_55measures.pickle (5, 55, 16)\n",
      "(2804, 16, 128) song= song_MMBN5KnightMagnetGM_5tracks_51measures.pickle (5, 51, 16)\n",
      "(2824, 16, 128) song= song_MMBN5VictoryGM_5tracks_20measures.pickle (5, 20, 16)\n",
      "(3033, 16, 128) song= song_mmz2_FinalStage_Blue_5tracks_209measures.pickle (5, 209, 16)\n",
      "(3178, 16, 128) song= song_MMZ_Series_-_Neo_Arcadia_-Medley-_5tracks_145measures.pickle (5, 145, 16)\n",
      "(3214, 16, 128) song= song_mtPyre_by_maximohoundoom_2_5tracks_36measures.pickle (5, 36, 16)\n",
      "(3228, 16, 128) song= song_Pinobee_Victory_Dance_4tracks_14measures.pickle (4, 14, 16)\n",
      "(3277, 16, 128) song= song_PkmRS-Trick_5tracks_49measures.pickle (5, 49, 16)\n",
      "(3374, 16, 128) song= song_pkr_5tracks_97measures.pickle (5, 97, 16)\n",
      "(3467, 16, 128) song= song_prselite4drama_5tracks_93measures.pickle (5, 93, 16)\n",
      "(3504, 16, 128) song= song_RSETrainerBattle_5tracks_37measures.pickle (5, 37, 16)\n",
      "(3586, 16, 128) song= song_Running_To_The_Match_5tracks_82measures.pickle (5, 82, 16)\n",
      "(3617, 16, 128) song= song_sa2_boss_xg_5tracks_31measures.pickle (5, 31, 16)\n",
      "(3620, 16, 128) song= song_sadvgba_act1end_3tracks_3measures.pickle (3, 3, 16)\n",
      "(3696, 16, 128) song= song_SkyCanyonZoneAct1_5tracks_76measures.pickle (5, 76, 16)\n",
      "(3797, 16, 128) song= song_SonicAdvance3_-_TwinkleSnowArrangeXG_5tracks_101measures.pickle (5, 101, 16)\n",
      "(3944, 16, 128) song= song_SonicAdvance3_TwinkleSnow1_5tracks_147measures.pickle (5, 147, 16)\n",
      "(4027, 16, 128) song= song_Sonic_Advance_-_Angel_Island_Zone_1_5tracks_83measures.pickle (5, 83, 16)\n",
      "(4124, 16, 128) song= song_Sonic_Advance_3_-_Zone_5_-_Twinkle_Snow_Act_1_5tracks_97measures.pickle (5, 97, 16)\n",
      "(4195, 16, 128) song= song_sonic_factory_5tracks_71measures.pickle (5, 71, 16)\n",
      "(4256, 16, 128) song= song_spyro-ten-gba_gaul_5tracks_61measures.pickle (5, 61, 16)\n",
      "(4314, 16, 128) song= song_spyro_adventure-chateau_ripto_3tracks_58measures.pickle (3, 58, 16)\n",
      "(4434, 16, 128) song= song_TitleScreenGM_5tracks_120measures.pickle (5, 120, 16)\n",
      "(5071, 16, 128) song= song_Ttawspmc_5tracks_637measures.pickle (5, 637, 16)\n",
      "(5129, 16, 128) song= song_T_LadySia_Act1_5tracks_58measures.pickle (5, 58, 16)\n",
      "(5160, 16, 128) song= song_T_MetroidFusion_B-O-XBossTheme_5tracks_31measures.pickle (5, 31, 16)\n",
      "(5176, 16, 128) song= song_T_MetroidFusion_GameOverTheme_4tracks_16measures.pickle (4, 16, 16)\n",
      "(5250, 16, 128) song= song_Wario_-_The_Toxic_Landfill_5tracks_74measures.pickle (5, 74, 16)\n"
     ]
    }
   ],
   "source": [
    "data_songs=np.empty((0,16,128), int)\n",
    "for song in songs:\n",
    "    try:  \n",
    "      song_opened = open(song,\"rb\")\n",
    "      song_loaded= pickle.load(song_opened)\n",
    "      #for track 1\n",
    "      for i in range(len(song_loaded[0])):\n",
    "        bar=np.empty((0,128), int)[None]\n",
    "        for j in song_loaded[0][i]:\n",
    "          note=np.zeros(128)[None][None]\n",
    "          if type(j) == type(1.5):\n",
    "            note[0,0,int(j)] = 1\n",
    "          bar=np.append(bar,note,axis=1)\n",
    "        data_songs =np.append(data_songs,bar, axis=0)\n",
    "      print(np.array(data_songs).shape,'song=',song,np.array(song_loaded).shape)\n",
    "    except:\n",
    "        print('error parsing')\n",
    "data_songs_prev =np.roll(data_songs,1,axis=0)\n",
    "data_songs=data_songs[None]\n",
    "data_songs_prev=data_songs_prev[None]"
   ]
  },
  {
   "cell_type": "code",
   "execution_count": 172,
   "metadata": {},
   "outputs": [
    {
     "data": {
      "text/plain": [
       "3"
      ]
     },
     "execution_count": 172,
     "metadata": {},
     "output_type": "execute_result"
    }
   ],
   "source": [
    "\n",
    "import random\n",
    "a = [1, 2, 3, 4, 5,6,7,8]\n",
    "random.randint(0,len(a)-1)"
   ]
  },
  {
   "cell_type": "code",
   "execution_count": null,
   "metadata": {},
   "outputs": [],
   "source": []
  },
  {
   "cell_type": "code",
   "execution_count": null,
   "metadata": {},
   "outputs": [],
   "source": []
  },
  {
   "cell_type": "code",
   "execution_count": 95,
   "metadata": {},
   "outputs": [
    {
     "name": "stdout",
     "output_type": "stream",
     "text": [
      "(1, 5250, 16, 128)\n",
      "(1, 5250, 16, 128)\n",
      "(5250, 1, 16, 128)\n",
      "(5250, 1, 16, 128)\n"
     ]
    }
   ],
   "source": [
    "print(data_songs.shape)\n",
    "print(data_songs_prev.shape)\n",
    "data_songs=np.transpose(data_songs, (1,0,2,3))#Real data, input for model\n",
    "data_songs_prev=np.transpose(data_songs_prev, (1,0,2,3))#Real data, 1 previous bar, input for model\n",
    "print(data_songs.shape)\n",
    "print(data_songs_prev.shape)"
   ]
  },
  {
   "cell_type": "code",
   "execution_count": 109,
   "metadata": {},
   "outputs": [],
   "source": [
    "np.save('data_songs.npy', data_songs, allow_pickle=True, fix_imports=True)\n",
    "np.save('data_songs_prev.npy', data_songs, allow_pickle=True, fix_imports=True)"
   ]
  },
  {
   "cell_type": "code",
   "execution_count": 110,
   "metadata": {},
   "outputs": [
    {
     "data": {
      "text/plain": [
       "(500, 2048)"
      ]
     },
     "execution_count": 110,
     "metadata": {},
     "output_type": "execute_result"
    }
   ],
   "source": [
    "data_test = np.load('data_songs.npy')\n",
    "data_test.squeeze().reshape(len(data_test),16*128)[0:500].shape\n"
   ]
  },
  {
   "cell_type": "code",
   "execution_count": 111,
   "metadata": {},
   "outputs": [],
   "source": [
    "testo=data_test.squeeze().reshape(len(data_test),16*128)[0:500]"
   ]
  },
  {
   "cell_type": "code",
   "execution_count": 113,
   "metadata": {},
   "outputs": [
    {
     "name": "stderr",
     "output_type": "stream",
     "text": [
      "C:\\ProgramData\\Anaconda3\\lib\\site-packages\\sklearn\\linear_model\\omp.py:657: RuntimeWarning:  Orthogonal matching pursuit ended prematurely due to linear\n",
      "dependence in the dictionary. The requested precision might not have been met.\n",
      "\n",
      "  return_n_iter=True)\n",
      "C:\\ProgramData\\Anaconda3\\lib\\site-packages\\sklearn\\manifold\\spectral_embedding_.py:234: UserWarning: Graph is not fully connected, spectral embedding may not work as expected.\n",
      "  warnings.warn(\"Graph is not fully connected, spectral embedding\"\n"
     ]
    }
   ],
   "source": [
    "a,b = ssc_mps_modificado(testo,10,20)"
   ]
  },
  {
   "cell_type": "code",
   "execution_count": 1,
   "metadata": {
    "scrolled": true
   },
   "outputs": [
    {
     "name": "stderr",
     "output_type": "stream",
     "text": [
      "C:\\ProgramData\\Anaconda3\\lib\\site-packages\\h5py\\__init__.py:36: FutureWarning: Conversion of the second argument of issubdtype from `float` to `np.floating` is deprecated. In future, it will be treated as `np.float64 == np.dtype(float).type`.\n",
      "  from ._conv import register_converters as _register_converters\n"
     ]
    },
    {
     "name": "stdout",
     "output_type": "stream",
     "text": [
      "{'batch_size': <absl.flags._flag.Flag object at 0x00000235A5458630>,\n",
      " 'beta1': <absl.flags._flag.Flag object at 0x000002359FA7F2B0>,\n",
      " 'c_dim': <absl.flags._flag.Flag object at 0x00000235A5458748>,\n",
      " 'checkpoint_dir': <absl.flags._flag.Flag object at 0x00000235A54587F0>,\n",
      " 'dataset': <absl.flags._flag.Flag object at 0x00000235A5458940>,\n",
      " 'epoch': <absl.flags._flag.Flag object at 0x000002359FA6DDD8>,\n",
      " 'gen_dir': <absl.flags._flag.Flag object at 0x00000235A5458B38>,\n",
      " 'generation_test': <absl.flags._flag.BooleanFlag object at 0x00000235A5458B70>,\n",
      " 'h': <tensorflow.python.platform.app._HelpFlag object at 0x00000235A5458C50>,\n",
      " 'help': <tensorflow.python.platform.app._HelpFlag object at 0x00000235A5458C50>,\n",
      " 'helpfull': <tensorflow.python.platform.app._HelpfullFlag object at 0x00000235A5458CF8>,\n",
      " 'helpshort': <tensorflow.python.platform.app._HelpshortFlag object at 0x00000235A5458D68>,\n",
      " 'is_crop': <absl.flags._flag.BooleanFlag object at 0x00000235A5458AC8>,\n",
      " 'is_train': <absl.flags._flag.BooleanFlag object at 0x00000235A5458A58>,\n",
      " 'learning_rate': <absl.flags._flag.Flag object at 0x00000235A5354EB8>,\n",
      " 'output_h': <absl.flags._flag.Flag object at 0x00000235A54586A0>,\n",
      " 'output_w': <absl.flags._flag.Flag object at 0x00000235A54585F8>,\n",
      " 'sample_dir': <absl.flags._flag.Flag object at 0x00000235A5458898>}\n",
      " [*] Reading checkpoints...\n",
      " [!] Load failed...\n",
      "Epoch: [ 0] [   0/   4] time: 3.3171, d_loss: 1.39161539, g_loss: 68.09981537\n",
      "[Sample] d_loss: 1.38438821, g_loss: 68.36049652\n",
      "Epoch: [ 0] [   1/   4] time: 3.7310, d_loss: 1.34990025, g_loss: 67.59416962\n",
      "Epoch: [ 0] [   2/   4] time: 3.8208, d_loss: 1.30859447, g_loss: 67.68338776\n",
      "Epoch: [ 0] [   3/   4] time: 3.9126, d_loss: 1.28640771, g_loss: 59.51669312\n",
      "Epoch: [ 0] time: 3.9126, d_loss: 0.32160193\n",
      "Epoch: [ 1] [   0/   4] time: 3.9983, d_loss: 1.22067094, g_loss: 65.87696838\n",
      "Epoch: [ 1] [   1/   4] time: 4.0831, d_loss: 1.19430196, g_loss: 65.08886719\n",
      "Epoch: [ 1] [   2/   4] time: 4.1689, d_loss: 1.14864326, g_loss: 65.11251831\n",
      "Epoch: [ 1] [   3/   4] time: 4.2556, d_loss: 1.13083577, g_loss: 57.06724548\n",
      "Epoch: [ 1] time: 4.2556, d_loss: 0.28270894\n",
      "Epoch: [ 2] [   0/   4] time: 4.3424, d_loss: 1.08164740, g_loss: 63.22821045\n",
      "Epoch: [ 2] [   1/   4] time: 4.4312, d_loss: 1.04009044, g_loss: 62.18432999\n",
      "Epoch: [ 2] [   2/   4] time: 4.5269, d_loss: 1.00832176, g_loss: 62.12750244\n",
      "Epoch: [ 2] [   3/   4] time: 4.6127, d_loss: 0.99630857, g_loss: 54.20790100\n",
      "Epoch: [ 2] time: 4.6127, d_loss: 0.24907714\n",
      "Epoch: [ 3] [   0/   4] time: 4.6994, d_loss: 0.94702137, g_loss: 59.84162521\n",
      "Epoch: [ 3] [   1/   4] time: 4.7832, d_loss: 0.92919570, g_loss: 58.28753281\n",
      "Epoch: [ 3] [   2/   4] time: 4.8680, d_loss: 0.93967390, g_loss: 57.51457214\n",
      "Epoch: [ 3] [   3/   4] time: 4.9568, d_loss: 0.96916521, g_loss: 49.61458588\n",
      "Epoch: [ 3] time: 4.9568, d_loss: 0.24229130\n",
      "Epoch: [ 4] [   0/   4] time: 5.0435, d_loss: 1.01523042, g_loss: 53.28378296\n",
      "Epoch: [ 4] [   1/   4] time: 5.1313, d_loss: 1.06753886, g_loss: 50.82108688\n",
      "Epoch: [ 4] [   2/   4] time: 5.2201, d_loss: 1.05751014, g_loss: 50.58432770\n",
      "Epoch: [ 4] [   3/   4] time: 5.3078, d_loss: 1.01470399, g_loss: 44.69281387\n",
      "Epoch: [ 4] time: 5.3078, d_loss: 0.25367600\n",
      "Epoch: [ 5] [   0/   4] time: 5.3926, d_loss: 0.96524000, g_loss: 48.99934006\n",
      "Epoch: [ 5] [   1/   4] time: 5.4814, d_loss: 0.94506085, g_loss: 47.10732269\n",
      "Epoch: [ 5] [   2/   4] time: 5.5681, d_loss: 0.92527771, g_loss: 47.20895386\n",
      "Epoch: [ 5] [   3/   4] time: 5.6549, d_loss: 0.91552138, g_loss: 41.06904984\n",
      "Epoch: [ 5] time: 5.6549, d_loss: 0.22888035\n",
      "Epoch: [ 6] [   0/   4] time: 5.7427, d_loss: 0.90702683, g_loss: 44.67563629\n",
      "Epoch: [ 6] [   1/   4] time: 5.8284, d_loss: 0.92269897, g_loss: 43.10212326\n",
      "Epoch: [ 6] [   2/   4] time: 5.9152, d_loss: 0.90180147, g_loss: 43.38194275\n",
      "Epoch: [ 6] [   3/   4] time: 6.0020, d_loss: 0.90263873, g_loss: 37.91022110\n",
      "Epoch: [ 6] time: 6.0020, d_loss: 0.22565968\n",
      "Epoch: [ 7] [   0/   4] time: 6.0878, d_loss: 0.86319107, g_loss: 41.56474304\n",
      "Epoch: [ 7] [   1/   4] time: 6.1735, d_loss: 0.85473490, g_loss: 40.06587982\n",
      "Epoch: [ 7] [   2/   4] time: 6.2663, d_loss: 0.82954609, g_loss: 40.32949066\n",
      "Epoch: [ 7] [   3/   4] time: 6.3510, d_loss: 0.84019530, g_loss: 35.35464859\n",
      "Epoch: [ 7] time: 6.3510, d_loss: 0.21004882\n",
      "Epoch: [ 8] [   0/   4] time: 6.4378, d_loss: 0.81477720, g_loss: 38.50183868\n",
      "Epoch: [ 8] [   1/   4] time: 6.5266, d_loss: 0.82797909, g_loss: 37.02046585\n",
      "Epoch: [ 8] [   2/   4] time: 6.6133, d_loss: 0.81468976, g_loss: 37.40549850\n",
      "Epoch: [ 8] [   3/   4] time: 6.6981, d_loss: 0.80668592, g_loss: 33.44474411\n",
      "Epoch: [ 8] time: 6.6981, d_loss: 0.20167148\n",
      "Epoch: [ 9] [   0/   4] time: 6.7869, d_loss: 0.77000672, g_loss: 36.34555054\n",
      "Epoch: [ 9] [   1/   4] time: 6.8726, d_loss: 0.76979762, g_loss: 35.18076324\n",
      "Epoch: [ 9] [   2/   4] time: 6.9584, d_loss: 0.74953711, g_loss: 35.44401932\n",
      "Epoch: [ 9] [   3/   4] time: 7.0452, d_loss: 0.76114285, g_loss: 31.78261185\n",
      "Epoch: [ 9] time: 7.0462, d_loss: 0.19028571\n"
     ]
    },
    {
     "ename": "SystemExit",
     "evalue": "",
     "output_type": "error",
     "traceback": [
      "An exception has occurred, use %tb to see the full traceback.\n",
      "\u001b[1;31mSystemExit\u001b[0m\n"
     ]
    },
    {
     "name": "stderr",
     "output_type": "stream",
     "text": [
      "C:\\ProgramData\\Anaconda3\\lib\\site-packages\\IPython\\core\\interactiveshell.py:2918: UserWarning: To exit: use 'exit', 'quit', or Ctrl-D.\n",
      "  warn(\"To exit: use 'exit', 'quit', or Ctrl-D.\", stacklevel=1)\n"
     ]
    }
   ],
   "source": [
    "import os\n",
    "import scipy.misc\n",
    "import numpy as np\n",
    "from model import MidiNet #Llamando el modelo Utilizar model2 para eliminar silencios\n",
    "from utils import pp, to_json, generation_test\n",
    "\n",
    "# os.environ[\"CUDA_VISIBLE_DEVICES\"] = '0'\n",
    "\n",
    "import tensorflow as tf\n",
    "\n",
    "flags = tf.app.flags\n",
    "flags.DEFINE_integer(\"epoch\", 10, \"Epoch to train [20]\")\n",
    "flags.DEFINE_float(\"learning_rate\", 0.00005, \"Learning rate of for adam [0.0002]\")\n",
    "flags.DEFINE_float(\"beta1\", 0.5, \"Momentum term of adam [0.5]\")\n",
    "flags.DEFINE_integer(\"batch_size\", 120, \"The size of batch [120]\")\n",
    "flags.DEFINE_integer(\"output_w\", 16, \"The size of the output segs to produce [16]\")\n",
    "flags.DEFINE_integer(\"output_h\", 128, \"The size of the output note to produce [128]\")\n",
    "flags.DEFINE_integer(\"c_dim\", 1, \"Number of Midi track. [1]\")\n",
    "flags.DEFINE_string(\"checkpoint_dir\", \"checkpoint\", \"Directory name to save the checkpoints [checkpoint]\")\n",
    "flags.DEFINE_string(\"sample_dir\", \"samples\", \"Dircacectory name to save the image samples [samples]\")\n",
    "flags.DEFINE_string(\"dataset\", \"MidiNet_vg\", \"The name of dataset \")\n",
    "flags.DEFINE_boolean(\"is_train\", True, \"True for training, False for testing [False]\")\n",
    "flags.DEFINE_boolean(\"is_crop\", False, \"True for training, False for testing [False]\")\n",
    "flags.DEFINE_boolean(\"generation_test\", False, \"True for generation_test, False for nothing [False]\")\n",
    "flags.DEFINE_string(\"gen_dir\", \"gen\", \"Directory name to save the generate samples [samples]\")\n",
    "FLAGS = flags.FLAGS\n",
    "\n",
    "def main(_):\n",
    "    pp.pprint(flags.FLAGS.__flags)\n",
    "\n",
    "    if not os.path.exists(FLAGS.checkpoint_dir):\n",
    "        os.makedirs(FLAGS.checkpoint_dir)\n",
    "    if not os.path.exists(FLAGS.sample_dir):\n",
    "        os.makedirs(FLAGS.sample_dir)\n",
    "    if not os.path.exists(FLAGS.gen_dir):\n",
    "        os.makedirs(FLAGS.gen_dir)\n",
    "\n",
    "    with tf.Session() as sess:\n",
    "        if FLAGS.dataset == 'MidiNet_vg':\n",
    "            model = MidiNet(sess, batch_size=FLAGS.batch_size, output_w=FLAGS.output_w, output_h=FLAGS.output_h, c_dim=FLAGS.c_dim,\n",
    "                    dataset_name=FLAGS.dataset, is_crop=FLAGS.is_crop, checkpoint_dir=FLAGS.checkpoint_dir, sample_dir=FLAGS.sample_dir, \n",
    "                            gen_dir=FLAGS.gen_dir)\n",
    "        \n",
    "        if FLAGS.is_train:\n",
    "            model.train(FLAGS)\n",
    "        else:\n",
    "            model.load(FLAGS.checkpoint_dir)\n",
    "\n",
    "        \n",
    "\n",
    "if __name__ == '__main__':\n",
    "    tf.app.run()"
   ]
  },
  {
   "cell_type": "code",
   "execution_count": null,
   "metadata": {},
   "outputs": [],
   "source": [
    "!tensorboard --logdir /logs"
   ]
  },
  {
   "cell_type": "code",
   "execution_count": null,
   "metadata": {},
   "outputs": [],
   "source": [
    "# !pip install music21"
   ]
  },
  {
   "cell_type": "code",
   "execution_count": 23,
   "metadata": {},
   "outputs": [],
   "source": [
    "folder_png ='C:/Users/Gustavo/Documents/GitHub/GAN_project_PUCP/Midinet_VG/Model_type1/samples'\n",
    "import os\n",
    "import numpy as np\n",
    "import matplotlib.pyplot as plt\n",
    "import music21"
   ]
  },
  {
   "cell_type": "code",
   "execution_count": 24,
   "metadata": {},
   "outputs": [],
   "source": [
    "def generate_midis(png_dir):\n",
    "    for f in os.listdir(png_dir):    \n",
    "        image_plt = plt.imread(os.path.join(png_dir,f))\n",
    "        image_arr = np.array(image_plt)\n",
    "        r_song = []\n",
    "        for i in range(0,640,128):\n",
    "            print(i)\n",
    "            r_measure = []\n",
    "            for j in range(0,16):\n",
    "                measure = image_arr[j][i:i+128]\n",
    "                #print(len(measure))\n",
    "                r_measure.append([0 if x[0]<0.65 else x[0] for x in measure])\n",
    "            r_song.append(r_measure)\n",
    "        new_test_stream = music21.stream.Stream()\n",
    "        sup = r_song\n",
    "        new_track = music21.stream.Part()\n",
    "        for j in range(0,len(sup)):\n",
    "            measure = sup[j]\n",
    "            for k in range(0,len(measure)):\n",
    "                if sum(measure[k]) == 0 :\n",
    "                    new_track.append(music21.note.Rest(type='16th'))\n",
    "                else:\n",
    "                    note_value = np.argmax(measure[k])\n",
    "                    new_track.append(music21.note.Note(note_value, type='16th'))\n",
    "        new_test_stream.append(new_track)\n",
    "        new_test_stream.write('midi',f.split('.png')[0]+'.mid')\n",
    "        new_test_stream.show('midi') "
   ]
  },
  {
   "cell_type": "code",
   "execution_count": 25,
   "metadata": {},
   "outputs": [
    {
     "name": "stdout",
     "output_type": "stream",
     "text": [
      "0\n",
      "128\n",
      "256\n",
      "384\n",
      "512\n"
     ]
    },
    {
     "data": {
      "text/html": [
       "\n",
       "                <div id='midiPlayerDiv1205'></div>\n",
       "                <link rel=\"stylesheet\" href=\"//cuthbertLab.github.io/music21j/css/m21.css\"\n",
       "                    type=\"text/css\" />\n",
       "                <script>\n",
       "                require.config({\n",
       "                    paths: {'music21': '//cuthbertLab.github.io/music21j/src/music21'}\n",
       "                });\n",
       "                require(['music21'], function() {\n",
       "                               mp = new music21.miditools.MidiPlayer();\n",
       "                               mp.addPlayer('#midiPlayerDiv1205');\n",
       "                               mp.base64Load('data:audio/midi;base64,TVRoZAAAAAYAAQABBABNVHJrAAAA4gD/AwAA4ABAAJAsWoIAgCwAjgCQKFqCAIAoAIIAkClaggCAKQCKAJBeWoIAgF4AngCQJFqCAIAkAIQAkC5aggCALgCGAJAqWoIAgCoAhgCQLlqCAIAuAIYAkCpaggCAKgAAkCpaggCAKgCEAJAuWoIAgC4AhgCQKlqCAIAqAIYAkC5aggCALgCGAJAqWoIAgCoAhACQQFqCAIBAAIIAkDxaggCAPACCAJA/WoIAgD8AAJA/WoIAgD8AAJA+WoIAgD4AAJA+WoIAgD4AAJA+WoIAgD4AAJA+WoIAgD4AiAD/LwA=');\n",
       "                        });\n",
       "                </script>"
      ],
      "text/plain": [
       "<IPython.core.display.HTML object>"
      ]
     },
     "metadata": {},
     "output_type": "display_data"
    },
    {
     "name": "stdout",
     "output_type": "stream",
     "text": [
      "0\n",
      "128\n",
      "256\n",
      "384\n",
      "512\n"
     ]
    },
    {
     "data": {
      "text/html": [
       "\n",
       "                <div id='midiPlayerDiv2411'></div>\n",
       "                <link rel=\"stylesheet\" href=\"//cuthbertLab.github.io/music21j/css/m21.css\"\n",
       "                    type=\"text/css\" />\n",
       "                <script>\n",
       "                require.config({\n",
       "                    paths: {'music21': '//cuthbertLab.github.io/music21j/src/music21'}\n",
       "                });\n",
       "                require(['music21'], function() {\n",
       "                               mp = new music21.miditools.MidiPlayer();\n",
       "                               mp.addPlayer('#midiPlayerDiv2411');\n",
       "                               mp.base64Load('data:audio/midi;base64,TVRoZAAAAAYAAQABBABNVHJrAAAC3QD/AwAA4ABAAJA0WoIAgDQAAJAdWoIAgB0AAJAmWoIAgCYAAJBAWoIAgEAAAJBUWoIAgFQAAJA+WoIAgD4AAJAaWoIAgBoAAJBsWoIAgGwAAJAhWoIAgCEAAJAlWoIAgCUAAJAhWoIAgCEAAJBwWoIAgHAAAJAkWoIAgCQAAJAmWoIAgCYAAJAdWoIAgB0AAJAaWoIAgBoAAJAOWoIAgA4AAJAqWoIAgCoAAJAhWoIAgCEAAJBsWoIAgGwAAJBEWoIAgEQAAJBcWoIAgFwAAJAhWoIAgCEAAJAaWoIAgBoAAJAzWoIAgDMAAJAaWoIAgBoAAJBUWoIAgFQAAJBsWoIAgGwAAJBEWoIAgEQAAJBGWoIAgEYAAJBYWoIAgFgAAJBwWoIAgHAAAJAdWoIAgB0AAJAaWoIAgBoAAJBcWoIAgFwAAJA0WoIAgDQAAJBLWoIAgEsAAJBYWoIAgFgAAJAaWoIAgBoAAJBRWoIAgFEAAJAYWoIAgBgAAJAaWoIAgBoAAJAeWoIAgB4AAJAaWoIAgBoAAJBYWoIAgFgAAJAmWoIAgCYAAJAaWoIAgBoAAJBXWoIAgFcAAJBEWoIAgEQAAJBYWoIAgFgAAJAhWoIAgCEAAJAsWoIAgCwAAJA0WoIAgDQAAJAhWoIAgCEAAJBYWoIAgFgAAJAaWoIAgBoAAJBBWoIAgEEAAJAaWoIAgBoAAJBvWoIAgG8AAJBsWoIAgGwAAJBYWoIAgFgAAJAaWoIAgBoAAJBUWoIAgFQAAJAaWoIAgBoAAJBEWoIAgEQAAJBRWoIAgFEAAJBCWoIAgEIAAJBYWoIAgFgAAJBEWoIAgEQAAJAmWoIAgCYAAJAhWoIAgCEAAJA8WoIAgDwAAJBcWoIAgFwAAJBCWoIAgEIAAJBBWoIAgEEAAJA0WoIAgDQAAJATWoIAgBMAAJBYWoIAgFgAAJBUWoIAgFQAAJBBWoIAgEEAiAD/LwA=');\n",
       "                        });\n",
       "                </script>"
      ],
      "text/plain": [
       "<IPython.core.display.HTML object>"
      ]
     },
     "metadata": {},
     "output_type": "display_data"
    },
    {
     "name": "stdout",
     "output_type": "stream",
     "text": [
      "0\n",
      "128\n",
      "256\n",
      "384\n",
      "512\n"
     ]
    },
    {
     "data": {
      "text/html": [
       "\n",
       "                <div id='midiPlayerDiv3617'></div>\n",
       "                <link rel=\"stylesheet\" href=\"//cuthbertLab.github.io/music21j/css/m21.css\"\n",
       "                    type=\"text/css\" />\n",
       "                <script>\n",
       "                require.config({\n",
       "                    paths: {'music21': '//cuthbertLab.github.io/music21j/src/music21'}\n",
       "                });\n",
       "                require(['music21'], function() {\n",
       "                               mp = new music21.miditools.MidiPlayer();\n",
       "                               mp.addPlayer('#midiPlayerDiv3617');\n",
       "                               mp.base64Load('data:audio/midi;base64,TVRoZAAAAAYAAQABBABNVHJrAAABAwD/AwAA4ABAAJAqWoIAgCoAggCQKlqCAIAqAIIAkC5aggCALgCGAJAqWoIAgCoAggCQKlqCAIAqAIIAkC5aggCALgCGAJAmWoIAgCYAggCQUFqCAIBQAACQKlqCAIAqAIgAkCNaggCAIwCGAJAuWoIAgC4AhgCQJlqCAIAmAIIAkCNaggCAIwAAkCpaggCAKgCIAJAmWoIAgCYAggCQI1qCAIAjAACQKlqCAIAqAIgAkCRaggCAJACGAJAuWoIAgC4AhgCQI1qCAIAjAIYAkC5aggCALgCGAJAmWoIAgCYAjgCQJlqCAIAmAIYAkC5aggCALgCEAJAqWoIAgCoAiAD/LwA=');\n",
       "                        });\n",
       "                </script>"
      ],
      "text/plain": [
       "<IPython.core.display.HTML object>"
      ]
     },
     "metadata": {},
     "output_type": "display_data"
    },
    {
     "name": "stdout",
     "output_type": "stream",
     "text": [
      "0\n",
      "128\n",
      "256\n",
      "384\n",
      "512\n"
     ]
    },
    {
     "data": {
      "text/html": [
       "\n",
       "                <div id='midiPlayerDiv4823'></div>\n",
       "                <link rel=\"stylesheet\" href=\"//cuthbertLab.github.io/music21j/css/m21.css\"\n",
       "                    type=\"text/css\" />\n",
       "                <script>\n",
       "                require.config({\n",
       "                    paths: {'music21': '//cuthbertLab.github.io/music21j/src/music21'}\n",
       "                });\n",
       "                require(['music21'], function() {\n",
       "                               mp = new music21.miditools.MidiPlayer();\n",
       "                               mp.addPlayer('#midiPlayerDiv4823');\n",
       "                               mp.base64Load('data:audio/midi;base64,TVRoZAAAAAYAAQABBABNVHJrAAAA9gD/AwAA4ABAAJAqWoIAgCoAhgCQKlqCAIAqAIYAkCpaggCAKgCGAJAqWoIAgCoAhgCQKlqCAIAqAIYAkCpaggCAKgCMAJAuWoIAgC4AiACQLlqCAIAuAIIAkC5aggCALgAAkCpaggCAKgAAkC5aggCALgCCAJAuWoIAgC4AAJAqWoIAgCoAiACQJlqCAIAmAIYAkFNaggCAUwCOAJAkWoIAgCQAhgCQKlqCAIAqAIYAkFNaggCAUwCMAJAqWoIAgCoAAJAmWoIAgCYAggCQJlqCAIAmAACQKlqCAIAqAIQAkCZaggCAJgAAkCpaggCAKgCIAP8vAA==');\n",
       "                        });\n",
       "                </script>"
      ],
      "text/plain": [
       "<IPython.core.display.HTML object>"
      ]
     },
     "metadata": {},
     "output_type": "display_data"
    },
    {
     "name": "stdout",
     "output_type": "stream",
     "text": [
      "0\n",
      "128\n",
      "256\n",
      "384\n",
      "512\n"
     ]
    },
    {
     "data": {
      "text/html": [
       "\n",
       "                <div id='midiPlayerDiv6029'></div>\n",
       "                <link rel=\"stylesheet\" href=\"//cuthbertLab.github.io/music21j/css/m21.css\"\n",
       "                    type=\"text/css\" />\n",
       "                <script>\n",
       "                require.config({\n",
       "                    paths: {'music21': '//cuthbertLab.github.io/music21j/src/music21'}\n",
       "                });\n",
       "                require(['music21'], function() {\n",
       "                               mp = new music21.miditools.MidiPlayer();\n",
       "                               mp.addPlayer('#midiPlayerDiv6029');\n",
       "                               mp.base64Load('data:audio/midi;base64,TVRoZAAAAAYAAQABBABNVHJrAAABKAD/AwAA4ABAAJAqWoIAgCoAiACQKlqCAIAqAACQKlqCAIAqAIIAkCpaggCAKgCGAJAkWoIAgCQAAJAqWoIAgCoAAJAkWoIAgCQAhgCQLlqCAIAuAACQLlqCAIAuAIgAkCNaggCAIwCGAJAuWoIAgC4AggCQLlqCAIAuAIYAkCpaggCAKgCCAJAqWoIAgCoAggCQKlqCAIAqAIYAkCpaggCAKgAAkCpaggCAKgCEAJAuWoIAgC4AigCQLlqCAIAuAIYAkCNaggCAIwCGAJAuWoIAgC4AigCQLlqCAIAuAIIAkCZaggCAJgCCAJAuWoIAgC4AggCQKlqCAIAqAIIAkC5aggCALgCCAJAuWoIAgC4AggCQLlqCAIAuAACQKlqCAIAqAIgA/y8A');\n",
       "                        });\n",
       "                </script>"
      ],
      "text/plain": [
       "<IPython.core.display.HTML object>"
      ]
     },
     "metadata": {},
     "output_type": "display_data"
    },
    {
     "name": "stdout",
     "output_type": "stream",
     "text": [
      "0\n",
      "128\n",
      "256\n",
      "384\n",
      "512\n"
     ]
    },
    {
     "data": {
      "text/html": [
       "\n",
       "                <div id='midiPlayerDiv7235'></div>\n",
       "                <link rel=\"stylesheet\" href=\"//cuthbertLab.github.io/music21j/css/m21.css\"\n",
       "                    type=\"text/css\" />\n",
       "                <script>\n",
       "                require.config({\n",
       "                    paths: {'music21': '//cuthbertLab.github.io/music21j/src/music21'}\n",
       "                });\n",
       "                require(['music21'], function() {\n",
       "                               mp = new music21.miditools.MidiPlayer();\n",
       "                               mp.addPlayer('#midiPlayerDiv7235');\n",
       "                               mp.base64Load('data:audio/midi;base64,TVRoZAAAAAYAAQABBABNVHJrAAABcwD/AwAA4ABAAJAkWoIAgCQAAJAqWoIAgCoAAJAmWoIAgCYAAJAqWoIAgCoAhACQKlqCAIAqAACQKlqCAIAqAIQAkCpaggCAKgAAkCpaggCAKgCEAJAmWoIAgCYAAJAqWoIAgCoAAJAqWoIAgCoAAJAqWoIAgCoAhACQKlqCAIAqAIYAkCZaggCAJgAAkCpaggCAKgCCAJAuWoIAgC4AAJAmWoIAgCYAhgCQKlqCAIAqAIYAkCZaggCAJgAAkCpaggCAKgCMAJAqWoIAgCoAAJAqWoIAgCoAiACQKlqCAIAqAACQKlqCAIAqAIQAkCZaggCAJgAAkCpaggCAKgAAkCpaggCAKgAAkCpaggCAKgCEAJAqWoIAgCoAAJAqWoIAgCoAiACQJlqCAIAmAACQKlqCAIAqAACQJlqCAIAmAIIAkCZaggCAJgAAkCpaggCAKgAAkCZaggCAJgCGAJAmWoIAgCYAggCQJlqCAIAmAIgA/y8A');\n",
       "                        });\n",
       "                </script>"
      ],
      "text/plain": [
       "<IPython.core.display.HTML object>"
      ]
     },
     "metadata": {},
     "output_type": "display_data"
    },
    {
     "name": "stdout",
     "output_type": "stream",
     "text": [
      "0\n",
      "128\n",
      "256\n",
      "384\n",
      "512\n"
     ]
    },
    {
     "data": {
      "text/html": [
       "\n",
       "                <div id='midiPlayerDiv8441'></div>\n",
       "                <link rel=\"stylesheet\" href=\"//cuthbertLab.github.io/music21j/css/m21.css\"\n",
       "                    type=\"text/css\" />\n",
       "                <script>\n",
       "                require.config({\n",
       "                    paths: {'music21': '//cuthbertLab.github.io/music21j/src/music21'}\n",
       "                });\n",
       "                require(['music21'], function() {\n",
       "                               mp = new music21.miditools.MidiPlayer();\n",
       "                               mp.addPlayer('#midiPlayerDiv8441');\n",
       "                               mp.base64Load('data:audio/midi;base64,TVRoZAAAAAYAAQABBABNVHJrAAABSwD/AwAA4ABAAJAkWoIAgCQAAJAqWoIAgCoAhACQJFqCAIAkAACQKlqCAIAqAACQJFqCAIAkAIoAkCRaggCAJAAAkCpaggCAKgAAkCRaggCAJACCAJAqWoIAgCoAggCQKlqCAIAqAIIAkCpaggCAKgCCAJAqWoIAgCoAggCQKlqCAIAqAIIAkCpaggCAKgCCAJAqWoIAgCoAggCQKlqCAIAqAIYAkC5aggCALgAAkC5aggCALgCMAJAuWoIAgC4AAJAuWoIAgC4AhACQLlqCAIAuAIQAkCpaggCAKgAAkCpaggCAKgCCAJAqWoIAgCoAggCQKlqCAIAqAIQAkCpaggCAKgAAkCRaggCAJAAAkCpaggCAKgCGAJAqWoIAgCoAkACQI1qCAIAjAACQJlqCAIAmAIQAkC5aggCALgCCAJAuWoIAgC4AiAD/LwA=');\n",
       "                        });\n",
       "                </script>"
      ],
      "text/plain": [
       "<IPython.core.display.HTML object>"
      ]
     },
     "metadata": {},
     "output_type": "display_data"
    },
    {
     "name": "stdout",
     "output_type": "stream",
     "text": [
      "0\n",
      "128\n",
      "256\n",
      "384\n",
      "512\n"
     ]
    },
    {
     "data": {
      "text/html": [
       "\n",
       "                <div id='midiPlayerDiv9647'></div>\n",
       "                <link rel=\"stylesheet\" href=\"//cuthbertLab.github.io/music21j/css/m21.css\"\n",
       "                    type=\"text/css\" />\n",
       "                <script>\n",
       "                require.config({\n",
       "                    paths: {'music21': '//cuthbertLab.github.io/music21j/src/music21'}\n",
       "                });\n",
       "                require(['music21'], function() {\n",
       "                               mp = new music21.miditools.MidiPlayer();\n",
       "                               mp.addPlayer('#midiPlayerDiv9647');\n",
       "                               mp.base64Load('data:audio/midi;base64,TVRoZAAAAAYAAQABBABNVHJrAAABIgD/AwAA4ABAAJAqWoIAgCoAhgCQKlqCAIAqAIYAkCpaggCAKgCGAJAqWoIAgCoAhgCQKlqCAIAqAACQKlqCAIAqAIYAkC5aggCALgCCAJAuWoIAgC4AhgCQLlqCAIAuAACQJlqCAIAmAACQJlqCAIAmAACQKlqCAIAqAIIAkC5aggCALgAAkCZaggCAJgAAkC5aggCALgCCAJAuWoIAgC4AggCQLlqCAIAuAACQJlqCAIAmAJAAkCZaggCAJgCOAJAkWoIAgCQAAJAqWoIAgCoAAJAmWoIAgCYAggCQKlqCAIAqAACQKlqCAIAqAIQAkCpaggCAKgCSAJAmWoIAgCYAAJAqWoIAgCoAhACQJlqCAIAmAACQKlqCAIAqAIgA/y8A');\n",
       "                        });\n",
       "                </script>"
      ],
      "text/plain": [
       "<IPython.core.display.HTML object>"
      ]
     },
     "metadata": {},
     "output_type": "display_data"
    },
    {
     "name": "stdout",
     "output_type": "stream",
     "text": [
      "0\n",
      "128\n",
      "256\n",
      "384\n",
      "512\n"
     ]
    },
    {
     "data": {
      "text/html": [
       "\n",
       "                <div id='midiPlayerDiv10853'></div>\n",
       "                <link rel=\"stylesheet\" href=\"//cuthbertLab.github.io/music21j/css/m21.css\"\n",
       "                    type=\"text/css\" />\n",
       "                <script>\n",
       "                require.config({\n",
       "                    paths: {'music21': '//cuthbertLab.github.io/music21j/src/music21'}\n",
       "                });\n",
       "                require(['music21'], function() {\n",
       "                               mp = new music21.miditools.MidiPlayer();\n",
       "                               mp.addPlayer('#midiPlayerDiv10853');\n",
       "                               mp.base64Load('data:audio/midi;base64,TVRoZAAAAAYAAQABBABNVHJrAAAA6wD/AwAA4ABAhACQLlqCAIAuAJoAkCpaggCAKgCCAJAuWoIAgC4AggCQI1qCAIAjAACQJlqCAIAmAIQAkCNaggCAIwAAkCZaggCAJgAAkC5aggCALgCCAJAuWoIAgC4AggCQLlqCAIAuAIgAkCpaggCAKgCCAJAqWoIAgCoAAJAkWoIAgCQAAJAqWoIAgCoAAJAqWoIAgCoAhgCQJFqCAIAkAACQKlqCAIAqAIwAkC5aggCALgCOAJAuWoIAgC4AlgCQI1qCAIAjAACQJlqCAIAmAIQAkC5aggCALgCCAJAuWoIAgC4AiAD/LwA=');\n",
       "                        });\n",
       "                </script>"
      ],
      "text/plain": [
       "<IPython.core.display.HTML object>"
      ]
     },
     "metadata": {},
     "output_type": "display_data"
    },
    {
     "name": "stdout",
     "output_type": "stream",
     "text": [
      "0\n",
      "128\n",
      "256\n",
      "384\n",
      "512\n"
     ]
    },
    {
     "data": {
      "text/html": [
       "\n",
       "                <div id='midiPlayerDiv12059'></div>\n",
       "                <link rel=\"stylesheet\" href=\"//cuthbertLab.github.io/music21j/css/m21.css\"\n",
       "                    type=\"text/css\" />\n",
       "                <script>\n",
       "                require.config({\n",
       "                    paths: {'music21': '//cuthbertLab.github.io/music21j/src/music21'}\n",
       "                });\n",
       "                require(['music21'], function() {\n",
       "                               mp = new music21.miditools.MidiPlayer();\n",
       "                               mp.addPlayer('#midiPlayerDiv12059');\n",
       "                               mp.base64Load('data:audio/midi;base64,TVRoZAAAAAYAAQABBABNVHJrAAABbAD/AwAA4ABAAJAqWoIAgCoAAJAqWoIAgCoAAJAmWoIAgCYAggCQKlqCAIAqAIIAkCpaggCAKgAAkCZaggCAJgCEAJAqWoIAgCoAAJAqWoIAgCoAhACQHlqCAIAeAACQKlqCAIAqAACQKlqCAIAqAIYAkCpaggCAKgCCAJAqWoIAgCoAigCQJlqCAIAmAIYAkCpaggCAKgCGAJAkWoIAgCQAAJAkWoIAgCQAAJAqWoIAgCoAggCQKlqCAIAqAIYAkCpaggCAKgCCAJAqWoIAgCoAhgCQKlqCAIAqAACQKlqCAIAqAIQAkB5aggCAHgAAkCpaggCAKgAAkCpaggCAKgAAkCpaggCAKgCEAJAqWoIAgCoAAJAqWoIAgCoAiACQJlqCAIAmAACQKlqCAIAqAIQAkCZaggCAJgAAkCpaggCAKgAAkCpaggCAKgCIAJAuWoIAgC4AAJAmWoIAgCYAAJAqWoIAgCoAiAD/LwA=');\n",
       "                        });\n",
       "                </script>"
      ],
      "text/plain": [
       "<IPython.core.display.HTML object>"
      ]
     },
     "metadata": {},
     "output_type": "display_data"
    },
    {
     "name": "stdout",
     "output_type": "stream",
     "text": [
      "0\n",
      "128\n",
      "256\n",
      "384\n",
      "512\n"
     ]
    },
    {
     "data": {
      "text/html": [
       "\n",
       "                <div id='midiPlayerDiv13265'></div>\n",
       "                <link rel=\"stylesheet\" href=\"//cuthbertLab.github.io/music21j/css/m21.css\"\n",
       "                    type=\"text/css\" />\n",
       "                <script>\n",
       "                require.config({\n",
       "                    paths: {'music21': '//cuthbertLab.github.io/music21j/src/music21'}\n",
       "                });\n",
       "                require(['music21'], function() {\n",
       "                               mp = new music21.miditools.MidiPlayer();\n",
       "                               mp.addPlayer('#midiPlayerDiv13265');\n",
       "                               mp.base64Load('data:audio/midi;base64,TVRoZAAAAAYAAQABBABNVHJrAAABpQD/AwAA4ABAAJAqWoIAgCoAAJAuWoIAgC4AhACQLFqCAIAsAACQKlqCAIAqAACQJFqCAIAkAACQJFqCAIAkAIgAkCRaggCAJAAAkCRaggCAJAAAkCRaggCAJACCAJAoWoIAgCgAAJAmWoIAgCYAAJAqWoIAgCoAAJAkWoIAgCQAhACQKlqCAIAqAACQJFqCAIAkAACQJlqCAIAmAACQLlqCAIAuAACQKlqCAIAqAACQJFqCAIAkAACQLlqCAIAuAIIAkCpaggCAKgAAkCRaggCAJAAAkCpaggCAKgCGAJAjWoIAgCMAAJAmWoIAgCYAigCQLlqCAIAuAIgAkEJaggCAQgAAkCZaggCAJgAAkCpaggCAKgAAkCRaggCAJAAAkB5aggCAHgAAkCpaggCAKgAAkCRaggCAJAAAkCRaggCAJAAAkCpaggCAKgAAkC5aggCALgCEAJAuWoIAgC4AhACQJFqCAIAkAJAAkCNaggCAIwAAkCZaggCAJgAAkCpaggCAKgAAkCRaggCAJAAAkC5aggCALgCCAJAuWoIAgC4AiAD/LwA=');\n",
       "                        });\n",
       "                </script>"
      ],
      "text/plain": [
       "<IPython.core.display.HTML object>"
      ]
     },
     "metadata": {},
     "output_type": "display_data"
    },
    {
     "name": "stdout",
     "output_type": "stream",
     "text": [
      "0\n",
      "128\n",
      "256\n",
      "384\n",
      "512\n"
     ]
    },
    {
     "data": {
      "text/html": [
       "\n",
       "                <div id='midiPlayerDiv14471'></div>\n",
       "                <link rel=\"stylesheet\" href=\"//cuthbertLab.github.io/music21j/css/m21.css\"\n",
       "                    type=\"text/css\" />\n",
       "                <script>\n",
       "                require.config({\n",
       "                    paths: {'music21': '//cuthbertLab.github.io/music21j/src/music21'}\n",
       "                });\n",
       "                require(['music21'], function() {\n",
       "                               mp = new music21.miditools.MidiPlayer();\n",
       "                               mp.addPlayer('#midiPlayerDiv14471');\n",
       "                               mp.base64Load('data:audio/midi;base64,TVRoZAAAAAYAAQABBABNVHJrAAABbAD/AwAA4ABAAJAqWoIAgCoAggCQKlqCAIAqAIIAkCpaggCAKgAAkCRaggCAJAAAkCpaggCAKgCCAJAqWoIAgCoAggCQKlqCAIAqAIIAkCpaggCAKgAAkCRaggCAJAAAkCpaggCAKgCCAJAqWoIAgCoAiACQLlqCAIAuAIIAkC5aggCALgAAkCpaggCAKgCEAJAuWoIAgC4AAJAmWoIAgCYAAJAmWoIAgCYAAJAqWoIAgCoAggCQLlqCAIAuAIIAkC5aggCALgCCAJAuWoIAgC4AAJAkWoIAgCQAAJAuWoIAgC4AAJAmWoIAgCYAigCQKlqCAIAqAACQKlqCAIAqAACQLFqCAIAsAJAAkCpaggCAKgAAkCpaggCAKgAAkCRaggCAJACCAJAjWoIAgCMAAJAqWoIAgCoAAJAkWoIAgCQAggCQKlqCAIAqAJIAkB5aggCAHgAAkCpaggCAKgCGAJAqWoIAgCoAiAD/LwA=');\n",
       "                        });\n",
       "                </script>"
      ],
      "text/plain": [
       "<IPython.core.display.HTML object>"
      ]
     },
     "metadata": {},
     "output_type": "display_data"
    },
    {
     "name": "stdout",
     "output_type": "stream",
     "text": [
      "0\n",
      "128\n",
      "256\n",
      "384\n",
      "512\n"
     ]
    },
    {
     "data": {
      "text/html": [
       "\n",
       "                <div id='midiPlayerDiv15677'></div>\n",
       "                <link rel=\"stylesheet\" href=\"//cuthbertLab.github.io/music21j/css/m21.css\"\n",
       "                    type=\"text/css\" />\n",
       "                <script>\n",
       "                require.config({\n",
       "                    paths: {'music21': '//cuthbertLab.github.io/music21j/src/music21'}\n",
       "                });\n",
       "                require(['music21'], function() {\n",
       "                               mp = new music21.miditools.MidiPlayer();\n",
       "                               mp.addPlayer('#midiPlayerDiv15677');\n",
       "                               mp.base64Load('data:audio/midi;base64,TVRoZAAAAAYAAQABBABNVHJrAAAA1gD/AwAA4ABAoACQZlqCAIBmAIwAkCRaggCAJAAAkCNaggCAIwCGAJAuWoIAgC4AggCQLlqCAIAuAACQJFqCAIAkAACQKlqCAIAqAIYAkCNaggCAIwAAkCZaggCAJgCEAJAqWoIAgCoAAJAuWoIAgC4AAJAqWoIAgCoAAJAkWoIAgCQAhACQKlqCAIAqAACQJFqCAIAkAJgAkC5aggCALgCGAJAjWoIAgCMAjgCQI1qCAIAjAACQJlqCAIAmAIQAkC5aggCALgCCAJAuWoIAgC4AiAD/LwA=');\n",
       "                        });\n",
       "                </script>"
      ],
      "text/plain": [
       "<IPython.core.display.HTML object>"
      ]
     },
     "metadata": {},
     "output_type": "display_data"
    },
    {
     "name": "stdout",
     "output_type": "stream",
     "text": [
      "0\n",
      "128\n",
      "256\n",
      "384\n",
      "512\n"
     ]
    },
    {
     "data": {
      "text/html": [
       "\n",
       "                <div id='midiPlayerDiv16883'></div>\n",
       "                <link rel=\"stylesheet\" href=\"//cuthbertLab.github.io/music21j/css/m21.css\"\n",
       "                    type=\"text/css\" />\n",
       "                <script>\n",
       "                require.config({\n",
       "                    paths: {'music21': '//cuthbertLab.github.io/music21j/src/music21'}\n",
       "                });\n",
       "                require(['music21'], function() {\n",
       "                               mp = new music21.miditools.MidiPlayer();\n",
       "                               mp.addPlayer('#midiPlayerDiv16883');\n",
       "                               mp.base64Load('data:audio/midi;base64,TVRoZAAAAAYAAQABBABNVHJrAAABugD/AwAA4ABAAJAqWoIAgCoAAJAqWoIAgCoAAJAkWoIAgCQAAJAkWoIAgCQAAJAoWoIAgCgAAJAqWoIAgCoAAJAqWoIAgCoAAJAsWoIAgCwAhACQKlqCAIAqAACQJFqCAIAkAIQAkCNaggCAIwAAkCpaggCAKgAAkCpaggCAKgCOAJAoWoIAgCgAAJAqWoIAgCoAhACQJlqCAIAmAIYAkCpaggCAKgAAkCRaggCAJAAAkCpaggCAKgCCAJAkWoIAgCQAAJAkWoIAgCQAAJAkWoIAgCQAAJA4WoIAgDgAAJAqWoIAgCoAggCQKlqCAIAqAIIAkCpaggCAKgAAkCRaggCAJAAAkCpaggCAKgCGAJAoWoIAgCgAAJAqWoIAgCoAhACQI1qCAIAjAACQKlqCAIAqAACQKlqCAIAqAACQKlqCAIAqAACQJFqCAIAkAIIAkChaggCAKAAAkCpaggCAKgAAkCRaggCAJACCAJB4WoIAgHgAggCQOFqCAIA4AACQKlqCAIAqAACQQlqCAIBCAIIAkCNaggCAIwAAkCpaggCAKgAAkCpaggCAKgCGAJAmWoIAgCYAiAD/LwA=');\n",
       "                        });\n",
       "                </script>"
      ],
      "text/plain": [
       "<IPython.core.display.HTML object>"
      ]
     },
     "metadata": {},
     "output_type": "display_data"
    },
    {
     "name": "stdout",
     "output_type": "stream",
     "text": [
      "0\n",
      "128\n",
      "256\n",
      "384\n",
      "512\n"
     ]
    },
    {
     "data": {
      "text/html": [
       "\n",
       "                <div id='midiPlayerDiv18089'></div>\n",
       "                <link rel=\"stylesheet\" href=\"//cuthbertLab.github.io/music21j/css/m21.css\"\n",
       "                    type=\"text/css\" />\n",
       "                <script>\n",
       "                require.config({\n",
       "                    paths: {'music21': '//cuthbertLab.github.io/music21j/src/music21'}\n",
       "                });\n",
       "                require(['music21'], function() {\n",
       "                               mp = new music21.miditools.MidiPlayer();\n",
       "                               mp.addPlayer('#midiPlayerDiv18089');\n",
       "                               mp.base64Load('data:audio/midi;base64,TVRoZAAAAAYAAQABBABNVHJrAAAB2gD/AwAA4ABAAJAqWoIAgCoAAJAuWoIAgC4AAJAqWoIAgCoAAJBCWoIAgEIAAJAqWoIAgCoAAJBCWoIAgEIAAJAqWoIAgCoAAJBCWoIAgEIAAJAqWoIAgCoAAJAuWoIAgC4AAJAqWoIAgCoAAJBCWoIAgEIAAJAqWoIAgCoAAJBCWoIAgEIAAJAqWoIAgCoAAJBCWoIAgEIAiACQTlqCAIBOAIQAkCRaggCAJAAAkGZaggCAZgCCAJAuWoIAgC4AggCQLlqCAIAuAIIAkC5aggCALgAAkCRaggCAJACWAJAuWoIAgC4AAJA+WoIAgD4AhgCQKlqCAIAqAACQQlqCAIBCAIQAkC5aggCALgCCAJAqWoIAgCoAAJAkWoIAgCQAAJAeWoIAgB4AAJAqWoIAgCoAAJAkWoIAgCQAAJA2WoIAgDYAAJAmWoIAgCYAAJAqWoIAgCoAAJAkWoIAgCQAAJAkWoIAgCQAAJAmWoIAgCYAAJAuWoIAgC4AAJAqWoIAgCoAAJBCWoIAgEIAAJAuWoIAgC4AggCQKlqCAIAqAACQJFqCAIAkAACQKlqCAIAqAACQQlqCAIBCAIQAkC5aggCALgAAkCxaggCALAAAkC5aggCALgCIAP8vAA==');\n",
       "                        });\n",
       "                </script>"
      ],
      "text/plain": [
       "<IPython.core.display.HTML object>"
      ]
     },
     "metadata": {},
     "output_type": "display_data"
    },
    {
     "name": "stdout",
     "output_type": "stream",
     "text": [
      "0\n",
      "128\n",
      "256\n",
      "384\n",
      "512\n"
     ]
    },
    {
     "data": {
      "text/html": [
       "\n",
       "                <div id='midiPlayerDiv19295'></div>\n",
       "                <link rel=\"stylesheet\" href=\"//cuthbertLab.github.io/music21j/css/m21.css\"\n",
       "                    type=\"text/css\" />\n",
       "                <script>\n",
       "                require.config({\n",
       "                    paths: {'music21': '//cuthbertLab.github.io/music21j/src/music21'}\n",
       "                });\n",
       "                require(['music21'], function() {\n",
       "                               mp = new music21.miditools.MidiPlayer();\n",
       "                               mp.addPlayer('#midiPlayerDiv19295');\n",
       "                               mp.base64Load('data:audio/midi;base64,TVRoZAAAAAYAAQABBABNVHJrAAAB3QD/AwAA4ABAAJAqWoIAgCoAAJA4WoIAgDgAAJAqWoIAgCoAAJAkWoIAgCQAAJAqWoIAgCoAAJAoWoIAgCgAAJAqWoIAgCoAAJA4WoIAgDgAAJAqWoIAgCoAggCQKlqCAIAqAIIAkCpaggCAKgAAkChaggCAKAAAkCpaggCAKgAAkCxaggCALAAAkCpaggCAKgCIAJAuWoIAgC4AggCQLlqCAIAuAACQKlqCAIAqAIQAkC5aggCALgAAkCZaggCAJgAAkCZaggCAJgAAkCpaggCAKgCCAJAuWoIAgC4AAJAyWoIAgDIAAJAuWoIAgC4AAJAYWoIAgBgAAJAuWoIAgC4AAJA4WoIAgDgAAJAkWoIAgCQAAJA4WoIAgDgAiACQKFqCAIAoAACQKlqCAIAqAACQKlqCAIAqAACQLFqCAIAsAACQQlqCAIBCAIIAkEJaggCAQgCCAJBCWoIAgEIAggCQQlqCAIBCAIIAkCNaggCAIwAAkCpaggCAKgAAkCRaggCAJAAAkCRaggCAJAAAkCNaggCAIwAAkCpaggCAKgAAkCZaggCAJgCCAJAqWoIAgCoAkgCQOFqCAIA4AACQKlqCAIAqAIQAkCNaggCAIwAAkCpaggCAKgCIAP8vAA==');\n",
       "                        });\n",
       "                </script>"
      ],
      "text/plain": [
       "<IPython.core.display.HTML object>"
      ]
     },
     "metadata": {},
     "output_type": "display_data"
    },
    {
     "name": "stdout",
     "output_type": "stream",
     "text": [
      "0\n",
      "128\n",
      "256\n",
      "384\n",
      "512\n"
     ]
    },
    {
     "data": {
      "text/html": [
       "\n",
       "                <div id='midiPlayerDiv20501'></div>\n",
       "                <link rel=\"stylesheet\" href=\"//cuthbertLab.github.io/music21j/css/m21.css\"\n",
       "                    type=\"text/css\" />\n",
       "                <script>\n",
       "                require.config({\n",
       "                    paths: {'music21': '//cuthbertLab.github.io/music21j/src/music21'}\n",
       "                });\n",
       "                require(['music21'], function() {\n",
       "                               mp = new music21.miditools.MidiPlayer();\n",
       "                               mp.addPlayer('#midiPlayerDiv20501');\n",
       "                               mp.base64Load('data:audio/midi;base64,TVRoZAAAAAYAAQABBABNVHJrAAAB+gD/AwAA4ABAAJAqWoIAgCoAAJBCWoIAgEIAhACQI1qCAIAjAACQQlqCAIBCAIIAkCRaggCAJACEAJBeWoIAgF4AggCQPlqCAIA+AIQAkDZaggCANgAAkCpaggCAKgAAkEJaggCAQgAAkCpaggCAKgAAkEJaggCAQgAAkCpaggCAKgAAkEJaggCAQgAAkCpaggCAKgAAkEJaggCAQgAAkCpaggCAKgAAkC5aggCALgAAkCpaggCAKgAAkEJaggCAQgAAkCpaggCAKgAAkEJaggCAQgAAkCpaggCAKgAAkEJaggCAQgAAkCpaggCAKgAAkEJaggCAQgCEAJAjWoIAgCMAAJAmWoIAgCYAhACQKlqCAIAqAACQQlqCAIBCAACQI1qCAIAjAACQQlqCAIBCAACQI1qCAIAjAACQJlqCAIAmAACQLlqCAIAuAIIAkCRaggCAJAAAkCRaggCAJACCAJA2WoIAgDYAAJAkWoIAgCQAAJAkWoIAgCQAggCQNlqCAIA2AACQJFqCAIAkAACQJFqCAIAkAIIAkDZaggCANgAAkCRaggCAJAAAkCRaggCAJACEAJAjWoIAgCMAhACQTlqCAIBOAIYAkCRaggCAJAAAkCNaggCAIwAAkCZaggCAJgCEAJAuWoIAgC4AggCQLlqCAIAuAIgA/y8A');\n",
       "                        });\n",
       "                </script>"
      ],
      "text/plain": [
       "<IPython.core.display.HTML object>"
      ]
     },
     "metadata": {},
     "output_type": "display_data"
    },
    {
     "name": "stdout",
     "output_type": "stream",
     "text": [
      "0\n",
      "128\n",
      "256\n",
      "384\n",
      "512\n"
     ]
    },
    {
     "data": {
      "text/html": [
       "\n",
       "                <div id='midiPlayerDiv21707'></div>\n",
       "                <link rel=\"stylesheet\" href=\"//cuthbertLab.github.io/music21j/css/m21.css\"\n",
       "                    type=\"text/css\" />\n",
       "                <script>\n",
       "                require.config({\n",
       "                    paths: {'music21': '//cuthbertLab.github.io/music21j/src/music21'}\n",
       "                });\n",
       "                require(['music21'], function() {\n",
       "                               mp = new music21.miditools.MidiPlayer();\n",
       "                               mp.addPlayer('#midiPlayerDiv21707');\n",
       "                               mp.base64Load('data:audio/midi;base64,TVRoZAAAAAYAAQABBABNVHJrAAAB7gD/AwAA4ABAAJAqWoIAgCoAAJAkWoIAgCQAAJAoWoIAgCgAAJAkWoIAgCQAAJAoWoIAgCgAAJAkWoIAgCQAAJAqWoIAgCoAAJAqWoIAgCoAAJAoWoIAgCgAAJAkWoIAgCQAAJAqWoIAgCoAAJAkWoIAgCQAAJAoWoIAgCgAAJAqWoIAgCoAAJAjWoIAgCMAAJAqWoIAgCoAAJAqWoIAgCoAiACQKlqCAIAqAIwAkEJaggCAQgAAkHRaggCAdACEAJAqWoIAgCoAAJAoWoIAgCgAAJAqWoIAgCoAAJAoWoIAgCgAAJAkWoIAgCQAAJA4WoIAgDgAAJAqWoIAgCoAAJAoWoIAgCgAAJAqWoIAgCoAggCQKlqCAIAqAIIAkCpaggCAKgAAkChaggCAKAAAkCpaggCAKgAAkCxaggCALACEAJAqWoIAgCoAAJAqWoIAgCoAhgCQKlqCAIAqAACQKlqCAIAqAACQKlqCAIAqAACQJFqCAIAkAACQKFqCAIAoAIIAkCpaggCAKgCEAJB2WoIAgHYAggCQQlqCAIBCAACQKlqCAIAqAACQQlqCAIBCAIIAkEJaggCAQgAAkCpaggCAKgAAkCRaggCAJAAAkDhaggCAOACEAJAmWoIAgCYAggCQJlqCAIAmAIgA/y8A');\n",
       "                        });\n",
       "                </script>"
      ],
      "text/plain": [
       "<IPython.core.display.HTML object>"
      ]
     },
     "metadata": {},
     "output_type": "display_data"
    },
    {
     "name": "stdout",
     "output_type": "stream",
     "text": [
      "0\n",
      "128\n",
      "256\n",
      "384\n",
      "512\n"
     ]
    },
    {
     "data": {
      "text/html": [
       "\n",
       "                <div id='midiPlayerDiv22913'></div>\n",
       "                <link rel=\"stylesheet\" href=\"//cuthbertLab.github.io/music21j/css/m21.css\"\n",
       "                    type=\"text/css\" />\n",
       "                <script>\n",
       "                require.config({\n",
       "                    paths: {'music21': '//cuthbertLab.github.io/music21j/src/music21'}\n",
       "                });\n",
       "                require(['music21'], function() {\n",
       "                               mp = new music21.miditools.MidiPlayer();\n",
       "                               mp.addPlayer('#midiPlayerDiv22913');\n",
       "                               mp.base64Load('data:audio/midi;base64,TVRoZAAAAAYAAQABBABNVHJrAAACFQD/AwAA4ABAAJA+WoIAgD4AAJA+WoIAgD4AAJBOWoIAgE4AAJAuWoIAgC4AAJA+WoIAgD4AggCQTlqCAIBOAIIAkEZaggCARgAAkGZaggCAZgAAkDZaggCANgAAkDZaggCANgAAkD5aggCAPgCCAJA+WoIAgD4AggCQPlqCAIA+AIIAkDZaggCANgAAkDZaggCANgAAkCRaggCAJACKAJAuWoIAgC4AggCQLlqCAIAuAACQJFqCAIAkAACQLlqCAIAuAIIAkCRaggCAJAAAkCRaggCAJACEAJAmWoIAgCYAAJBCWoIAgEIAhACQKlqCAIAqAACQQlqCAIBCAACQTlqCAIBOAACQLlqCAIAuAACQKlqCAIAqAACQQlqCAIBCAIQAkCRaggCAJACEAJAkWoIAgCQAggCQJFqCAIAkAACQKlqCAIAqAACQQlqCAIBCAACQKlqCAIAqAACQLlqCAIAuAACQJFqCAIAkAACQJFqCAIAkAACQQlqCAIBCAACQKlqCAIAqAIIAkCRaggCAJAAAkCNaggCAIwCCAJAkWoIAgCQAAJA+WoIAgD4AAJA2WoIAgDYAAJA2WoIAgDYAAJA2WoIAgDYAAJBGWoIAgEYAAJAjWoIAgCMAAJAmWoIAgCYAggCQRlqCAIBGAACQLlqCAIAuAACQPlqCAIA+AACQLlqCAIAuAACQRlqCAIBGAIgA/y8A');\n",
       "                        });\n",
       "                </script>"
      ],
      "text/plain": [
       "<IPython.core.display.HTML object>"
      ]
     },
     "metadata": {},
     "output_type": "display_data"
    },
    {
     "name": "stdout",
     "output_type": "stream",
     "text": [
      "0\n",
      "128\n",
      "256\n",
      "384\n",
      "512\n"
     ]
    },
    {
     "data": {
      "text/html": [
       "\n",
       "                <div id='midiPlayerDiv24119'></div>\n",
       "                <link rel=\"stylesheet\" href=\"//cuthbertLab.github.io/music21j/css/m21.css\"\n",
       "                    type=\"text/css\" />\n",
       "                <script>\n",
       "                require.config({\n",
       "                    paths: {'music21': '//cuthbertLab.github.io/music21j/src/music21'}\n",
       "                });\n",
       "                require(['music21'], function() {\n",
       "                               mp = new music21.miditools.MidiPlayer();\n",
       "                               mp.addPlayer('#midiPlayerDiv24119');\n",
       "                               mp.base64Load('data:audio/midi;base64,TVRoZAAAAAYAAQABBABNVHJrAAACRgD/AwAA4ABAAJAqWoIAgCoAAJA4WoIAgDgAAJAqWoIAgCoAAJAsWoIAgCwAAJAqWoIAgCoAAJAsWoIAgCwAAJAqWoIAgCoAAJAqWoIAgCoAAJAqWoIAgCoAggCQKlqCAIAqAACQLFqCAIAsAACQKlqCAIAqAACQKFqCAIAoAACQKlqCAIAqAACQKlqCAIAqAACQKlqCAIAqAIQAkGRaggCAZAAAkChaggCAKAAAkC5aggCALgCCAJAuWoIAgC4AAJAqWoIAgCoAAJA4WoIAgDgAAJAoWoIAgCgAAJAuWoIAgC4AAJAkWoIAgCQAAJAmWoIAgCYAAJAqWoIAgCoAAJA4WoIAgDgAAJAuWoIAgC4AAJBAWoIAgEAAAJAuWoIAgC4AAJBAWoIAgEAAAJAuWoIAgC4AAJBAWoIAgEAAAJAuWoIAgC4AAJAkWoIAgCQAAJBYWoIAgFgAAJAqWoIAgCoAhACQKFqCAIAoAACQKlqCAIAqAACQKlqCAIAqAACQLFqCAIAsAACQbFqCAIBsAIIAkEJaggCAQgCCAJBCWoIAgEIAAJBgWoIAgGAAAJBkWoIAgGQAggCQKlqCAIAqAACQKlqCAIAqAACQJFqCAIAkAACQOFqCAIA4AACQKlqCAIAqAACQKlqCAIAqAIQAkCpaggCAKgCKAJBCWoIAgEIAggCQJlqCAIAmAIIAkEJaggCAQgAAkCpaggCAKgAAkCRaggCAJAAAkDhaggCAOAAAkHhaggCAeAAAkCpaggCAKgCIAP8vAA==');\n",
       "                        });\n",
       "                </script>"
      ],
      "text/plain": [
       "<IPython.core.display.HTML object>"
      ]
     },
     "metadata": {},
     "output_type": "display_data"
    },
    {
     "name": "stdout",
     "output_type": "stream",
     "text": [
      "0\n",
      "128\n",
      "256\n",
      "384\n",
      "512\n"
     ]
    },
    {
     "data": {
      "text/html": [
       "\n",
       "                <div id='midiPlayerDiv25325'></div>\n",
       "                <link rel=\"stylesheet\" href=\"//cuthbertLab.github.io/music21j/css/m21.css\"\n",
       "                    type=\"text/css\" />\n",
       "                <script>\n",
       "                require.config({\n",
       "                    paths: {'music21': '//cuthbertLab.github.io/music21j/src/music21'}\n",
       "                });\n",
       "                require(['music21'], function() {\n",
       "                               mp = new music21.miditools.MidiPlayer();\n",
       "                               mp.addPlayer('#midiPlayerDiv25325');\n",
       "                               mp.base64Load('data:audio/midi;base64,TVRoZAAAAAYAAQABBABNVHJrAAACKwD/AwAA4ABAAJBCWoIAgEIAAJAkWoIAgCQAAJAqWoIAgCoAAJBoWoIAgGgAAJAqWoIAgCoAAJBoWoIAgGgAAJAqWoIAgCoAAJBCWoIAgEIAAJBCWoIAgEIAAJAqWoIAgCoAAJAkWoIAgCQAAJAqWoIAgCoAiACQJlqCAIAmAACQdlqCAIB2AIQAkCZaggCAJgAAkHZaggCAdgAAkCRaggCAJAAAkBJaggCAEgAAkCxaggCALAAAkCxaggCALAAAkC5aggCALgCCAJAqWoIAgCoAAJBoWoIAgGgAAJAqWoIAgCoAAJBCWoIAgEIAAJAuWoIAgC4AggCQJFqCAIAkAACQKlqCAIAqAIQAkCpaggCAKgAAkCpaggCAKgAAkCRaggCAJACCAJAkWoIAgCQAAJAuWoIAgC4AAJAqWoIAgCoAhgCQRlqCAIBGAACQNlqCAIA2AACQPlqCAIA+AACQPlqCAIA+AACQRlqCAIBGAACQRlqCAIBGAACQRlqCAIBGAACQNlqCAIA2AACQRlqCAIBGAACQNlqCAIA2AACQPlqCAIA+AACQPlqCAIA+AACQLlqCAIAuAACQRlqCAIBGAACQRlqCAIBGAACQNlqCAIA2AACQI1qCAIAjAIYAkC5aggCALgCCAJA+WoIAgD4AggCQI1qCAIAjAACQLFqCAIAsAIQAkC5aggCALgAAkCxaggCALAAAkC5aggCALgAAkDZaggCANgCIAP8vAA==');\n",
       "                        });\n",
       "                </script>"
      ],
      "text/plain": [
       "<IPython.core.display.HTML object>"
      ]
     },
     "metadata": {},
     "output_type": "display_data"
    },
    {
     "name": "stdout",
     "output_type": "stream",
     "text": [
      "0\n",
      "128\n",
      "256\n",
      "384\n",
      "512\n"
     ]
    },
    {
     "data": {
      "text/html": [
       "\n",
       "                <div id='midiPlayerDiv26531'></div>\n",
       "                <link rel=\"stylesheet\" href=\"//cuthbertLab.github.io/music21j/css/m21.css\"\n",
       "                    type=\"text/css\" />\n",
       "                <script>\n",
       "                require.config({\n",
       "                    paths: {'music21': '//cuthbertLab.github.io/music21j/src/music21'}\n",
       "                });\n",
       "                require(['music21'], function() {\n",
       "                               mp = new music21.miditools.MidiPlayer();\n",
       "                               mp.addPlayer('#midiPlayerDiv26531');\n",
       "                               mp.base64Load('data:audio/midi;base64,TVRoZAAAAAYAAQABBABNVHJrAAACegD/AwAA4ABAAJAqWoIAgCoAAJAkWoIAgCQAAJBaWoIAgFoAAJAqWoIAgCoAAJAqWoIAgCoAAJAqWoIAgCoAAJAqWoIAgCoAAJAqWoIAgCoAAJAoWoIAgCgAAJAkWoIAgCQAAJBCWoIAgEIAAJAqWoIAgCoAAJAqWoIAgCoAAJAqWoIAgCoAAJBsWoIAgGwAAJAqWoIAgCoAAJBKWoIAgEoAAJBKWoIAgEoAhACQQlqCAIBCAACQSlqCAIBKAIIAkCRaggCAJAAAkHBaggCAcAAAkFJaggCAUgAAkCRaggCAJACCAJBCWoIAgEIAAJBKWoIAgEoAhACQKlqCAIAqAACQOFqCAIA4AACQKlqCAIAqAACQLFqCAIAsAACQKFqCAIAoAACQOFqCAIA4AACQKlqCAIAqAACQKFqCAIAoAACQKlqCAIAqAACQOFqCAIA4AACQKlqCAIAqAACQKlqCAIAqAACQKlqCAIAqAACQKlqCAIAqAACQKlqCAIAqAACQKlqCAIAqAACQKFqCAIAoAACQLFqCAIAsAACQKlqCAIAqAACQKlqCAIAqAACQKFqCAIAoAIIAkEpaggCASgAAkCpaggCAKgAAkCpaggCAKgAAkCpaggCAKgAAkCRaggCAJAAAkDhaggCAOAAAkCpaggCAKgAAkCpaggCAKgCEAJA4WoIAgDgAAJAkWoIAgCQAAJBCWoIAgEIAAJAqWoIAgCoAAJA4WoIAgDgAggCQQlqCAIBCAACQKlqCAIAqAACQJFqCAIAkAACQOFqCAIA4AIIAkCpaggCAKgAAkCRaggCAJACCAJAmWoIAgCYAAJAqWoIAgCoAiAD/LwA=');\n",
       "                        });\n",
       "                </script>"
      ],
      "text/plain": [
       "<IPython.core.display.HTML object>"
      ]
     },
     "metadata": {},
     "output_type": "display_data"
    },
    {
     "name": "stdout",
     "output_type": "stream",
     "text": [
      "0\n",
      "128\n",
      "256\n",
      "384\n",
      "512\n"
     ]
    },
    {
     "data": {
      "text/html": [
       "\n",
       "                <div id='midiPlayerDiv27737'></div>\n",
       "                <link rel=\"stylesheet\" href=\"//cuthbertLab.github.io/music21j/css/m21.css\"\n",
       "                    type=\"text/css\" />\n",
       "                <script>\n",
       "                require.config({\n",
       "                    paths: {'music21': '//cuthbertLab.github.io/music21j/src/music21'}\n",
       "                });\n",
       "                require(['music21'], function() {\n",
       "                               mp = new music21.miditools.MidiPlayer();\n",
       "                               mp.addPlayer('#midiPlayerDiv27737');\n",
       "                               mp.base64Load('data:audio/midi;base64,TVRoZAAAAAYAAQABBABNVHJrAAACYQD/AwAA4ABAAJB0WoIAgHQAAJA+WoIAgD4AAJAkWoIAgCQAAJAkWoIAgCQAAJAqWoIAgCoAAJAqWoIAgCoAAJAkWoIAgCQAAJBGWoIAgEYAAJBkWoIAgGQAAJA+WoIAgD4AAJA+WoIAgD4AAJA+WoIAgD4AAJAqWoIAgCoAAJBGWoIAgEYAhACQKlqCAIAqAACQQlqCAIBCAACQLlqCAIAuAACQQlqCAIBCAACQKlqCAIAqAACQQlqCAIBCAACQLlqCAIAuAACQLlqCAIAuAACQElqCAIASAACQLlqCAIAuAACQLlqCAIAuAACQJFqCAIAkAACQKlqCAIAqAACQQlqCAIBCAACQLlqCAIAuAACQLlqCAIAuAACQLlqCAIAuAACQJlqCAIAmAACQKlqCAIAqAACQKlqCAIAqAIIAkCpaggCAKgAAkCpaggCAKgAAkCpaggCAKgAAkCRaggCAJAAAkCZaggCAJgAAkCRaggCAJAAAkC5aggCALgCCAJAuWoIAgC4AggCQKlqCAIAqAACQI1qCAIAjAIIAkHRaggCAdACCAJAuWoIAgC4AggCQaFqCAIBoAACQLlqCAIAuAACQI1qCAIAjAIYAkC5aggCALgCEAJAuWoIAgC4AAJAmWoIAgCYAAJB2WoIAgHYAAJAuWoIAgC4AggCQJFqCAIAkAACQTlqCAIBOAACQPlqCAIA+AIIAkCZaggCAJgAAkHZaggCAdgAAkCpaggCAKgAAkEJaggCAQgAAkCZaggCAJgAAkE5aggCATgAAkCpaggCAKgAAkEJaggCAQgCIAP8vAA==');\n",
       "                        });\n",
       "                </script>"
      ],
      "text/plain": [
       "<IPython.core.display.HTML object>"
      ]
     },
     "metadata": {},
     "output_type": "display_data"
    },
    {
     "name": "stdout",
     "output_type": "stream",
     "text": [
      "0\n",
      "128\n",
      "256\n",
      "384\n",
      "512\n"
     ]
    },
    {
     "data": {
      "text/html": [
       "\n",
       "                <div id='midiPlayerDiv28943'></div>\n",
       "                <link rel=\"stylesheet\" href=\"//cuthbertLab.github.io/music21j/css/m21.css\"\n",
       "                    type=\"text/css\" />\n",
       "                <script>\n",
       "                require.config({\n",
       "                    paths: {'music21': '//cuthbertLab.github.io/music21j/src/music21'}\n",
       "                });\n",
       "                require(['music21'], function() {\n",
       "                               mp = new music21.miditools.MidiPlayer();\n",
       "                               mp.addPlayer('#midiPlayerDiv28943');\n",
       "                               mp.base64Load('data:audio/midi;base64,TVRoZAAAAAYAAQABBABNVHJrAAACLAD/AwAA4ABAAJAqWoIAgCoAAJAsWoIAgCwAAJAqWoIAgCoAAJAqWoIAgCoAAJAqWoIAgCoAAJAqWoIAgCoAAJAqWoIAgCoAAJAqWoIAgCoAAJAqWoIAgCoAAJAqWoIAgCoAAJAqWoIAgCoAAJAqWoIAgCoAAJAqWoIAgCoAAJAqWoIAgCoAAJAqWoIAgCoAAJAqWoIAgCoAhgCQWFqCAIBYAACQIFqCAIAgAACQLlqCAIAuAACQalqCAIBqAACQLlqCAIAuAACQKlqCAIAqAACQdlqCAIB2AACQIFqCAIAgAACQLlqCAIAuAIIAkCRaggCAJACCAJAqWoIAgCoAAJAuWoIAgC4AAJBAWoIAgEAAAJAuWoIAgC4AAJAsWoIAgCwAAJAuWoIAgC4AAJBAWoIAgEAAAJAuWoIAgC4AAJAkWoIAgCQAAJBKWoIAgEoAAJAqWoIAgCoAhACQKFqCAIAoAACQKlqCAIAqAACQKlqCAIAqAACQKlqCAIAqAACQWFqCAIBYAIIAkCRaggCAJACCAJBOWoIAgE4AAJBCWoIAgEIAhACQUFqCAIBQAACQKlqCAIAqAACQJFqCAIAkAIIAkEJaggCAQgAAkCpaggCAKgCEAJAqWoIAgCoAigCQYFqCAIBgAIIAkEZaggCARgAAkCxaggCALAAAkHhaggCAeAAAkCpaggCAKgAAkCRaggCAJACCAJAmWoIAgCYAAJAqWoIAgCoAiAD/LwA=');\n",
       "                        });\n",
       "                </script>"
      ],
      "text/plain": [
       "<IPython.core.display.HTML object>"
      ]
     },
     "metadata": {},
     "output_type": "display_data"
    },
    {
     "name": "stdout",
     "output_type": "stream",
     "text": [
      "0\n",
      "128\n",
      "256\n",
      "384\n",
      "512\n"
     ]
    },
    {
     "data": {
      "text/html": [
       "\n",
       "                <div id='midiPlayerDiv30149'></div>\n",
       "                <link rel=\"stylesheet\" href=\"//cuthbertLab.github.io/music21j/css/m21.css\"\n",
       "                    type=\"text/css\" />\n",
       "                <script>\n",
       "                require.config({\n",
       "                    paths: {'music21': '//cuthbertLab.github.io/music21j/src/music21'}\n",
       "                });\n",
       "                require(['music21'], function() {\n",
       "                               mp = new music21.miditools.MidiPlayer();\n",
       "                               mp.addPlayer('#midiPlayerDiv30149');\n",
       "                               mp.base64Load('data:audio/midi;base64,TVRoZAAAAAYAAQABBABNVHJrAAAClAD/AwAA4ABAAJA2WoIAgDYAAJAuWoIAgC4AAJA2WoIAgDYAAJAyWoIAgDIAAJA2WoIAgDYAAJAkWoIAgCQAAJBUWoIAgFQAAJAyWoIAgDIAAJBGWoIAgEYAAJAuWoIAgC4AAJBUWoIAgFQAAJAoWoIAgCgAAJBGWoIAgEYAAJAkWoIAgCQAAJBUWoIAgFQAAJAyWoIAgDIAAJAuWoIAgC4AggCQLlqCAIAuAACQOlqCAIA6AACQLlqCAIAuAACQLlqCAIAuAACQLlqCAIAuAACQLFqCAIAsAACQLlqCAIAuAACQLlqCAIAuAACQLlqCAIAuAACQLFqCAIAsAACQLlqCAIAuAACQRlqCAIBGAACQLlqCAIAuAACQOlqCAIA6AACQJFqCAIAkAACQDlqCAIAOAACQJFqCAIAkAACQLlqCAIAuAACQLFqCAIAsAACQDlqCAIAOAACQKlqCAIAqAACQKlqCAIAqAACQJFqCAIAkAACQDlqCAIAOAACQJFqCAIAkAACQLlqCAIAuAIIAkC5aggCALgAAkCNaggCAIwCCAJAjWoIAgCMAggCQdFqCAIB0AIIAkC5aggCALgAAkD5aggCAPgAAkHRaggCAdAAAkDxaggCAPAAAkCNaggCAIwAAkD5aggCAPgAAkHRaggCAdACCAJAuWoIAgC4AhACQLlqCAIAuAACQI1qCAIAjAIIAkC5aggCALgAAkDZaggCANgAAkC5aggCALgAAkD5aggCAPgAAkHRaggCAdAAAkDxaggCAPAAAkDJaggCAMgAAkEhaggCASAAAkC5aggCALgAAkEJaggCAQgAAkC5aggCALgAAkEJaggCAQgAAkC5aggCALgAAkCxaggCALACIAP8vAA==');\n",
       "                        });\n",
       "                </script>"
      ],
      "text/plain": [
       "<IPython.core.display.HTML object>"
      ]
     },
     "metadata": {},
     "output_type": "display_data"
    },
    {
     "name": "stdout",
     "output_type": "stream",
     "text": [
      "0\n",
      "128\n",
      "256\n",
      "384\n",
      "512\n"
     ]
    },
    {
     "data": {
      "text/html": [
       "\n",
       "                <div id='midiPlayerDiv31355'></div>\n",
       "                <link rel=\"stylesheet\" href=\"//cuthbertLab.github.io/music21j/css/m21.css\"\n",
       "                    type=\"text/css\" />\n",
       "                <script>\n",
       "                require.config({\n",
       "                    paths: {'music21': '//cuthbertLab.github.io/music21j/src/music21'}\n",
       "                });\n",
       "                require(['music21'], function() {\n",
       "                               mp = new music21.miditools.MidiPlayer();\n",
       "                               mp.addPlayer('#midiPlayerDiv31355');\n",
       "                               mp.base64Load('data:audio/midi;base64,TVRoZAAAAAYAAQABBABNVHJrAAAC1QD/AwAA4ABAAJA4WoIAgDgAAJAqWoIAgCoAAJBQWoIAgFAAAJAqWoIAgCoAAJAqWoIAgCoAAJAqWoIAgCoAAJAqWoIAgCoAAJAqWoIAgCoAAJAoWoIAgCgAAJAqWoIAgCoAAJAmWoIAgCYAAJAqWoIAgCoAAJAqWoIAgCoAAJAqWoIAgCoAAJBAWoIAgEAAAJAqWoIAgCoAAJBCWoIAgEIAAJA4WoIAgDgAAJBSWoIAgFIAAJA4WoIAgDgAAJBCWoIAgEIAAJA4WoIAgDgAAJBSWoIAgFIAAJAkWoIAgCQAAJBSWoIAgFIAAJA4WoIAgDgAAJBSWoIAgFIAAJA4WoIAgDgAAJBCWoIAgEIAAJA4WoIAgDgAAJBSWoIAgFIAAJA4WoIAgDgAAJAqWoIAgCoAAJAgWoIAgCAAAJAqWoIAgCoAAJAqWoIAgCoAAJAoWoIAgCgAAJBSWoIAgFIAAJAqWoIAgCoAAJAqWoIAgCoAAJAqWoIAgCoAAJAqWoIAgCoAAJAqWoIAgCoAAJAqWoIAgCoAAJAqWoIAgCoAAJAqWoIAgCoAAJAqWoIAgCoAAJAqWoIAgCoAAJAqWoIAgCoAAJAqWoIAgCoAAJAqWoIAgCoAAJAqWoIAgCoAAJAiWoIAgCIAAJAqWoIAgCoAAJBAWoIAgEAAAJAqWoIAgCoAAJBCWoIAgEIAAJAqWoIAgCoAAJBEWoIAgEQAAJBCWoIAgEIAAJBCWoIAgEIAAJAqWoIAgCoAAJBCWoIAgEIAggCQPlqCAIA+AACQJFqCAIAkAACQeFqCAIB4AACQKlqCAIAqAACQQFqCAIBAAACQRlqCAIBGAACQQFqCAIBAAACQKlqCAIAqAACQKlqCAIAqAACQJFqCAIAkAACQQFqCAIBAAACQKlqCAIAqAACQJFqCAIAkAACQPlqCAIA+AACQJlqCAIAmAACQKlqCAIAqAIgA/y8A');\n",
       "                        });\n",
       "                </script>"
      ],
      "text/plain": [
       "<IPython.core.display.HTML object>"
      ]
     },
     "metadata": {},
     "output_type": "display_data"
    },
    {
     "name": "stdout",
     "output_type": "stream",
     "text": [
      "0\n",
      "128\n",
      "256\n",
      "384\n",
      "512\n"
     ]
    },
    {
     "data": {
      "text/html": [
       "\n",
       "                <div id='midiPlayerDiv32561'></div>\n",
       "                <link rel=\"stylesheet\" href=\"//cuthbertLab.github.io/music21j/css/m21.css\"\n",
       "                    type=\"text/css\" />\n",
       "                <script>\n",
       "                require.config({\n",
       "                    paths: {'music21': '//cuthbertLab.github.io/music21j/src/music21'}\n",
       "                });\n",
       "                require(['music21'], function() {\n",
       "                               mp = new music21.miditools.MidiPlayer();\n",
       "                               mp.addPlayer('#midiPlayerDiv32561');\n",
       "                               mp.base64Load('data:audio/midi;base64,TVRoZAAAAAYAAQABBABNVHJrAAACzQD/AwAA4ABAAJAqWoIAgCoAAJAmWoIAgCYAAJBCWoIAgEIAAJAuWoIAgC4AAJAjWoIAgCMAAJB2WoIAgHYAAJBeWoIAgF4AAJBCWoIAgEIAAJAqWoIAgCoAAJAmWoIAgCYAAJBCWoIAgEIAAJAkWoIAgCQAAJAuWoIAgC4AAJB8WoIAgHwAAJAMWoIAgAwAAJB8WoIAgHwAAJBCWoIAgEIAAJB8WoIAgHwAAJB6WoIAgHoAAJB8WoIAgHwAAJBCWoIAgEIAAJB8WoIAgHwAAJB8WoIAgHwAAJB8WoIAgHwAAJB6WoIAgHoAAJB8WoIAgHwAAJB6WoIAgHoAAJB8WoIAgHwAAJAuWoIAgC4AAJB8WoIAgHwAAJB8WoIAgHwAAJB8WoIAgHwAAJAWWoIAgBYAAJAOWoIAgA4AAJAkWoIAgCQAAJAuWoIAgC4AAJAWWoIAgBYAAJB8WoIAgHwAAJAjWoIAgCMAggCQJFqCAIAkAACQDlqCAIAOAACQJFqCAIAkAACQLlqCAIAuAACQFlqCAIAWAACQfFqCAIB8AACQI1qCAIAjAIIAkCpaggCAKgAAkCpaggCAKgAAkCRaggCAJAAAkCpaggCAKgAAkC5aggCALgAAkCpaggCAKgAAkCpaggCAKgAAkCpaggCAKgAAkCpaggCAKgAAkCpaggCAKgAAkCRaggCAJAAAkCpaggCAKgAAkC5aggCALgAAkCpaggCAKgAAkCpaggCAKgAAkCpaggCAKgAAkCpaggCAKgAAkEJaggCAQgAAkA5aggCADgAAkHxaggCAfAAAkC5aggCALgAAkHxaggCAfAAAkD5aggCAPgAAkCZaggCAJgAAkCpaggCAKgAAkEJaggCAQgAAkA5aggCADgAAkHxaggCAfAAAkC5aggCALgAAkEJaggCAQgAAkC5aggCALgAAkCZaggCAJgCIAP8vAA==');\n",
       "                        });\n",
       "                </script>"
      ],
      "text/plain": [
       "<IPython.core.display.HTML object>"
      ]
     },
     "metadata": {},
     "output_type": "display_data"
    },
    {
     "name": "stdout",
     "output_type": "stream",
     "text": [
      "0\n",
      "128\n",
      "256\n",
      "384\n",
      "512\n"
     ]
    },
    {
     "data": {
      "text/html": [
       "\n",
       "                <div id='midiPlayerDiv33767'></div>\n",
       "                <link rel=\"stylesheet\" href=\"//cuthbertLab.github.io/music21j/css/m21.css\"\n",
       "                    type=\"text/css\" />\n",
       "                <script>\n",
       "                require.config({\n",
       "                    paths: {'music21': '//cuthbertLab.github.io/music21j/src/music21'}\n",
       "                });\n",
       "                require(['music21'], function() {\n",
       "                               mp = new music21.miditools.MidiPlayer();\n",
       "                               mp.addPlayer('#midiPlayerDiv33767');\n",
       "                               mp.base64Load('data:audio/midi;base64,TVRoZAAAAAYAAQABBABNVHJrAAACjAD/AwAA4ABAAJAqWoIAgCoAAJAqWoIAgCoAAJAqWoIAgCoAAJAqWoIAgCoAAJAqWoIAgCoAAJAqWoIAgCoAAJAqWoIAgCoAAJAqWoIAgCoAAJAqWoIAgCoAAJAqWoIAgCoAAJAqWoIAgCoAAJAqWoIAgCoAAJAqWoIAgCoAAJAqWoIAgCoAAJAqWoIAgCoAAJAqWoIAgCoAAJBAWoIAgEAAAJA4WoIAgDgAAJBgWoIAgGAAAJBoWoIAgGgAAJBuWoIAgG4AAJAuWoIAgC4AAJBuWoIAgG4AAJAuWoIAgC4AAJAqWoIAgCoAAJB2WoIAgHYAAJB+WoIAgH4AAJAuWoIAgC4AAJAkWoIAgCQAAJAkWoIAgCQAAJB4WoIAgHgAAJAqWoIAgCoAAJAuWoIAgC4AAJAwWoIAgDAAAJAuWoIAgC4AAJAwWoIAgDAAAJAuWoIAgC4AAJA0WoIAgDQAAJAuWoIAgC4AAJAkWoIAgCQAAJAoWoIAgCgAggCQTFqCAIBMAIIAkChaggCAKAAAkDZaggCANgAAkCZaggCAJgAAkCpaggCAKgAAkFBaggCAUAAAkERaggCARAAAkFBaggCAUAAAkFJaggCAUgAAkHJaggCAcgAAkEJaggCAQgAAkFBaggCAUACCAJBQWoIAgFAAAJAqWoIAgCoAAJAkWoIAgCQAggCQUFqCAIBQAACQQlqCAIBCAACQUFqCAIBQAIIAkEZaggCARgCCAJBQWoIAgFAAAJBCWoIAgEIAhACQZFqCAIBkAIIAkCZaggCAJgAAkBxaggCAHAAAkEBaggCAQAAAkCpaggCAKgAAkCRaggCAJACCAJBAWoIAgEAAAJAqWoIAgCoAiAD/LwA=');\n",
       "                        });\n",
       "                </script>"
      ],
      "text/plain": [
       "<IPython.core.display.HTML object>"
      ]
     },
     "metadata": {},
     "output_type": "display_data"
    },
    {
     "name": "stdout",
     "output_type": "stream",
     "text": [
      "0\n",
      "128\n",
      "256\n",
      "384\n",
      "512\n"
     ]
    },
    {
     "data": {
      "text/html": [
       "\n",
       "                <div id='midiPlayerDiv34973'></div>\n",
       "                <link rel=\"stylesheet\" href=\"//cuthbertLab.github.io/music21j/css/m21.css\"\n",
       "                    type=\"text/css\" />\n",
       "                <script>\n",
       "                require.config({\n",
       "                    paths: {'music21': '//cuthbertLab.github.io/music21j/src/music21'}\n",
       "                });\n",
       "                require(['music21'], function() {\n",
       "                               mp = new music21.miditools.MidiPlayer();\n",
       "                               mp.addPlayer('#midiPlayerDiv34973');\n",
       "                               mp.base64Load('data:audio/midi;base64,TVRoZAAAAAYAAQABBABNVHJrAAAC3QD/AwAA4ABAAJAqWoIAgCoAAJAqWoIAgCoAAJAqWoIAgCoAAJAqWoIAgCoAAJAqWoIAgCoAAJAqWoIAgCoAAJAqWoIAgCoAAJAqWoIAgCoAAJAqWoIAgCoAAJAqWoIAgCoAAJAqWoIAgCoAAJAqWoIAgCoAAJAqWoIAgCoAAJAqWoIAgCoAAJAqWoIAgCoAAJAqWoIAgCoAAJBSWoIAgFIAAJAsWoIAgCwAAJAqWoIAgCoAAJAsWoIAgCwAAJAmWoIAgCYAAJAsWoIAgCwAAJAqWoIAgCoAAJA8WoIAgDwAAJAmWoIAgCYAAJA2WoIAgDYAAJAqWoIAgCoAAJAsWoIAgCwAAJAmWoIAgCYAAJAsWoIAgCwAAJAqWoIAgCoAAJAyWoIAgDIAAJAyWoIAgDIAAJAqWoIAgCoAAJA0WoIAgDQAAJA2WoIAgDYAAJAsWoIAgCwAAJAqWoIAgCoAAJAyWoIAgDIAAJA+WoIAgD4AAJAqWoIAgCoAAJA+WoIAgD4AAJA0WoIAgDQAAJA0WoIAgDQAAJAsWoIAgCwAAJA2WoIAgDYAAJAuWoIAgC4AAJAqWoIAgCoAAJAjWoIAgCMAAJBSWoIAgFIAAJA+WoIAgD4AAJBSWoIAgFIAAJAqWoIAgCoAAJAqWoIAgCoAAJA+WoIAgD4AAJAyWoIAgDIAAJAjWoIAgCMAAJAqWoIAgCoAAJA+WoIAgD4AAJAkWoIAgCQAAJAuWoIAgC4AAJAqWoIAgCoAAJA+WoIAgD4AAJASWoIAgBIAAJAqWoIAgCoAAJAqWoIAgCoAAJAqWoIAgCoAAJAqWoIAgCoAAJAuWoIAgC4AAJAqWoIAgCoAAJAqWoIAgCoAAJAqWoIAgCoAAJAqWoIAgCoAAJBGWoIAgEYAAJAqWoIAgCoAAJAqWoIAgCoAAJAuWoIAgC4AAJAqWoIAgCoAAJAqWoIAgCoAAJAqWoIAgCoAiAD/LwA=');\n",
       "                        });\n",
       "                </script>"
      ],
      "text/plain": [
       "<IPython.core.display.HTML object>"
      ]
     },
     "metadata": {},
     "output_type": "display_data"
    },
    {
     "name": "stdout",
     "output_type": "stream",
     "text": [
      "0\n",
      "128\n",
      "256\n",
      "384\n",
      "512\n"
     ]
    },
    {
     "data": {
      "text/html": [
       "\n",
       "                <div id='midiPlayerDiv36179'></div>\n",
       "                <link rel=\"stylesheet\" href=\"//cuthbertLab.github.io/music21j/css/m21.css\"\n",
       "                    type=\"text/css\" />\n",
       "                <script>\n",
       "                require.config({\n",
       "                    paths: {'music21': '//cuthbertLab.github.io/music21j/src/music21'}\n",
       "                });\n",
       "                require(['music21'], function() {\n",
       "                               mp = new music21.miditools.MidiPlayer();\n",
       "                               mp.addPlayer('#midiPlayerDiv36179');\n",
       "                               mp.base64Load('data:audio/midi;base64,TVRoZAAAAAYAAQABBABNVHJrAAACxQD/AwAA4ABAAJAoWoIAgCgAAJAqWoIAgCoAAJAiWoIAgCIAAJAqWoIAgCoAAJAgWoIAgCAAAJAqWoIAgCoAAJAqWoIAgCoAAJAqWoIAgCoAAJAiWoIAgCIAAJAqWoIAgCoAAJAmWoIAgCYAAJAqWoIAgCoAAJAqWoIAgCoAAJAqWoIAgCoAAJB4WoIAgHgAAJAqWoIAgCoAAJASWoIAgBIAAJAOWoIAgA4AAJBQWoIAgFAAAJAOWoIAgA4AAJAMWoIAgAwAAJAOWoIAgA4AAJBQWoIAgFAAAJASWoIAgBIAAJAoWoIAgCgAAJA4WoIAgDgAAJAMWoIAgAwAAJAOWoIAgA4AAJAoWoIAgCgAAJAoWoIAgCgAAJBAWoIAgEAAggCQKlqCAIAqAACQKlqCAIAqAACQKlqCAIAqAACQKlqCAIAqAACQKlqCAIAqAACQKlqCAIAqAACQKlqCAIAqAACQKlqCAIAqAACQKlqCAIAqAACQKlqCAIAqAACQKlqCAIAqAACQKlqCAIAqAACQKlqCAIAqAACQKlqCAIAqAACQKlqCAIAqAACQKlqCAIAqAACQKlqCAIAqAACQKlqCAIAqAACQKlqCAIAqAACQKlqCAIAqAACQIlqCAIAiAACQKlqCAIAqAACQeFqCAIB4AACQKlqCAIAqAACQOFqCAIA4AACQKlqCAIAqAACQOFqCAIA4AACQOFqCAIA4AACQUFqCAIBQAACQOFqCAIA4AACQUFqCAIBQAACQUlqCAIBSAACQJlqCAIAmAACQQlqCAIBCAACQJlqCAIAmAACQKlqCAIAqAACQJlqCAIAmAACQIlqCAIAiAACQJlqCAIAmAIIAkCRaggCAJAAAkCRaggCAJAAAkEBaggCAQAAAkCpaggCAKgAAkCRaggCAJACCAJAmWoIAgCYAAJAqWoIAgCoAiAD/LwA=');\n",
       "                        });\n",
       "                </script>"
      ],
      "text/plain": [
       "<IPython.core.display.HTML object>"
      ]
     },
     "metadata": {},
     "output_type": "display_data"
    },
    {
     "name": "stdout",
     "output_type": "stream",
     "text": [
      "0\n",
      "128\n",
      "256\n",
      "384\n",
      "512\n"
     ]
    },
    {
     "data": {
      "text/html": [
       "\n",
       "                <div id='midiPlayerDiv37385'></div>\n",
       "                <link rel=\"stylesheet\" href=\"//cuthbertLab.github.io/music21j/css/m21.css\"\n",
       "                    type=\"text/css\" />\n",
       "                <script>\n",
       "                require.config({\n",
       "                    paths: {'music21': '//cuthbertLab.github.io/music21j/src/music21'}\n",
       "                });\n",
       "                require(['music21'], function() {\n",
       "                               mp = new music21.miditools.MidiPlayer();\n",
       "                               mp.addPlayer('#midiPlayerDiv37385');\n",
       "                               mp.base64Load('data:audio/midi;base64,TVRoZAAAAAYAAQABBABNVHJrAAAC1QD/AwAA4ABAAJAqWoIAgCoAAJAqWoIAgCoAAJAsWoIAgCwAAJAqWoIAgCoAAJAqWoIAgCoAAJAqWoIAgCoAAJAsWoIAgCwAAJAqWoIAgCoAAJAqWoIAgCoAAJAqWoIAgCoAAJAsWoIAgCwAAJAqWoIAgCoAAJAqWoIAgCoAAJAqWoIAgCoAAJAqWoIAgCoAAJAqWoIAgCoAAJAqWoIAgCoAAJAqWoIAgCoAAJAuWoIAgC4AAJB0WoIAgHQAAJAqWoIAgCoAAJAqWoIAgCoAAJBGWoIAgEYAAJBKWoIAgEoAAJAqWoIAgCoAAJBsWoIAgGwAAJBCWoIAgEIAAJAuWoIAgC4AAJAqWoIAgCoAAJAqWoIAgCoAAJAqWoIAgCoAAJAqWoIAgCoAAJAkWoIAgCQAAJASWoIAgBIAAJAkWoIAgCQAAJAuWoIAgC4AAJASWoIAgBIAAJAOWoIAgA4AAJAyWoIAgDIAAJAqWoIAgCoAAJAWWoIAgBYAAJAOWoIAgA4AAJAkWoIAgCQAAJAuWoIAgC4AAJA+WoIAgD4AAJAOWoIAgA4AAJAkWoIAgCQAAJAqWoIAgCoAAJAqWoIAgCoAAJAqWoIAgCoAAJA+WoIAgD4AAJB0WoIAgHQAAJAuWoIAgC4AggCQKlqCAIAqAACQKlqCAIAqAACQLFqCAIAsAACQPlqCAIA+AACQLFqCAIAsAACQKlqCAIAqAACQKlqCAIAqAACQKlqCAIAqAACQKlqCAIAqAACQKlqCAIAqAACQKlqCAIAqAACQKlqCAIAqAACQLlqCAIAuAACQdFqCAIB0AACQKlqCAIAqAACQKlqCAIAqAACQRlqCAIBGAACQbFqCAIBsAACQLFqCAIAsAACQKlqCAIAqAACQLlqCAIAuAACQPlqCAIA+AACQKlqCAIAqAACQKlqCAIAqAACQLlqCAIAuAACQdFqCAIB0AIgA/y8A');\n",
       "                        });\n",
       "                </script>"
      ],
      "text/plain": [
       "<IPython.core.display.HTML object>"
      ]
     },
     "metadata": {},
     "output_type": "display_data"
    },
    {
     "name": "stdout",
     "output_type": "stream",
     "text": [
      "0\n",
      "128\n",
      "256\n",
      "384\n",
      "512\n"
     ]
    },
    {
     "data": {
      "text/html": [
       "\n",
       "                <div id='midiPlayerDiv38591'></div>\n",
       "                <link rel=\"stylesheet\" href=\"//cuthbertLab.github.io/music21j/css/m21.css\"\n",
       "                    type=\"text/css\" />\n",
       "                <script>\n",
       "                require.config({\n",
       "                    paths: {'music21': '//cuthbertLab.github.io/music21j/src/music21'}\n",
       "                });\n",
       "                require(['music21'], function() {\n",
       "                               mp = new music21.miditools.MidiPlayer();\n",
       "                               mp.addPlayer('#midiPlayerDiv38591');\n",
       "                               mp.base64Load('data:audio/midi;base64,TVRoZAAAAAYAAQABBABNVHJrAAACvQD/AwAA4ABAAJAqWoIAgCoAAJAqWoIAgCoAAJAqWoIAgCoAAJAqWoIAgCoAAJAqWoIAgCoAAJAqWoIAgCoAAJAqWoIAgCoAAJAqWoIAgCoAAJAqWoIAgCoAAJAqWoIAgCoAAJAqWoIAgCoAAJAqWoIAgCoAAJAqWoIAgCoAAJAqWoIAgCoAAJAqWoIAgCoAAJAqWoIAgCoAAJAMWoIAgAwAAJBwWoIAgHAAAJAMWoIAgAwAAJAOWoIAgA4AAJAMWoIAgAwAAJAOWoIAgA4AAJBwWoIAgHAAAJAOWoIAgA4AAJAqWoIAgCoAAJB+WoIAgH4AAJA8WoIAgDwAAJAuWoIAgC4AAJAkWoIAgCQAAJAmWoIAgCYAAJB+WoIAgH4AAJAqWoIAgCoAAJAuWoIAgC4AAJB+WoIAgH4AAJAuWoIAgC4AAJAkWoIAgCQAAJAuWoIAgC4AAJBGWoIAgEYAAJAuWoIAgC4AAJAkWoIAgCQAAJAqWoIAgCoAggCQI1qCAIAjAIIAkChaggCAKAAAkCpaggCAKgAAkCpaggCAKgAAkChaggCAKAAAkFBaggCAUAAAkEJaggCAQgAAkFBaggCAUAAAkDhaggCAOAAAkFJaggCAUgAAkFBaggCAUAAAkFBaggCAUAAAkA5aggCADgAAkCZaggCAJgAAkFBaggCAUAAAkCZaggCAJgAAkDhaggCAOAAAkFBaggCAUAAAkFBaggCAUAAAkCZaggCAJgAAkA5aggCADgAAkHBaggCAcAAAkGpaggCAagAAkG5aggCAbgAAkCpaggCAKgAAkBRaggCAFACCAJASWoIAgBIAggCQKFqCAIAoAACQNlqCAIA2AACQElqCAIASAACQKlqCAIAqAACQKFqCAIAoAACQNlqCAIA2AACQIFqCAIAgAACQKlqCAIAqAIgA/y8A');\n",
       "                        });\n",
       "                </script>"
      ],
      "text/plain": [
       "<IPython.core.display.HTML object>"
      ]
     },
     "metadata": {},
     "output_type": "display_data"
    },
    {
     "name": "stdout",
     "output_type": "stream",
     "text": [
      "0\n",
      "128\n",
      "256\n",
      "384\n",
      "512\n"
     ]
    },
    {
     "data": {
      "text/html": [
       "\n",
       "                <div id='midiPlayerDiv39797'></div>\n",
       "                <link rel=\"stylesheet\" href=\"//cuthbertLab.github.io/music21j/css/m21.css\"\n",
       "                    type=\"text/css\" />\n",
       "                <script>\n",
       "                require.config({\n",
       "                    paths: {'music21': '//cuthbertLab.github.io/music21j/src/music21'}\n",
       "                });\n",
       "                require(['music21'], function() {\n",
       "                               mp = new music21.miditools.MidiPlayer();\n",
       "                               mp.addPlayer('#midiPlayerDiv39797');\n",
       "                               mp.base64Load('data:audio/midi;base64,TVRoZAAAAAYAAQABBABNVHJrAAACzAD/AwAA4ABAAJAOWoIAgA4AAJB8WoIAgHwAAJAOWoIAgA4AAJB8WoIAgHwAAJBuWoIAgG4AAJB8WoIAgHwAAJAOWoIAgA4AAJB8WoIAgHwAAJBuWoIAgG4AAJB8WoIAgHwAAJB8WoIAgHwAAJB8WoIAgHwAAJB6WoIAgHoAAJB8WoIAgHwAAJB6WoIAgHoAAJB8WoIAgHwAAJBOWoIAgE4AAJAgWoIAgCAAAJAgWoIAgCAAAJAoWoIAgCgAAJA8WoIAgDwAAJAoWoIAgCgAAJAoWoIAgCgAAJAkWoIAgCQAAJAgWoIAgCAAAJAoWoIAgCgAAJAuWoIAgC4AAJAuWoIAgC4AAJAuWoIAgC4AAJAoWoIAgCgAAJBCWoIAgEIAAJAkWoIAgCQAAJAOWoIAgA4AAJAOWoIAgA4AAJAYWoIAgBgAAJAYWoIAgBgAAJBmWoIAgGYAAJB8WoIAgHwAAJA0WoIAgDQAAJBCWoIAgEIAAJAWWoIAgBYAAJAOWoIAgA4AAJAOWoIAgA4AAJAYWoIAgBgAAJAOWoIAgA4AAJAOWoIAgA4AAJAkWoIAgCQAAJAqWoIAgCoAAJBeWoIAgF4AAJB6WoIAgHoAAJBuWoIAgG4AAJB8WoIAgHwAAJA2WoIAgDYAAJBoWoIAgGgAAJA2WoIAgDYAAJB8WoIAgHwAAJAjWoIAgCMAAJB8WoIAgHwAAJBuWoIAgG4AAJB8WoIAgHwAAJA2WoIAgDYAAJA2WoIAgDYAAJA2WoIAgDYAAJB9WoIAgH0AAJBuWoIAgG4AAJB8WoIAgHwAAJAOWoIAgA4AAJB8WoIAgHwAAJBGWoIAgEYAAJB8WoIAgHwAAJBuWoIAgG4AAJB8WoIAgHwAAJAgWoIAgCAAAJAoWoIAgCgAAJB6WoIAgHoAggCQSFqCAIBIAACQKFqCAIAoAACQLlqCAIAuAIgA/y8A');\n",
       "                        });\n",
       "                </script>"
      ],
      "text/plain": [
       "<IPython.core.display.HTML object>"
      ]
     },
     "metadata": {},
     "output_type": "display_data"
    },
    {
     "name": "stdout",
     "output_type": "stream",
     "text": [
      "0\n",
      "128\n",
      "256\n",
      "384\n",
      "512\n"
     ]
    },
    {
     "data": {
      "text/html": [
       "\n",
       "                <div id='midiPlayerDiv41003'></div>\n",
       "                <link rel=\"stylesheet\" href=\"//cuthbertLab.github.io/music21j/css/m21.css\"\n",
       "                    type=\"text/css\" />\n",
       "                <script>\n",
       "                require.config({\n",
       "                    paths: {'music21': '//cuthbertLab.github.io/music21j/src/music21'}\n",
       "                });\n",
       "                require(['music21'], function() {\n",
       "                               mp = new music21.miditools.MidiPlayer();\n",
       "                               mp.addPlayer('#midiPlayerDiv41003');\n",
       "                               mp.base64Load('data:audio/midi;base64,TVRoZAAAAAYAAQABBABNVHJrAAAC3QD/AwAA4ABAAJBQWoIAgFAAAJAqWoIAgCoAAJAoWoIAgCgAAJBSWoIAgFIAAJAmWoIAgCYAAJAqWoIAgCoAAJAoWoIAgCgAAJAoWoIAgCgAAJAmWoIAgCYAAJAmWoIAgCYAAJAoWoIAgCgAAJAsWoIAgCwAAJAqWoIAgCoAAJAqWoIAgCoAAJAqWoIAgCoAAJB+WoIAgH4AAJAeWoIAgB4AAJB+WoIAgH4AAJAgWoIAgCAAAJB+WoIAgH4AAJAMWoIAgAwAAJB+WoIAgH4AAJAMWoIAgAwAAJB+WoIAgH4AAJAoWoIAgCgAAJAMWoIAgAwAAJAgWoIAgCAAAJAOWoIAgA4AAJAeWoIAgB4AAJAMWoIAgAwAAJAeWoIAgB4AAJB+WoIAgH4AAJAqWoIAgCoAAJAqWoIAgCoAAJAqWoIAgCoAAJAqWoIAgCoAAJAqWoIAgCoAAJAqWoIAgCoAAJAqWoIAgCoAAJAqWoIAgCoAAJAqWoIAgCoAAJAqWoIAgCoAAJAqWoIAgCoAAJAqWoIAgCoAAJAqWoIAgCoAAJAqWoIAgCoAAJAqWoIAgCoAAJAqWoIAgCoAAJAqWoIAgCoAAJAqWoIAgCoAAJAqWoIAgCoAAJAqWoIAgCoAAJAoWoIAgCgAAJAqWoIAgCoAAJAqWoIAgCoAAJAqWoIAgCoAAJAqWoIAgCoAAJAqWoIAgCoAAJAqWoIAgCoAAJB+WoIAgH4AAJBQWoIAgFAAAJAoWoIAgCgAAJAoWoIAgCgAAJB+WoIAgH4AAJAgWoIAgCAAAJBoWoIAgGgAAJBKWoIAgEoAAJAiWoIAgCIAAJAgWoIAgCAAAJAoWoIAgCgAAJBIWoIAgEgAAJAgWoIAgCAAAJAkWoIAgCQAAJAkWoIAgCQAAJBuWoIAgG4AAJAqWoIAgCoAAJAgWoIAgCAAAJAoWoIAgCgAAJAmWoIAgCYAAJAqWoIAgCoAiAD/LwA=');\n",
       "                        });\n",
       "                </script>"
      ],
      "text/plain": [
       "<IPython.core.display.HTML object>"
      ]
     },
     "metadata": {},
     "output_type": "display_data"
    },
    {
     "name": "stdout",
     "output_type": "stream",
     "text": [
      "0\n",
      "128\n",
      "256\n",
      "384\n",
      "512\n"
     ]
    },
    {
     "data": {
      "text/html": [
       "\n",
       "                <div id='midiPlayerDiv42209'></div>\n",
       "                <link rel=\"stylesheet\" href=\"//cuthbertLab.github.io/music21j/css/m21.css\"\n",
       "                    type=\"text/css\" />\n",
       "                <script>\n",
       "                require.config({\n",
       "                    paths: {'music21': '//cuthbertLab.github.io/music21j/src/music21'}\n",
       "                });\n",
       "                require(['music21'], function() {\n",
       "                               mp = new music21.miditools.MidiPlayer();\n",
       "                               mp.addPlayer('#midiPlayerDiv42209');\n",
       "                               mp.base64Load('data:audio/midi;base64,TVRoZAAAAAYAAQABBABNVHJrAAAC1AD/AwAA4ABAAJB6WoIAgHoAAJB8WoIAgHwAAJA2WoIAgDYAAJB9WoIAgH0AAJBMWoIAgEwAAJA4WoIAgDgAAJBOWoIAgE4AAJB9WoIAgH0AAJBMWoIAgEwAAJA4WoIAgDgAAJBSWoIAgFIAAJBCWoIAgEIAAJAuWoIAgC4AAJB+WoIAgH4AAJBMWoIAgEwAAJA4WoIAgDgAAJAqWoIAgCoAAJAqWoIAgCoAAJAuWoIAgC4AAJB4WoIAgHgAAJAmWoIAgCYAAJAoWoIAgCgAAJAqWoIAgCoAAJAqWoIAgCoAAJAqWoIAgCoAAJAqWoIAgCoAAJAuWoIAgC4AAJAqWoIAgCoAAJAqWoIAgCoAAJAqWoIAgCoAAJAqWoIAgCoAAJAqWoIAgCoAAJAOWoIAgA4AAJB8WoIAgHwAAJB+WoIAgH4AAJB9WoIAgH0AAJAUWoIAgBQAAJB6WoIAgHoAAJA2WoIAgDYAAJB+WoIAgH4AAJAoWoIAgCgAAJAOWoIAgA4AAJAOWoIAgA4AAJAOWoIAgA4AAJAsWoIAgCwAAJA8WoIAgDwAAJA2WoIAgDYAAJAqWoIAgCoAAJAjWoIAgCMAAJA4WoIAgDgAAJBOWoIAgE4AAJBOWoIAgE4AAJB6WoIAgHoAAJB9WoIAgH0AAJB6WoIAgHoAAJB9WoIAgH0AAJBKWoIAgEoAAJB9WoIAgH0AAJB6WoIAgHoAAJB9WoIAgH0AAJB6WoIAgHoAAJB8WoIAgHwAAJB6WoIAgHoAAJB9WoIAgH0AAJBWWoIAgFYAAJB8WoIAgHwAAJB6WoIAgHoAAJB8WoIAgHwAAJB6WoIAgHoAAJB6WoIAgHoAAJA+WoIAgD4AAJB8WoIAgHwAAJAuWoIAgC4AAJAuWoIAgC4AAJBOWoIAgE4AAJBkWoIAgGQAAJAOWoIAgA4AAJAoWoIAgCgAAJAuWoIAgC4AiAD/LwA=');\n",
       "                        });\n",
       "                </script>"
      ],
      "text/plain": [
       "<IPython.core.display.HTML object>"
      ]
     },
     "metadata": {},
     "output_type": "display_data"
    },
    {
     "name": "stdout",
     "output_type": "stream",
     "text": [
      "0\n",
      "128\n",
      "256\n",
      "384\n",
      "512\n"
     ]
    },
    {
     "data": {
      "text/html": [
       "\n",
       "                <div id='midiPlayerDiv43415'></div>\n",
       "                <link rel=\"stylesheet\" href=\"//cuthbertLab.github.io/music21j/css/m21.css\"\n",
       "                    type=\"text/css\" />\n",
       "                <script>\n",
       "                require.config({\n",
       "                    paths: {'music21': '//cuthbertLab.github.io/music21j/src/music21'}\n",
       "                });\n",
       "                require(['music21'], function() {\n",
       "                               mp = new music21.miditools.MidiPlayer();\n",
       "                               mp.addPlayer('#midiPlayerDiv43415');\n",
       "                               mp.base64Load('data:audio/midi;base64,TVRoZAAAAAYAAQABBABNVHJrAAACzQD/AwAA4ABAAJAqWoIAgCoAAJAqWoIAgCoAAJAqWoIAgCoAAJAqWoIAgCoAAJAqWoIAgCoAAJAqWoIAgCoAAJAqWoIAgCoAAJAmWoIAgCYAAJAqWoIAgCoAAJAqWoIAgCoAAJAqWoIAgCoAAJAqWoIAgCoAAJAqWoIAgCoAAJAqWoIAgCoAAJAqWoIAgCoAAJAqWoIAgCoAAJAeWoIAgB4AAJAkWoIAgCQAAJAeWoIAgB4AAJB8WoIAgHwAAJAeWoIAgB4AAJBAWoIAgEAAAJAeWoIAgB4AAJBAWoIAgEAAAJAqWoIAgCoAAJBAWoIAgEAAAJAkWoIAgCQAAJAuWoIAgC4AAJBuWoIAgG4AAJAoWoIAgCgAggCQKlqCAIAqAACQLlqCAIAuAACQQlqCAIBCAACQLlqCAIAuAACQQlqCAIBCAACQLlqCAIAuAACQQlqCAIBCAACQLlqCAIAuAACQJFqCAIAkAACQNlqCAIA2AACQKlqCAIAqAACQI1qCAIAjAACQI1qCAIAjAACQKFqCAIAoAACQKlqCAIAqAACQKFqCAIAoAIIAkCZaggCAJgAAkDxaggCAPAAAkCpaggCAKgAAkFJaggCAUgAAkCZaggCAJgAAkEpaggCASgAAkCpaggCAKgAAkH5aggCAfgAAkCZaggCAJgAAkEpaggCASgAAkCpaggCAKgAAkH5aggCAfgAAkCZaggCAJgAAkEpaggCASgAAkCZaggCAJgAAkH5aggCAfgAAkCpaggCAKgAAkFRaggCAVAAAkEBaggCAQAAAkCpaggCAKgAAkB5aggCAHgAAkCpaggCAKgAAkCpaggCAKgAAkCRaggCAJAAAkChaggCAKAAAkDRaggCANAAAkFpaggCAWgAAkCpaggCAKgAAkChaggCAKAAAkFJaggCAUgAAkBhaggCAGAAAkCpaggCAKgCIAP8vAA==');\n",
       "                        });\n",
       "                </script>"
      ],
      "text/plain": [
       "<IPython.core.display.HTML object>"
      ]
     },
     "metadata": {},
     "output_type": "display_data"
    },
    {
     "name": "stdout",
     "output_type": "stream",
     "text": [
      "0\n",
      "128\n",
      "256\n",
      "384\n",
      "512\n"
     ]
    },
    {
     "data": {
      "text/html": [
       "\n",
       "                <div id='midiPlayerDiv44621'></div>\n",
       "                <link rel=\"stylesheet\" href=\"//cuthbertLab.github.io/music21j/css/m21.css\"\n",
       "                    type=\"text/css\" />\n",
       "                <script>\n",
       "                require.config({\n",
       "                    paths: {'music21': '//cuthbertLab.github.io/music21j/src/music21'}\n",
       "                });\n",
       "                require(['music21'], function() {\n",
       "                               mp = new music21.miditools.MidiPlayer();\n",
       "                               mp.addPlayer('#midiPlayerDiv44621');\n",
       "                               mp.base64Load('data:audio/midi;base64,TVRoZAAAAAYAAQABBABNVHJrAAACzAD/AwAA4ABAAJAqWoIAgCoAAJAyWoIAgDIAAJA8WoIAgDwAAJAOWoIAgA4AAJAqWoIAgCoAAJAqWoIAgCoAAJA8WoIAgDwAAJA4WoIAgDgAAJAqWoIAgCoAAJAyWoIAgDIAAJA8WoIAgDwAAJB9WoIAgH0AAJAqWoIAgCoAAJAqWoIAgCoAAJAqWoIAgCoAAJAqWoIAgCoAAJAqWoIAgCoAAJAuWoIAgC4AAJA8WoIAgDwAAJA0WoIAgDQAAJAqWoIAgCoAAJAqWoIAgCoAAJAsWoIAgCwAAJAuWoIAgC4AAJAkWoIAgCQAAJAuWoIAgC4AAJA8WoIAgDwAAJA0WoIAgDQAAJAqWoIAgCoAAJAqWoIAgCoAAJAqWoIAgCoAAJAqWoIAgCoAAJAOWoIAgA4AAJB9WoIAgH0AAJB+WoIAgH4AAJAoWoIAgCgAAJB9WoIAgH0AAJB9WoIAgH0AAJAyWoIAgDIAAJB+WoIAgH4AAJAoWoIAgCgAAJAOWoIAgA4AAJB+WoIAgH4AAJAoWoIAgCgAAJAkWoIAgCQAAJAuWoIAgC4AAJBAWoIAgEAAAJBAWoIAgEAAAJAjWoIAgCMAAJBoWoIAgGgAAJA+WoIAgD4AAJBoWoIAgGgAAJAkWoIAgCQAAJASWoIAgBIAAJAsWoIAgCwAAJBOWoIAgE4AAJAiWoIAgCIAAJBOWoIAgE4AAJAjWoIAgCMAAJAyWoIAgDIAAJA+WoIAgD4AAJBmWoIAgGYAAJB+WoIAgH4AAJAuWoIAgC4AAJB+WoIAgH4AAJB9WoIAgH0AAJB9WoIAgH0AAJB+WoIAgH4AAJBIWoIAgEgAAJB9WoIAgH0AAJB9WoIAgH0AAJB9WoIAgH0AAJAoWoIAgCgAAJBUWoIAgFQAAJBWWoIAgFYAggCQKFqCAIAoAACQKFqCAIAoAACQflqCAIB+AIgA/y8A');\n",
       "                        });\n",
       "                </script>"
      ],
      "text/plain": [
       "<IPython.core.display.HTML object>"
      ]
     },
     "metadata": {},
     "output_type": "display_data"
    },
    {
     "name": "stdout",
     "output_type": "stream",
     "text": [
      "0\n",
      "128\n",
      "256\n",
      "384\n",
      "512\n"
     ]
    },
    {
     "data": {
      "text/html": [
       "\n",
       "                <div id='midiPlayerDiv45827'></div>\n",
       "                <link rel=\"stylesheet\" href=\"//cuthbertLab.github.io/music21j/css/m21.css\"\n",
       "                    type=\"text/css\" />\n",
       "                <script>\n",
       "                require.config({\n",
       "                    paths: {'music21': '//cuthbertLab.github.io/music21j/src/music21'}\n",
       "                });\n",
       "                require(['music21'], function() {\n",
       "                               mp = new music21.miditools.MidiPlayer();\n",
       "                               mp.addPlayer('#midiPlayerDiv45827');\n",
       "                               mp.base64Load('data:audio/midi;base64,TVRoZAAAAAYAAQABBABNVHJrAAAC3QD/AwAA4ABAAJAmWoIAgCYAAJBIWoIAgEgAAJAoWoIAgCgAAJASWoIAgBIAAJAmWoIAgCYAAJBQWoIAgFAAAJAoWoIAgCgAAJBIWoIAgEgAAJAmWoIAgCYAAJAmWoIAgCYAAJAoWoIAgCgAAJAkWoIAgCQAAJAmWoIAgCYAAJAyWoIAgDIAAJAqWoIAgCoAAJBIWoIAgEgAAJAeWoIAgB4AAJAYWoIAgBgAAJAeWoIAgB4AAJBCWoIAgEIAAJAeWoIAgB4AAJB+WoIAgH4AAJAeWoIAgB4AAJBCWoIAgEIAAJAeWoIAgB4AAJBKWoIAgEoAAJAeWoIAgB4AAJBCWoIAgEIAAJAeWoIAgB4AAJAYWoIAgBgAAJAeWoIAgB4AAJBCWoIAgEIAAJAqWoIAgCoAAJAqWoIAgCoAAJAqWoIAgCoAAJAqWoIAgCoAAJAqWoIAgCoAAJAqWoIAgCoAAJAqWoIAgCoAAJAqWoIAgCoAAJAqWoIAgCoAAJAqWoIAgCoAAJAqWoIAgCoAAJAqWoIAgCoAAJAqWoIAgCoAAJAqWoIAgCoAAJAqWoIAgCoAAJAqWoIAgCoAAJAqWoIAgCoAAJAqWoIAgCoAAJAmWoIAgCYAAJAkWoIAgCQAAJAqWoIAgCoAAJAqWoIAgCoAAJAqWoIAgCoAAJAqWoIAgCoAAJAqWoIAgCoAAJAyWoIAgDIAAJAeWoIAgB4AAJBCWoIAgEIAAJAmWoIAgCYAAJAMWoIAgAwAAJBQWoIAgFAAAJBSWoIAgFIAAJAeWoIAgB4AAJASWoIAgBIAAJA+WoIAgD4AAJBOWoIAgE4AAJAeWoIAgB4AAJAgWoIAgCAAAJBYWoIAgFgAAJBCWoIAgEIAAJBAWoIAgEAAAJAkWoIAgCQAAJBIWoIAgEgAAJAqWoIAgCoAAJAoWoIAgCgAAJBGWoIAgEYAAJAmWoIAgCYAAJAqWoIAgCoAiAD/LwA=');\n",
       "                        });\n",
       "                </script>"
      ],
      "text/plain": [
       "<IPython.core.display.HTML object>"
      ]
     },
     "metadata": {},
     "output_type": "display_data"
    },
    {
     "name": "stdout",
     "output_type": "stream",
     "text": [
      "0\n",
      "128\n",
      "256\n",
      "384\n",
      "512\n"
     ]
    },
    {
     "data": {
      "text/html": [
       "\n",
       "                <div id='midiPlayerDiv47033'></div>\n",
       "                <link rel=\"stylesheet\" href=\"//cuthbertLab.github.io/music21j/css/m21.css\"\n",
       "                    type=\"text/css\" />\n",
       "                <script>\n",
       "                require.config({\n",
       "                    paths: {'music21': '//cuthbertLab.github.io/music21j/src/music21'}\n",
       "                });\n",
       "                require(['music21'], function() {\n",
       "                               mp = new music21.miditools.MidiPlayer();\n",
       "                               mp.addPlayer('#midiPlayerDiv47033');\n",
       "                               mp.base64Load('data:audio/midi;base64,TVRoZAAAAAYAAQABBABNVHJrAAAC3QD/AwAA4ABAAJAyWoIAgDIAAJBCWoIAgEIAAJB+WoIAgH4AAJAYWoIAgBgAAJASWoIAgBIAAJASWoIAgBIAAJA+WoIAgD4AAJASWoIAgBIAAJBmWoIAgGYAAJAMWoIAgAwAAJASWoIAgBIAAJAOWoIAgA4AAJBmWoIAgGYAAJASWoIAgBIAAJASWoIAgBIAAJASWoIAgBIAAJBWWoIAgFYAAJAMWoIAgAwAAJAoWoIAgCgAAJAuWoIAgC4AAJAmWoIAgCYAAJBsWoIAgGwAAJA8WoIAgDwAAJASWoIAgBIAAJAsWoIAgCwAAJAuWoIAgC4AAJAkWoIAgCQAAJAuWoIAgC4AAJBOWoIAgE4AAJASWoIAgBIAAJA2WoIAgDYAAJAuWoIAgC4AAJAkWoIAgCQAAJAWWoIAgBYAAJAuWoIAgC4AAJASWoIAgBIAAJBWWoIAgFYAAJASWoIAgBIAAJBUWoIAgFQAAJAqWoIAgCoAAJBkWoIAgGQAAJASWoIAgBIAAJBUWoIAgFQAAJAmWoIAgCYAAJA2WoIAgDYAAJAsWoIAgCwAAJAwWoIAgDAAAJAqWoIAgCoAAJAjWoIAgCMAAJB9WoIAgH0AAJAaWoIAgBoAAJBCWoIAgEIAAJAeWoIAgB4AAJA8WoIAgDwAAJAuWoIAgC4AAJBCWoIAgEIAAJAiWoIAgCIAAJB9WoIAgH0AAJB+WoIAgH4AAJB9WoIAgH0AAJAOWoIAgA4AAJAsWoIAgCwAAJB9WoIAgH0AAJB9WoIAgH0AAJB+WoIAgH4AAJB9WoIAgH0AAJB+WoIAgH4AAJB9WoIAgH0AAJAoWoIAgCgAAJB9WoIAgH0AAJB9WoIAgH0AAJB9WoIAgH0AAJAoWoIAgCgAAJBsWoIAgGwAAJA+WoIAgD4AAJBuWoIAgG4AAJAoWoIAgCgAAJB9WoIAgH0AAJAoWoIAgCgAAJB9WoIAgH0AiAD/LwA=');\n",
       "                        });\n",
       "                </script>"
      ],
      "text/plain": [
       "<IPython.core.display.HTML object>"
      ]
     },
     "metadata": {},
     "output_type": "display_data"
    },
    {
     "name": "stdout",
     "output_type": "stream",
     "text": [
      "0\n",
      "128\n",
      "256\n",
      "384\n",
      "512\n"
     ]
    },
    {
     "data": {
      "text/html": [
       "\n",
       "                <div id='midiPlayerDiv48239'></div>\n",
       "                <link rel=\"stylesheet\" href=\"//cuthbertLab.github.io/music21j/css/m21.css\"\n",
       "                    type=\"text/css\" />\n",
       "                <script>\n",
       "                require.config({\n",
       "                    paths: {'music21': '//cuthbertLab.github.io/music21j/src/music21'}\n",
       "                });\n",
       "                require(['music21'], function() {\n",
       "                               mp = new music21.miditools.MidiPlayer();\n",
       "                               mp.addPlayer('#midiPlayerDiv48239');\n",
       "                               mp.base64Load('data:audio/midi;base64,TVRoZAAAAAYAAQABBABNVHJrAAAC3QD/AwAA4ABAAJAqWoIAgCoAAJAqWoIAgCoAAJAqWoIAgCoAAJAqWoIAgCoAAJAqWoIAgCoAAJAqWoIAgCoAAJAqWoIAgCoAAJAqWoIAgCoAAJAqWoIAgCoAAJAqWoIAgCoAAJAqWoIAgCoAAJAqWoIAgCoAAJAqWoIAgCoAAJAqWoIAgCoAAJAqWoIAgCoAAJAqWoIAgCoAAJAeWoIAgB4AAJA8WoIAgDwAAJAeWoIAgB4AAJA6WoIAgDoAAJBwWoIAgHAAAJBAWoIAgEAAAJBwWoIAgHAAAJAuWoIAgC4AAJAqWoIAgCoAAJAoWoIAgCgAAJB+WoIAgH4AAJAuWoIAgC4AAJAkWoIAgCQAAJAoWoIAgCgAAJA+WoIAgD4AAJAqWoIAgCoAAJAuWoIAgC4AAJBGWoIAgEYAAJAuWoIAgC4AAJAYWoIAgBgAAJAuWoIAgC4AAJBCWoIAgEIAAJAMWoIAgAwAAJAkWoIAgCQAAJBGWoIAgEYAAJBCWoIAgEIAAJAjWoIAgCMAAJAjWoIAgCMAAJBKWoIAgEoAAJAkWoIAgCQAAJAoWoIAgCgAAJAYWoIAgBgAAJAmWoIAgCYAAJAgWoIAgCAAAJAeWoIAgB4AAJA6WoIAgDoAAJAmWoIAgCYAAJAMWoIAgAwAAJAaWoIAgBoAAJA6WoIAgDoAAJAmWoIAgCYAAJAmWoIAgCYAAJAeWoIAgB4AAJAsWoIAgCwAAJAmWoIAgCYAAJAMWoIAgAwAAJAqWoIAgCoAAJB6WoIAgHoAAJAqWoIAgCoAAJAqWoIAgCoAAJBAWoIAgEAAAJAqWoIAgCoAAJA+WoIAgD4AAJA0WoIAgDQAAJBcWoIAgFwAAJAMWoIAgAwAAJAoWoIAgCgAAJBKWoIAgEoAAJBcWoIAgFwAAJAqWoIAgCoAAJAoWoIAgCgAAJBKWoIAgEoAAJAmWoIAgCYAAJAqWoIAgCoAiAD/LwA=');\n",
       "                        });\n",
       "                </script>"
      ],
      "text/plain": [
       "<IPython.core.display.HTML object>"
      ]
     },
     "metadata": {},
     "output_type": "display_data"
    },
    {
     "name": "stdout",
     "output_type": "stream",
     "text": [
      "0\n",
      "128\n",
      "256\n",
      "384\n",
      "512\n"
     ]
    },
    {
     "data": {
      "text/html": [
       "\n",
       "                <div id='midiPlayerDiv49445'></div>\n",
       "                <link rel=\"stylesheet\" href=\"//cuthbertLab.github.io/music21j/css/m21.css\"\n",
       "                    type=\"text/css\" />\n",
       "                <script>\n",
       "                require.config({\n",
       "                    paths: {'music21': '//cuthbertLab.github.io/music21j/src/music21'}\n",
       "                });\n",
       "                require(['music21'], function() {\n",
       "                               mp = new music21.miditools.MidiPlayer();\n",
       "                               mp.addPlayer('#midiPlayerDiv49445');\n",
       "                               mp.base64Load('data:audio/midi;base64,TVRoZAAAAAYAAQABBABNVHJrAAAC3QD/AwAA4ABAAJAqWoIAgCoAAJAqWoIAgCoAAJAuWoIAgC4AAJBeWoIAgF4AAJAqWoIAgCoAAJAqWoIAgCoAAJAuWoIAgC4AAJBeWoIAgF4AAJAqWoIAgCoAAJAqWoIAgCoAAJAuWoIAgC4AAJBeWoIAgF4AAJAqWoIAgCoAAJAqWoIAgCoAAJAuWoIAgC4AAJBeWoIAgF4AAJAqWoIAgCoAAJAuWoIAgC4AAJAuWoIAgC4AAJBuWoIAgG4AAJAqWoIAgCoAAJAqWoIAgCoAAJAsWoIAgCwAAJAuWoIAgC4AAJAqWoIAgCoAAJAuWoIAgC4AAJAqWoIAgCoAAJAqWoIAgCoAAJAuWoIAgC4AAJAuWoIAgC4AAJAqWoIAgCoAAJAqWoIAgCoAAJAqWoIAgCoAAJAkWoIAgCQAAJB+WoIAgH4AAJAuWoIAgC4AAJAjWoIAgCMAAJBCWoIAgEIAAJAjWoIAgCMAAJAqWoIAgCoAAJAkWoIAgCQAAJAmWoIAgCYAAJB6WoIAgHoAAJAOWoIAgA4AAJAqWoIAgCoAAJAmWoIAgCYAAJAmWoIAgCYAAJAmWoIAgCYAAJAqWoIAgCoAAJBCWoIAgEIAAJAqWoIAgCoAAJAqWoIAgCoAAJAqWoIAgCoAAJAqWoIAgCoAAJAqWoIAgCoAAJAqWoIAgCoAAJAqWoIAgCoAAJAoWoIAgCgAAJAqWoIAgCoAAJAqWoIAgCoAAJAqWoIAgCoAAJAqWoIAgCoAAJAqWoIAgCoAAJAqWoIAgCoAAJAjWoIAgCMAAJAqWoIAgCoAAJAqWoIAgCoAAJAqWoIAgCoAAJAqWoIAgCoAAJAqWoIAgCoAAJAqWoIAgCoAAJAqWoIAgCoAAJAqWoIAgCoAAJAqWoIAgCoAAJAqWoIAgCoAAJAqWoIAgCoAAJAqWoIAgCoAAJAqWoIAgCoAAJAuWoIAgC4AAJAqWoIAgCoAiAD/LwA=');\n",
       "                        });\n",
       "                </script>"
      ],
      "text/plain": [
       "<IPython.core.display.HTML object>"
      ]
     },
     "metadata": {},
     "output_type": "display_data"
    }
   ],
   "source": [
    "generate_midis(folder_png)"
   ]
  },
  {
   "cell_type": "code",
   "execution_count": null,
   "metadata": {},
   "outputs": [],
   "source": []
  }
 ],
 "metadata": {
  "accelerator": "GPU",
  "colab": {
   "collapsed_sections": [],
   "name": "Untitled3.ipynb",
   "provenance": [],
   "version": "0.3.2"
  },
  "kernelspec": {
   "display_name": "Python 3",
   "language": "python",
   "name": "python3"
  },
  "language_info": {
   "codemirror_mode": {
    "name": "ipython",
    "version": 3
   },
   "file_extension": ".py",
   "mimetype": "text/x-python",
   "name": "python",
   "nbconvert_exporter": "python",
   "pygments_lexer": "ipython3",
   "version": "3.6.6"
  }
 },
 "nbformat": 4,
 "nbformat_minor": 1
}
