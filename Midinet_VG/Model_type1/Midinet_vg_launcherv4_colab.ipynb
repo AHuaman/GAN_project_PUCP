{
  "nbformat": 4,
  "nbformat_minor": 0,
  "metadata": {
    "colab": {
      "name": "Midinet_vg_launcherv4_colab.ipynb",
      "version": "0.3.2",
      "provenance": [],
      "collapsed_sections": []
    },
    "kernelspec": {
      "display_name": "Python 3",
      "language": "python",
      "name": "python3"
    },
    "accelerator": "GPU"
  },
  "cells": [
    {
      "metadata": {
        "colab_type": "code",
        "id": "YpIowAfEsrKT",
        "outputId": "2aa103db-5a09-4365-91d0-3d9aa9629f80",
        "colab": {
          "base_uri": "https://localhost:8080/",
          "height": 575
        }
      },
      "cell_type": "code",
      "source": [
        "import os\n",
        "import tensorflow as tf\n",
        "import pickle\n",
        "import numpy as np\n",
        "import pandas as pd\n",
        "from tensorflow.python.client import device_lib\n",
        "print(device_lib.list_local_devices())\n",
        "from os import listdir\n",
        "from os.path import isfile, join"
      ],
      "execution_count": 0,
      "outputs": [
        {
          "output_type": "stream",
          "text": [
            "[name: \"/device:CPU:0\"\n",
            "device_type: \"CPU\"\n",
            "memory_limit: 268435456\n",
            "locality {\n",
            "}\n",
            "incarnation: 18358426850533070820\n",
            ", name: \"/device:XLA_CPU:0\"\n",
            "device_type: \"XLA_CPU\"\n",
            "memory_limit: 17179869184\n",
            "locality {\n",
            "}\n",
            "incarnation: 10675481879638477332\n",
            "physical_device_desc: \"device: XLA_CPU device\"\n",
            ", name: \"/device:XLA_GPU:0\"\n",
            "device_type: \"XLA_GPU\"\n",
            "memory_limit: 17179869184\n",
            "locality {\n",
            "}\n",
            "incarnation: 12306715798292822977\n",
            "physical_device_desc: \"device: XLA_GPU device\"\n",
            ", name: \"/device:GPU:0\"\n",
            "device_type: \"GPU\"\n",
            "memory_limit: 11281553818\n",
            "locality {\n",
            "  bus_id: 1\n",
            "  links {\n",
            "  }\n",
            "}\n",
            "incarnation: 11816512328194644323\n",
            "physical_device_desc: \"device: 0, name: Tesla K80, pci bus id: 0000:00:04.0, compute capability: 3.7\"\n",
            "]\n"
          ],
          "name": "stdout"
        }
      ]
    },
    {
      "metadata": {
        "id": "eGktoM1DgGN_",
        "colab_type": "code",
        "colab": {}
      },
      "cell_type": "code",
      "source": [
        "%load_ext autoreload\n",
        "%autoreload 2"
      ],
      "execution_count": 0,
      "outputs": []
    },
    {
      "metadata": {
        "id": "ERlqGEQsuJPU",
        "colab_type": "code",
        "outputId": "310c8ba9-4257-4aad-9caf-167a471725b6",
        "colab": {
          "base_uri": "https://localhost:8080/",
          "height": 35
        }
      },
      "cell_type": "code",
      "source": [
        "!rm -r GAN_project_PUCP/ #borramos en caso quieras comenzar de nuevo\n"
      ],
      "execution_count": 0,
      "outputs": [
        {
          "output_type": "stream",
          "text": [
            "rm: cannot remove 'GAN_project_PUCP/': No such file or directory\n"
          ],
          "name": "stdout"
        }
      ]
    },
    {
      "metadata": {
        "id": "3NPWbE3au0CK",
        "colab_type": "code",
        "colab": {}
      },
      "cell_type": "code",
      "source": [
        "!rm -r sample_data/ #borramos en caso quieras comenzar de nuevo"
      ],
      "execution_count": 0,
      "outputs": []
    },
    {
      "metadata": {
        "colab_type": "code",
        "outputId": "f6ca6069-b836-424e-96d2-36db099ef6f0",
        "id": "hsHiubBntnIG",
        "colab": {
          "base_uri": "https://localhost:8080/",
          "height": 35
        }
      },
      "cell_type": "code",
      "source": [
        "os.listdir('.')"
      ],
      "execution_count": 0,
      "outputs": [
        {
          "output_type": "execute_result",
          "data": {
            "text/plain": [
              "['.config']"
            ]
          },
          "metadata": {
            "tags": []
          },
          "execution_count": 5
        }
      ]
    },
    {
      "metadata": {
        "id": "A0ZRXHtyvlzc",
        "colab_type": "code",
        "outputId": "2a9e0919-a577-4248-97a5-1926f1072941",
        "colab": {
          "base_uri": "https://localhost:8080/",
          "height": 143
        }
      },
      "cell_type": "code",
      "source": [
        "!git clone https://github.com/AHuaman/GAN_project_PUCP.git"
      ],
      "execution_count": 0,
      "outputs": [
        {
          "output_type": "stream",
          "text": [
            "Cloning into 'GAN_project_PUCP'...\n",
            "remote: Enumerating objects: 181, done.\u001b[K\n",
            "remote: Counting objects: 100% (181/181), done.\u001b[K\n",
            "remote: Compressing objects: 100% (146/146), done.\u001b[K\n",
            "remote: Total 1299 (delta 40), reused 166 (delta 33), pack-reused 1118\u001b[K\n",
            "Receiving objects: 100% (1299/1299), 134.39 MiB | 24.08 MiB/s, done.\n",
            "Resolving deltas: 100% (130/130), done.\n"
          ],
          "name": "stdout"
        }
      ]
    },
    {
      "metadata": {
        "colab_type": "code",
        "id": "I0oG6aLJsq_a",
        "colab": {}
      },
      "cell_type": "code",
      "source": [
        "import os\n",
        "os.chdir('GAN_project_PUCP/Midinet_VG/Model_type1')\n"
      ],
      "execution_count": 0,
      "outputs": []
    },
    {
      "metadata": {
        "id": "XnvEdnMizRUn",
        "colab_type": "code",
        "colab": {}
      },
      "cell_type": "code",
      "source": [
        "# finding optimal n for KMEANS\n",
        "from sklearn.cluster import KMeans\n",
        "from sklearn.metrics import silhouette_score"
      ],
      "execution_count": 0,
      "outputs": []
    },
    {
      "metadata": {
        "id": "3AS4gQIDzaXj",
        "colab_type": "code",
        "outputId": "2c961c38-4e4a-4738-bc02-6934ecd1f0ba",
        "colab": {
          "base_uri": "https://localhost:8080/",
          "height": 35
        }
      },
      "cell_type": "code",
      "source": [
        "flattened_data = data_songs.squeeze().reshape(len(data_songs),16*128)\n",
        "flattened_data.shape"
      ],
      "execution_count": 0,
      "outputs": [
        {
          "output_type": "execute_result",
          "data": {
            "text/plain": [
              "(11506, 2048)"
            ]
          },
          "metadata": {
            "tags": []
          },
          "execution_count": 22
        }
      ]
    },
    {
      "metadata": {
        "id": "jJ5R_fXO5w9h",
        "colab_type": "code",
        "colab": {}
      },
      "cell_type": "code",
      "source": [
        "from sklearn.preprocessing import StandardScaler\n",
        "song_scaler = StandardScaler().fit(flattened_data)\n",
        "scaled_songs = song_scaler.transform(flattened_data)"
      ],
      "execution_count": 0,
      "outputs": []
    },
    {
      "metadata": {
        "id": "4abMu89l4Cur",
        "colab_type": "code",
        "colab": {}
      },
      "cell_type": "code",
      "source": [
        "from sklearn.decomposition import PCA\n",
        "pca = PCA(n_components=175)\n",
        "song_pca = pca.fit(flattened_data)\n",
        "pca_songs = song_pca.transform(flattened_data)"
      ],
      "execution_count": 0,
      "outputs": []
    },
    {
      "metadata": {
        "id": "D3DBgDFI7AUN",
        "colab_type": "code",
        "colab": {}
      },
      "cell_type": "code",
      "source": [
        "def projectData(pcaModel, X, K):\n",
        "    Z = pcaModel.transform(X)[:,:K]\n",
        "    return Z"
      ],
      "execution_count": 0,
      "outputs": []
    },
    {
      "metadata": {
        "id": "raUw5_yl7AZy",
        "colab_type": "code",
        "colab": {}
      },
      "cell_type": "code",
      "source": [
        "def recoverData(pcaModel, Z):\n",
        "    K = Z.shape[1]\n",
        "    X_rec = np.dot(Z, pcaModel.components_[:K,:])\n",
        "    return X_rec"
      ],
      "execution_count": 0,
      "outputs": []
    },
    {
      "metadata": {
        "id": "7HRF84157Ads",
        "colab_type": "code",
        "colab": {}
      },
      "cell_type": "code",
      "source": [
        ""
      ],
      "execution_count": 0,
      "outputs": []
    },
    {
      "metadata": {
        "id": "EqiNDBU17Al1",
        "colab_type": "code",
        "colab": {}
      },
      "cell_type": "code",
      "source": [
        ""
      ],
      "execution_count": 0,
      "outputs": []
    },
    {
      "metadata": {
        "id": "H95T2JQS7AXl",
        "colab_type": "code",
        "outputId": "710e1d11-10b5-41a3-c5dd-247886158aa1",
        "colab": {
          "base_uri": "https://localhost:8080/",
          "height": 334
        }
      },
      "cell_type": "code",
      "source": [
        "\n",
        "plt.figure(figsize=(7,5))\n",
        "plt.plot(np.linspace(1,2048,2048), np.cumsum(song_pca.explained_variance_ratio_))\n",
        "plt.ylabel('Proporción Acumulada de Varianza Explicada')\n",
        "plt.xlabel('Componente Principal')\n",
        "plt.xlim(0.75,4.25)\n",
        "plt.ylim(0,1.05)\n",
        "plt.xticks(np.linspace(100,1100,11))\n",
        "plt.show()"
      ],
      "execution_count": 0,
      "outputs": [
        {
          "output_type": "display_data",
          "data": {
            "image/png": "[encoded data removed]",
            "text/plain": [
              "<matplotlib.figure.Figure at 0x7f9a50283278>"
            ]
          },
          "metadata": {
            "tags": [],
            "image/png": {
              "width": 451,
              "height": 317
            }
          }
        }
      ]
    },
    {
      "metadata": {
        "id": "RX6Gcbpb4cik",
        "colab_type": "code",
        "outputId": "5897a0c5-5815-493d-b055-2f9ff5d001e9",
        "colab": {
          "base_uri": "https://localhost:8080/",
          "height": 35
        }
      },
      "cell_type": "code",
      "source": [
        "clusterer = KMeans(n_clusters=24,init='k-means++',algorithm='full').fit(pca_songs)\n",
        "clusterer.inertia_"
      ],
      "execution_count": 0,
      "outputs": [
        {
          "output_type": "execute_result",
          "data": {
            "text/plain": [
              "55036.688256541"
            ]
          },
          "metadata": {
            "tags": []
          },
          "execution_count": 24
        }
      ]
    },
    {
      "metadata": {
        "id": "mTk1sRYM4oOi",
        "colab_type": "code",
        "outputId": "a6cfdeb9-748a-4812-84ed-3e1c26174f46",
        "colab": {
          "base_uri": "https://localhost:8080/",
          "height": 35
        }
      },
      "cell_type": "code",
      "source": [
        "silhouette_score(pca_songs, clusterer.labels_)"
      ],
      "execution_count": 0,
      "outputs": [
        {
          "output_type": "execute_result",
          "data": {
            "text/plain": [
              "0.1491445462450128"
            ]
          },
          "metadata": {
            "tags": []
          },
          "execution_count": 22
        }
      ]
    },
    {
      "metadata": {
        "id": "fz6FHcfnnMTG",
        "colab_type": "code",
        "outputId": "23f6a8e8-bce4-4618-c912-d7e137efd2a3",
        "colab": {
          "base_uri": "https://localhost:8080/",
          "height": 449
        }
      },
      "cell_type": "code",
      "source": [
        "for k in set(clusterer.labels_):\n",
        "  print(k,':',len([x for x in clusterer.labels_ if x==k]))"
      ],
      "execution_count": 0,
      "outputs": [
        {
          "output_type": "stream",
          "text": [
            "0 : 103\n",
            "1 : 695\n",
            "2 : 794\n",
            "3 : 293\n",
            "4 : 93\n",
            "5 : 223\n",
            "6 : 492\n",
            "7 : 125\n",
            "8 : 5249\n",
            "9 : 63\n",
            "10 : 221\n",
            "11 : 160\n",
            "12 : 433\n",
            "13 : 332\n",
            "14 : 286\n",
            "15 : 144\n",
            "16 : 47\n",
            "17 : 44\n",
            "18 : 460\n",
            "19 : 77\n",
            "20 : 48\n",
            "21 : 657\n",
            "22 : 519\n",
            "23 : 110\n"
          ],
          "name": "stdout"
        }
      ]
    },
    {
      "metadata": {
        "id": "pVJ0AJzjzs6F",
        "colab_type": "code",
        "colab": {}
      },
      "cell_type": "code",
      "source": [
        "n_clusters_arr = list([2**x for x in range(4,12)])\n",
        "#s_error_arr = []\n",
        "#silhouette_avg_arr =  []\n",
        "for n in n_clusters_arr:\n",
        "  print('Starting kmeans for', n)\n",
        "  clusterer = KMeans(n_clusters=n,init='k-means++').fit(flattened_data)\n",
        "  s_error_arr.append(clusterer.inertia_)\n",
        "  silhouette_avg_arr.append(silhouette_score(flattened_data, clusterer.labels_))\n",
        "  print('Finished kmeans for', n)"
      ],
      "execution_count": 0,
      "outputs": []
    },
    {
      "metadata": {
        "id": "TgxAZIMlHdK4",
        "colab_type": "code",
        "colab": {}
      },
      "cell_type": "code",
      "source": [
        "clusterer = KMeans(n_clusters=24,init='k-means++').fit(flattened_data)"
      ],
      "execution_count": 0,
      "outputs": []
    },
    {
      "metadata": {
        "id": "DgF-ADxa_TLK",
        "colab_type": "code",
        "outputId": "7c91b64e-3a29-43f9-dd9f-931eca7ed6ba",
        "colab": {
          "base_uri": "https://localhost:8080/",
          "height": 143
        }
      },
      "cell_type": "code",
      "source": [
        "silhouette_avg_arr"
      ],
      "execution_count": 0,
      "outputs": [
        {
          "output_type": "execute_result",
          "data": {
            "text/plain": [
              "[0.07308752669031887,\n",
              " 0.11242967544709428,\n",
              " 0.18377662152569263,\n",
              " 0.26702021358665523,\n",
              " 0.37950599567807275,\n",
              " 0.498754477107886,\n",
              " 0.6619118284335185]"
            ]
          },
          "metadata": {
            "tags": []
          },
          "execution_count": 71
        }
      ]
    },
    {
      "metadata": {
        "id": "h6Gg-LMB27um",
        "colab_type": "code",
        "outputId": "7a427c14-d609-481b-92f4-881951c1b1e2",
        "colab": {
          "base_uri": "https://localhost:8080/",
          "height": 143
        }
      },
      "cell_type": "code",
      "source": [
        "s_error_arr\n"
      ],
      "execution_count": 0,
      "outputs": [
        {
          "output_type": "execute_result",
          "data": {
            "text/plain": [
              "[83069.50542848789,\n",
              " 71401.93209606149,\n",
              " 60267.90999109178,\n",
              " 48344.005953883774,\n",
              " 35874.20930569094,\n",
              " 22985.893382900333,\n",
              " 11851.801990059093]"
            ]
          },
          "metadata": {
            "tags": []
          },
          "execution_count": 72
        }
      ]
    },
    {
      "metadata": {
        "id": "S_EtEb4v3tWP",
        "colab_type": "code",
        "colab": {}
      },
      "cell_type": "code",
      "source": [
        "kmeans_df = pd.DataFrame(data=[[n_clusters_arr[x],s_error_arr[x],silhouette_avg_arr[x]] for x in list(range(0,7))], columns=[\"n_clusters\", \"squared_error\", \"silhouette\"])"
      ],
      "execution_count": 0,
      "outputs": []
    },
    {
      "metadata": {
        "id": "RnA4tx8OI_VT",
        "colab_type": "code",
        "outputId": "310d710f-3838-4529-acd9-11e5cc88d950",
        "colab": {
          "base_uri": "https://localhost:8080/",
          "height": 379
        }
      },
      "cell_type": "code",
      "source": [
        "kmeans_df.plot(x='n_clusters',y='silhouette')"
      ],
      "execution_count": 0,
      "outputs": [
        {
          "output_type": "execute_result",
          "data": {
            "text/plain": [
              "<matplotlib.axes._subplots.AxesSubplot at 0x7f98b1469470>"
            ]
          },
          "metadata": {
            "tags": []
          },
          "execution_count": 70
        },
        {
          "output_type": "display_data",
          "data": {
            "image/png": "[encoded data removed]",
            "text/plain": [
              "<matplotlib.figure.Figure at 0x7f98b14274e0>"
            ]
          },
          "metadata": {
            "tags": []
          }
        }
      ]
    },
    {
      "metadata": {
        "id": "b8c7jgbm2mTs",
        "colab_type": "code",
        "outputId": "91ded7c1-9e3b-4659-d6a8-0d905307d2d3",
        "colab": {
          "base_uri": "https://localhost:8080/",
          "height": 449
        }
      },
      "cell_type": "code",
      "source": [
        "set(clusterer.labels_)"
      ],
      "execution_count": 0,
      "outputs": [
        {
          "output_type": "execute_result",
          "data": {
            "text/plain": [
              "{0,\n",
              " 1,\n",
              " 2,\n",
              " 3,\n",
              " 4,\n",
              " 5,\n",
              " 6,\n",
              " 7,\n",
              " 8,\n",
              " 9,\n",
              " 10,\n",
              " 11,\n",
              " 12,\n",
              " 13,\n",
              " 14,\n",
              " 15,\n",
              " 16,\n",
              " 17,\n",
              " 18,\n",
              " 19,\n",
              " 20,\n",
              " 21,\n",
              " 22,\n",
              " 23}"
            ]
          },
          "metadata": {
            "tags": []
          },
          "execution_count": 139
        }
      ]
    },
    {
      "metadata": {
        "id": "pHsBlpX6LPA6",
        "colab_type": "code",
        "colab": {}
      },
      "cell_type": "code",
      "source": [
        "with open('pca_kmeans_24.pickle', 'wb') as f:\n",
        "    # Pickle the 'data' dictionary using the highest protocol available.\n",
        "    pickle.dump(clusterer, f, pickle.HIGHEST_PROTOCOL)"
      ],
      "execution_count": 0,
      "outputs": []
    },
    {
      "metadata": {
        "id": "H7Oc1mTPo22q",
        "colab_type": "code",
        "outputId": "1517f9f0-81d0-4ac1-e80b-b006f40a2578",
        "colab": {
          "base_uri": "https://localhost:8080/",
          "height": 53
        }
      },
      "cell_type": "code",
      "source": [
        "song_pca"
      ],
      "execution_count": 0,
      "outputs": [
        {
          "output_type": "execute_result",
          "data": {
            "text/plain": [
              "PCA(copy=True, iterated_power='auto', n_components=175, random_state=None,\n",
              "  svd_solver='auto', tol=0.0, whiten=False)"
            ]
          },
          "metadata": {
            "tags": []
          },
          "execution_count": 26
        }
      ]
    },
    {
      "metadata": {
        "id": "lovpF8QJoxES",
        "colab_type": "code",
        "colab": {}
      },
      "cell_type": "code",
      "source": [
        "with open('pca_175.pickle', 'wb') as f:\n",
        "    # Pickle the 'data' dictionary using the highest protocol available.\n",
        "    pickle.dump(song_pca, f, pickle.HIGHEST_PROTOCOL)"
      ],
      "execution_count": 0,
      "outputs": []
    },
    {
      "metadata": {
        "id": "w7F4BDH8MgD1",
        "colab_type": "code",
        "colab": {}
      },
      "cell_type": "code",
      "source": [
        "with open('kmeans_24.pickle', 'rb') as f:\n",
        "    # The protocol version used is detected automatically, so we do not\n",
        "    # have to specify it.\n",
        "    clusterer = pickle.load(f)"
      ],
      "execution_count": 0,
      "outputs": []
    },
    {
      "metadata": {
        "id": "5qtFbB95qq_T",
        "colab_type": "code",
        "colab": {}
      },
      "cell_type": "code",
      "source": [
        "# auth.authenticate_user()\n",
        "# gauth = GoogleAuth()\n",
        "# gauth.credentials = GoogleCredentials.get_application_default()\n",
        "# drive = GoogleDrive(gauth)"
      ],
      "execution_count": 0,
      "outputs": []
    },
    {
      "metadata": {
        "id": "qaBnGIBtqq_U",
        "colab_type": "code",
        "colab": {}
      },
      "cell_type": "code",
      "source": [
        "# folder_id='1uXkcRXuQ5fFG0S8mLW67ewj_jsqAb_Ff'  #carpeta compartida por Sergio"
      ],
      "execution_count": 0,
      "outputs": []
    },
    {
      "metadata": {
        "colab_type": "code",
        "id": "Nl-diLK0-9UL",
        "colab": {}
      },
      "cell_type": "code",
      "source": [
        "\n",
        "# Para ver los archivos de la carpeta del drive\n",
        "\n",
        "# file_list = drive.ListFile({'q': \"'{0}' in parents and trashed=false\".format(folder_id)}).GetList()\n",
        "# for file1 in file_list:\n",
        "#   print('title: {0}, id: {1}'.format(file1['title'], file1['id']))"
      ],
      "execution_count": 0,
      "outputs": []
    },
    {
      "metadata": {
        "colab_type": "code",
        "id": "b8hWXhkOECVP",
        "outputId": "7214fc33-e083-4ddf-f20d-00cd43b2bd46",
        "colab": {
          "base_uri": "https://localhost:8080/",
          "height": 161
        }
      },
      "cell_type": "code",
      "source": [
        "# Descargar toods los arxivos\n",
        "# for file1 in file_list:\n",
        "#   file_id=file1['id']\n",
        "#   file_title = file1['title']\n",
        "#   drive.CreateFile({'id': file_id}).GetContentFile(file_title)\n",
        "  data_songs_prev[1][0][0]"
      ],
      "execution_count": 0,
      "outputs": [
        {
          "output_type": "execute_result",
          "data": {
            "text/plain": [
              "array([0., 0., 0., 0., 0., 0., 0., 0., 0., 0., 0., 0., 0., 0., 0., 0., 0.,\n",
              "       0., 0., 0., 0., 0., 0., 0., 0., 0., 0., 0., 0., 0., 0., 0., 0., 0.,\n",
              "       0., 0., 0., 0., 0., 0., 0., 0., 0., 0., 0., 1., 0., 0., 0., 0., 0.,\n",
              "       0., 0., 0., 0., 0., 0., 0., 0., 0., 0., 0., 0., 0., 0., 0., 0., 0.,\n",
              "       0., 0., 0., 0., 0., 0., 0., 0., 0., 0., 0., 0., 0., 0., 0., 0., 0.,\n",
              "       0., 0., 0., 0., 0., 0., 0., 0., 0., 0., 0., 0., 0., 0., 0., 0., 0.,\n",
              "       0., 0., 0., 0., 0., 0., 0., 0., 0., 0., 0., 0., 0., 0., 0., 0., 0.,\n",
              "       0., 0., 0., 0., 0., 0., 0., 0., 0.])"
            ]
          },
          "metadata": {
            "tags": []
          },
          "execution_count": 20
        }
      ]
    },
    {
      "metadata": {
        "id": "0u8R1nv04AuF",
        "colab_type": "code",
        "outputId": "52cce33e-240d-4a9a-8ca0-146eb6bd8e9d",
        "colab": {
          "base_uri": "https://localhost:8080/",
          "height": 161
        }
      },
      "cell_type": "code",
      "source": [
        "data_songs[0][0][0]"
      ],
      "execution_count": 0,
      "outputs": [
        {
          "output_type": "execute_result",
          "data": {
            "text/plain": [
              "array([0., 0., 0., 0., 0., 0., 0., 0., 0., 0., 0., 0., 0., 0., 0., 0., 0.,\n",
              "       0., 0., 0., 0., 0., 0., 0., 0., 0., 0., 0., 0., 0., 0., 0., 0., 0.,\n",
              "       0., 0., 0., 0., 0., 0., 0., 0., 0., 0., 0., 1., 0., 0., 0., 0., 0.,\n",
              "       0., 0., 0., 0., 0., 0., 0., 0., 0., 0., 0., 0., 0., 0., 0., 0., 0.,\n",
              "       0., 0., 0., 0., 0., 0., 0., 0., 0., 0., 0., 0., 0., 0., 0., 0., 0.,\n",
              "       0., 0., 0., 0., 0., 0., 0., 0., 0., 0., 0., 0., 0., 0., 0., 0., 0.,\n",
              "       0., 0., 0., 0., 0., 0., 0., 0., 0., 0., 0., 0., 0., 0., 0., 0., 0.,\n",
              "       0., 0., 0., 0., 0., 0., 0., 0., 0.])"
            ]
          },
          "metadata": {
            "tags": []
          },
          "execution_count": 19
        }
      ]
    },
    {
      "metadata": {
        "colab_type": "code",
        "id": "svj4H-45V72z",
        "outputId": "4d05a5c5-025c-49bd-f825-9acbdb564343",
        "colab": {
          "base_uri": "https://localhost:8080/",
          "height": 3365
        }
      },
      "cell_type": "code",
      "source": [
        "songs=list(filter(lambda x: 'pickle' in x, listdir('.')))\n",
        "songs"
      ],
      "execution_count": 0,
      "outputs": [
        {
          "output_type": "execute_result",
          "data": {
            "text/plain": [
              "['song_MSXnem2stg1_5tracks_98measures.pickle',\n",
              " 'song_B1L_winglancer_area3_2tracks_60measures.pickle',\n",
              " 'song_wl_boss_1tracks_120measures.pickle',\n",
              " 'song6_5tracks_72measures.pickle',\n",
              " 'song_PsyWorld-World2_error.pickle',\n",
              " 'song_DE-AW2Opening_5tracks_19measures.pickle',\n",
              " 'song_T_AkumajouDraculaMSX_WickedChild_5tracks_118measures.pickle',\n",
              " 'song_PC-88__Etrian_Odyssey__Destruction_Begets_Decay__RMABN_Arrangement_error.pickle',\n",
              " 'song_thxder22_5tracks_60measures.pickle',\n",
              " 'song_Star_Force_Medley_5tracks_106measures.pickle',\n",
              " 'song_Ys2-OverDrive_GM-V2_5tracks_49measures.pickle',\n",
              " 'song_PC-88__Dinosaur__Charge_5tracks_71measures.pickle',\n",
              " 'song_bombjackmedly_1tracks_98measures.pickle',\n",
              " 'song_MG2_HOLL_5tracks_202measures.pickle',\n",
              " 'song_RSETrainerBattle_5tracks_37measures.pickle',\n",
              " 'song_Ys2-OverDrive_GS-V2_5tracks_49measures.pickle',\n",
              " 'song_Solid_5tracks_118measures.pickle',\n",
              " 'song_Battle1_5tracks_54measures.pickle',\n",
              " 'song_PsyWorld-World6_5tracks_40measures.pickle',\n",
              " 'song_MKSCMenuext_5tracks_88measures.pickle',\n",
              " 'song_T_MetalGear2_Zanzibarland_5tracks_145measures.pickle',\n",
              " 'song_MG-ZanibarAnthem-XG_5tracks_17measures.pickle',\n",
              " 'song_F-Zero_GP_Legend_-_Fire_Field_5tracks_98measures.pickle',\n",
              " 'song_FZC_Silence-KM_5tracks_129measures.pickle',\n",
              " 'song_T_LadySia_Act1_5tracks_58measures.pickle',\n",
              " 'song_PC-88__Xanadu_Scenario_II__Altel_error.pickle',\n",
              " 'song_thxder28_5tracks_67measures.pickle',\n",
              " 'song_Sonic_Advance_3_-_Zone_5_-_Twinkle_Snow_Act_1_5tracks_97measures.pickle',\n",
              " 'song_MMBN5KnightMagnetGM_5tracks_51measures.pickle',\n",
              " 'song_vampire_killer_end_4tracks_16measures.pickle',\n",
              " 'song_T_AkumajouDraculaMSX_WalkingEdge_5tracks_50measures.pickle',\n",
              " 'song_PC-88__Xanadu_Scenario_II__Rilvan_error.pickle',\n",
              " 'song_hm-mmbn2www_error.pickle',\n",
              " 'song_PsyWorld-World7_error.pickle',\n",
              " 'song_T_AkumajouDraculaMSX_Heart_5tracks_86measures.pickle',\n",
              " 'song_T_MetalGear2_Building12nd_GM_5tracks_65measures.pickle',\n",
              " 'song_ManaHolySword_5tracks_141measures.pickle',\n",
              " 'song0_5tracks_128measures.pickle',\n",
              " 'song_Operation_Intrude_N313_Arranged_5tracks_11measures.pickle',\n",
              " 'song_Gr2-08_5tracks_79measures.pickle',\n",
              " 'song_T_MetroidFusion_GameOverTheme_4tracks_16measures.pickle',\n",
              " 'song_PC-88__Xanadu_Scenario_II__Alcanek_error.pickle',\n",
              " 'song_thxder25_5tracks_55measures.pickle',\n",
              " 'song_dkr_island_medley_error.pickle',\n",
              " 'song_Northstar_5tracks_97measures.pickle',\n",
              " 'song_PC-88__The_Scheme__Legend_of_Hero_5tracks_43measures.pickle',\n",
              " 'song_SonicAdvance3_TwinkleSnow1_5tracks_147measures.pickle',\n",
              " 'song_prselite4drama_5tracks_93measures.pickle',\n",
              " 'song_Gear2-4_5tracks_82measures.pickle',\n",
              " 'song_T_MetalGearMSX_Escape_4tracks_83measures.pickle',\n",
              " 'song2_5tracks_103measures.pickle',\n",
              " 'song_PC-88__Sorcerian__The_Thieves_Tower_-_Depths_of_the_Earth_error.pickle',\n",
              " 'song_MetalGearMSX_OperationIntrudeN313_error.pickle',\n",
              " 'song_Metalg_1tracks_87measures.pickle',\n",
              " 'song_thxder21_5tracks_61measures.pickle',\n",
              " 'song_B1L_winglancer_boss2_2tracks_32measures.pickle',\n",
              " 'song_smanbow5_5tracks_49measures.pickle',\n",
              " 'song_Starfield_3_5tracks_38measures.pickle',\n",
              " 'song_thxder23_5tracks_69measures.pickle',\n",
              " 'song_mtPyre_by_maximohoundoom_2_5tracks_36measures.pickle',\n",
              " 'song_PsyWorld-Boss2_5tracks_16measures.pickle',\n",
              " 'song_SonicAdvance3_-_TwinkleSnowArrangeXG_5tracks_101measures.pickle',\n",
              " 'song_OnlyForYou_3tracks_25measures.pickle',\n",
              " 'song_T_MetalGearMSX_Gameover_2tracks_9measures.pickle',\n",
              " 'song_FF5_HOM2_5tracks_96measures.pickle',\n",
              " 'song_MMBN5VictoryGM_5tracks_20measures.pickle',\n",
              " 'song_PsyWorld-World1_error.pickle',\n",
              " 'song_Galious3_5tracks_41measures.pickle',\n",
              " 'song_T_MetalGearMSX_Teki_5tracks_90measures.pickle',\n",
              " 'song_Battlethemeremix_5tracks_38measures.pickle',\n",
              " 'song_Wario_-_The_Toxic_Landfill_5tracks_74measures.pickle',\n",
              " 'song_gba-pkmnfrlg-profoakencounter_5tracks_42measures.pickle',\n",
              " 'song_thxder27_5tracks_73measures.pickle',\n",
              " 'song_shalpp_nemesis3_fighterblood_error.pickle',\n",
              " 'song_T_AkumajouDraculaMSX_AllClear_5tracks_5measures.pickle',\n",
              " 'song_PkmRS-Trick_5tracks_49measures.pickle',\n",
              " 'song_T_AlesteIIMSX_MissionOneTheme_5tracks_47measures.pickle',\n",
              " 'song_1445_5tracks_34measures.pickle',\n",
              " 'song_usas_st5_5tracks_40measures.pickle',\n",
              " 'song_knightx3_5tracks_24measures.pickle',\n",
              " 'song_PsyWorld-Boss1_error.pickle',\n",
              " 'song7_5tracks_157measures.pickle',\n",
              " 'song_PC-88__Rusty__Stage_1_-_Queen_In_the_Dark_Night__v2_5tracks_195measures.pickle',\n",
              " 'song_PsyWorld-Ending_5tracks_41measures.pickle',\n",
              " 'song_Kv2-03_5tracks_63measures.pickle',\n",
              " 'song_FF4Lunarians_KJMix_error.pickle',\n",
              " 'song_PsyWorld-World8_5tracks_48measures.pickle',\n",
              " 'song_PC-88__Sorcerian__The_Kings_Lost_Scepter_-_Dungeon_5tracks_57measures.pickle',\n",
              " 'song_SMRPGMDL_error.pickle',\n",
              " 'song_illusion_5tracks_64measures.pickle',\n",
              " 'song_sadvgba_act1end_3tracks_3measures.pickle',\n",
              " 'song_spyro-ten-gba_gaul_5tracks_61measures.pickle',\n",
              " 'song_Donut_Plains_Remix_5tracks_100measures.pickle',\n",
              " 'song_PsyWorld-Boss3_5tracks_32measures.pickle',\n",
              " 'song_T_AkumajouDraculaMSX_GameOver_5tracks_5measures.pickle',\n",
              " 'song_PsyWorld-DrKnavik_5tracks_35measures.pickle',\n",
              " 'song_T_AkumajouDraculaMSX_PoisonMind_5tracks_34measures.pickle',\n",
              " 'song_T_MetalGear2_Frontline_5tracks_98measures.pickle',\n",
              " 'song_nemesis_1tracks_9measures.pickle',\n",
              " 'song3_1tracks_98measures.pickle',\n",
              " 'song_mmz2_FinalStage_Blue_5tracks_209measures.pickle',\n",
              " 'song_T_MetalGearMSX_1FThemev12_5tracks_107measures.pickle',\n",
              " 'song_thxder24_5tracks_63measures.pickle',\n",
              " 'song_SkyCanyonZoneAct1_5tracks_76measures.pickle',\n",
              " 'song_MetalGearMSX_RedAlert_error.pickle',\n",
              " 'song_PsyWorld-Victory_5tracks_5measures.pickle',\n",
              " 'song_snatcher_pleasure-of-tension_error.pickle',\n",
              " 'song_aeris_versus_sephy_error.pickle',\n",
              " 'song_CVAoS-DanceHall_5tracks_186measures.pickle',\n",
              " 'song_T_AkumajouDraculaMSX_VampireKiller_5tracks_59measures.pickle',\n",
              " 'song_PAPERMAR_1tracks_16measures.pickle',\n",
              " 'song_T_AlesteMSX_MissionOneTheme_5tracks_50measures.pickle',\n",
              " 'song_MMBN5ATotalWarGM_5tracks_55measures.pickle',\n",
              " 'song_pkr_5tracks_97measures.pickle',\n",
              " 'song_T_MetalGear2_Building12nd_5tracks_65measures.pickle',\n",
              " 'song_T_MetalGear2_Infilitration_5tracks_82measures.pickle',\n",
              " 'song_hy3cus_5tracks_85measures.pickle',\n",
              " 'song_Gradius1_3tracks_26measures.pickle',\n",
              " 'song_tx2theme_error.pickle',\n",
              " 'song_PsyWorld-World4_error.pickle',\n",
              " 'song_MetalGear2_ZanzibarLandNationalAnthemm_error.pickle',\n",
              " 'song_Sonic_Advance_-_Angel_Island_Zone_1_5tracks_83measures.pickle',\n",
              " 'song_Ttawspmc_5tracks_637measures.pickle',\n",
              " 'song_thxboss-1_5tracks_51measures.pickle',\n",
              " 'song_FFGBAstage1_5tracks_53measures.pickle',\n",
              " 'song_mmbn3_SecretArea_Blue_5tracks_118measures.pickle',\n",
              " 'song_usas_st2_5tracks_44measures.pickle',\n",
              " 'song_B1L_winglancer_boss1_2tracks_32measures.pickle',\n",
              " 'song_MadouMonogatari123_Labyrinth2_XG_5tracks_135measures.pickle',\n",
              " 'song_Firebird_5tracks_58measures.pickle',\n",
              " 'song1_5tracks_98measures.pickle',\n",
              " 'song_Psg_kk1r_5tracks_68measures.pickle',\n",
              " 'song_Death_to_the_Teachers_4tracks_60measures.pickle',\n",
              " 'song_Bricksterbots_4tracks_33measures.pickle',\n",
              " 'song_DanceOfSorrow_5tracks_66measures.pickle',\n",
              " 'song_zanzibarbreeze_5tracks_73measures.pickle',\n",
              " 'song_T_AkumajouDraculaMSX_Stalker_5tracks_32measures.pickle',\n",
              " 'song_07_5tracks_73measures.pickle',\n",
              " 'song_Running_To_The_Match_5tracks_82measures.pickle',\n",
              " 'song_bkgr_freezing_furnace_5tracks_120measures.pickle',\n",
              " 'song_MG-ZanibarAnthem-GM_5tracks_17measures.pickle',\n",
              " 'song_PsyWorld-Theme_5tracks_74measures.pickle',\n",
              " 'song_F1s_f1r_5tracks_94measures.pickle',\n",
              " 'song_T_MetroidFusion_B-O-XBossTheme_5tracks_31measures.pickle',\n",
              " 'song_Opus27_4tracks_71measures.pickle',\n",
              " 'song_spyro_adventure-chateau_ripto_3tracks_58measures.pickle',\n",
              " 'song_T_AkumajouDraculaMSX_Death_4tracks_4measures.pickle',\n",
              " 'song_mkscboopier_5tracks_80measures.pickle',\n",
              " 'song_T_AkumajouDraculaMSX_Clear_5tracks_6measures.pickle',\n",
              " 'song_TitleScreenGM_5tracks_120measures.pickle',\n",
              " 'song_MadouMonogatari123_Labyrinth2_GM_5tracks_135measures.pickle',\n",
              " 'song_Egger2MSX_3tracks_32measures.pickle',\n",
              " 'song_PsyWorld-World5_error.pickle',\n",
              " 'song_STS-Medley_5tracks_220measures.pickle',\n",
              " 'song_B1L_winglancer_area5_2tracks_58measures.pickle',\n",
              " 'song_UMK3_Fatality_and_Friendship_themes_5tracks_18measures.pickle',\n",
              " 'song_aleste2_5tracks_71measures.pickle',\n",
              " 'song_sonic_factory_5tracks_71measures.pickle',\n",
              " 'song_B1L_winglancer_bossmode_2tracks_72measures.pickle',\n",
              " 'song_poison_mind__28piano_loop_29__28by_S._Kashgari_29_1tracks_4measures.pickle',\n",
              " 'song_MadouMonogatari123MSX_Prologue_XG_5tracks_111measures.pickle',\n",
              " 'song_B1L_winglancer_area4_2tracks_60measures.pickle',\n",
              " 'song_The_Legend_of_Zelda_5tracks_85measures.pickle',\n",
              " 'song_MMBCC-RegularMatch_XG_5tracks_110measures.pickle',\n",
              " 'song_Theme_of_tara_jannee2_error.pickle',\n",
              " 'song_PsyWorld-Over_4tracks_3measures.pickle',\n",
              " 'song_nemintro_1tracks_36measures.pickle',\n",
              " 'song5_5tracks_65measures.pickle',\n",
              " 'song_Knight_4tracks_26measures.pickle',\n",
              " 'song_PsyWorld-Cecile_5tracks_52measures.pickle',\n",
              " 'song_PsyWorld-World3_5tracks_64measures.pickle',\n",
              " 'song_GS_MercuryLighthouse_5tracks_72measures.pickle',\n",
              " 'song_B1L_winglancer_area1_2tracks_104measures.pickle',\n",
              " 'song_MadouMonogatari123MSX_Prologue_GM_5tracks_111measures.pickle',\n",
              " 'song_B1L_winglancer_area2_2tracks_92measures.pickle',\n",
              " 'song_Operation_Intrude_N313_4tracks_10measures.pickle',\n",
              " 'song_PsyWorld-Title_5tracks_10measures.pickle',\n",
              " 'song4_5tracks_59measures.pickle',\n",
              " 'song_Pinobee_Victory_Dance_4tracks_14measures.pickle',\n",
              " 'song_Inventory_5tracks_26measures.pickle',\n",
              " 'song_PC-88__Dragon_Slayer_The_Legend_of_Heroes__Battle_error.pickle',\n",
              " 'song_mmbn4_NaviCustomizer_Blue_5tracks_106measures.pickle',\n",
              " 'song_sa2_boss_xg_5tracks_31measures.pickle',\n",
              " 'song_T_AkumajouDraculaMSX_Unused_3tracks_30measures.pickle',\n",
              " 'song_MMZ_Series_-_Neo_Arcadia_-Medley-_5tracks_145measures.pickle',\n",
              " 'song_CVAoS-TheArena_5tracks_201measures.pickle']"
            ]
          },
          "metadata": {
            "tags": []
          },
          "execution_count": 9
        }
      ]
    },
    {
      "metadata": {
        "colab_type": "code",
        "id": "XCMRauAuK8y3",
        "outputId": "fee967cd-eb4d-47d7-dda6-d97778dc4797",
        "colab": {
          "base_uri": "https://localhost:8080/",
          "height": 6281
        }
      },
      "cell_type": "code",
      "source": [
        "data_songs=np.empty((0,16,128), int)\n",
        "data_songs_prev = np.empty((0,16,128), int)\n",
        "for song in songs:\n",
        "    try:  \n",
        "      song_opened = open(song,\"rb\")\n",
        "      song_loaded= pickle.load(song_opened)\n",
        "      #for \n",
        "      #last_track_index = len(song_loaded)-1\n",
        "      last_track_index = 0\n",
        "      for i in range(len(song_loaded[last_track_index])):\n",
        "        if i==0:\n",
        "          continue\n",
        "        if (i-1>0):\n",
        "          prev_bar = bar\n",
        "        else:\n",
        "          prev_bar=np.empty((0,128), int)[None]\n",
        "          for j in song_loaded[last_track_index][i-1]:\n",
        "            note=np.zeros(128)[None][None]\n",
        "            if type(j) == type(1.5):\n",
        "              note[0,0,int(j)] = 1\n",
        "            prev_bar=np.append(prev_bar,note,axis=1)\n",
        "        bar=np.empty((0,128), int)[None]\n",
        "        for j in song_loaded[last_track_index][i]:\n",
        "          note=np.zeros(128)[None][None]\n",
        "          if type(j) == type(1.5):\n",
        "            note[0,0,int(j)] = 1\n",
        "          bar=np.append(bar,note,axis=1)\n",
        "          \n",
        "        \n",
        "          \n",
        "        data_songs =np.append(data_songs,bar, axis=0)\n",
        "        data_songs_prev =np.append(data_songs_prev,prev_bar, axis=0)\n",
        "      print(np.array(data_songs).shape,'song=',song,np.array(song_loaded).shape)\n",
        "      print(np.array(data_songs_prev).shape,'song=',song,np.array(song_loaded).shape)\n",
        "    except:\n",
        "        print('error parsing')\n",
        "#data_songs_prev =np.roll(data_songs,1,axis=0)\n",
        "data_songs=data_songs[None]\n",
        "data_songs_prev=data_songs_prev[None]\n",
        "\n",
        "data_songs=np.transpose(data_songs, (1,0,2,3))#Real data, input for model\n",
        "data_songs_prev=np.transpose(data_songs_prev, (1,0,2,3))#Real data, 1 previous bar, input for model"
      ],
      "execution_count": 0,
      "outputs": [
        {
          "output_type": "stream",
          "text": [
            "(97, 16, 128) song= song_MSXnem2stg1_5tracks_98measures.pickle (5, 98, 16)\n",
            "(97, 16, 128) song= song_MSXnem2stg1_5tracks_98measures.pickle (5, 98, 16)\n",
            "(156, 16, 128) song= song_B1L_winglancer_area3_2tracks_60measures.pickle (2, 60, 16)\n",
            "(156, 16, 128) song= song_B1L_winglancer_area3_2tracks_60measures.pickle (2, 60, 16)\n",
            "(275, 16, 128) song= song_wl_boss_1tracks_120measures.pickle (1, 120, 16)\n",
            "(275, 16, 128) song= song_wl_boss_1tracks_120measures.pickle (1, 120, 16)\n",
            "(346, 16, 128) song= song6_5tracks_72measures.pickle (5, 72, 16)\n",
            "(346, 16, 128) song= song6_5tracks_72measures.pickle (5, 72, 16)\n",
            "error parsing\n",
            "(364, 16, 128) song= song_DE-AW2Opening_5tracks_19measures.pickle (5, 19, 16)\n",
            "(364, 16, 128) song= song_DE-AW2Opening_5tracks_19measures.pickle (5, 19, 16)\n",
            "(481, 16, 128) song= song_T_AkumajouDraculaMSX_WickedChild_5tracks_118measures.pickle (5, 118, 16)\n",
            "(481, 16, 128) song= song_T_AkumajouDraculaMSX_WickedChild_5tracks_118measures.pickle (5, 118, 16)\n",
            "error parsing\n",
            "(540, 16, 128) song= song_thxder22_5tracks_60measures.pickle (5, 60, 16)\n",
            "(540, 16, 128) song= song_thxder22_5tracks_60measures.pickle (5, 60, 16)\n",
            "(645, 16, 128) song= song_Star_Force_Medley_5tracks_106measures.pickle (5, 106, 16)\n",
            "(645, 16, 128) song= song_Star_Force_Medley_5tracks_106measures.pickle (5, 106, 16)\n",
            "(693, 16, 128) song= song_Ys2-OverDrive_GM-V2_5tracks_49measures.pickle (5, 49, 16)\n",
            "(693, 16, 128) song= song_Ys2-OverDrive_GM-V2_5tracks_49measures.pickle (5, 49, 16)\n",
            "(763, 16, 128) song= song_PC-88__Dinosaur__Charge_5tracks_71measures.pickle (5, 71, 16)\n",
            "(763, 16, 128) song= song_PC-88__Dinosaur__Charge_5tracks_71measures.pickle (5, 71, 16)\n",
            "(860, 16, 128) song= song_bombjackmedly_1tracks_98measures.pickle (1, 98, 16)\n",
            "(860, 16, 128) song= song_bombjackmedly_1tracks_98measures.pickle (1, 98, 16)\n",
            "(1061, 16, 128) song= song_MG2_HOLL_5tracks_202measures.pickle (5, 202, 16)\n",
            "(1061, 16, 128) song= song_MG2_HOLL_5tracks_202measures.pickle (5, 202, 16)\n",
            "(1097, 16, 128) song= song_RSETrainerBattle_5tracks_37measures.pickle (5, 37, 16)\n",
            "(1097, 16, 128) song= song_RSETrainerBattle_5tracks_37measures.pickle (5, 37, 16)\n",
            "(1145, 16, 128) song= song_Ys2-OverDrive_GS-V2_5tracks_49measures.pickle (5, 49, 16)\n",
            "(1145, 16, 128) song= song_Ys2-OverDrive_GS-V2_5tracks_49measures.pickle (5, 49, 16)\n",
            "(1262, 16, 128) song= song_Solid_5tracks_118measures.pickle (5, 118, 16)\n",
            "(1262, 16, 128) song= song_Solid_5tracks_118measures.pickle (5, 118, 16)\n",
            "(1315, 16, 128) song= song_Battle1_5tracks_54measures.pickle (5, 54, 16)\n",
            "(1315, 16, 128) song= song_Battle1_5tracks_54measures.pickle (5, 54, 16)\n",
            "(1354, 16, 128) song= song_PsyWorld-World6_5tracks_40measures.pickle (5, 40, 16)\n",
            "(1354, 16, 128) song= song_PsyWorld-World6_5tracks_40measures.pickle (5, 40, 16)\n",
            "(1441, 16, 128) song= song_MKSCMenuext_5tracks_88measures.pickle (5, 88, 16)\n",
            "(1441, 16, 128) song= song_MKSCMenuext_5tracks_88measures.pickle (5, 88, 16)\n",
            "(1585, 16, 128) song= song_T_MetalGear2_Zanzibarland_5tracks_145measures.pickle (5, 145, 16)\n",
            "(1585, 16, 128) song= song_T_MetalGear2_Zanzibarland_5tracks_145measures.pickle (5, 145, 16)\n",
            "(1601, 16, 128) song= song_MG-ZanibarAnthem-XG_5tracks_17measures.pickle (5, 17, 16)\n",
            "(1601, 16, 128) song= song_MG-ZanibarAnthem-XG_5tracks_17measures.pickle (5, 17, 16)\n",
            "(1698, 16, 128) song= song_F-Zero_GP_Legend_-_Fire_Field_5tracks_98measures.pickle (5, 98, 16)\n",
            "(1698, 16, 128) song= song_F-Zero_GP_Legend_-_Fire_Field_5tracks_98measures.pickle (5, 98, 16)\n",
            "(1826, 16, 128) song= song_FZC_Silence-KM_5tracks_129measures.pickle (5, 129, 16)\n",
            "(1826, 16, 128) song= song_FZC_Silence-KM_5tracks_129measures.pickle (5, 129, 16)\n",
            "(1883, 16, 128) song= song_T_LadySia_Act1_5tracks_58measures.pickle (5, 58, 16)\n",
            "(1883, 16, 128) song= song_T_LadySia_Act1_5tracks_58measures.pickle (5, 58, 16)\n",
            "error parsing\n",
            "(1949, 16, 128) song= song_thxder28_5tracks_67measures.pickle (5, 67, 16)\n",
            "(1949, 16, 128) song= song_thxder28_5tracks_67measures.pickle (5, 67, 16)\n",
            "(2045, 16, 128) song= song_Sonic_Advance_3_-_Zone_5_-_Twinkle_Snow_Act_1_5tracks_97measures.pickle (5, 97, 16)\n",
            "(2045, 16, 128) song= song_Sonic_Advance_3_-_Zone_5_-_Twinkle_Snow_Act_1_5tracks_97measures.pickle (5, 97, 16)\n",
            "(2095, 16, 128) song= song_MMBN5KnightMagnetGM_5tracks_51measures.pickle (5, 51, 16)\n",
            "(2095, 16, 128) song= song_MMBN5KnightMagnetGM_5tracks_51measures.pickle (5, 51, 16)\n",
            "(2110, 16, 128) song= song_vampire_killer_end_4tracks_16measures.pickle (4, 16, 16)\n",
            "(2110, 16, 128) song= song_vampire_killer_end_4tracks_16measures.pickle (4, 16, 16)\n",
            "(2159, 16, 128) song= song_T_AkumajouDraculaMSX_WalkingEdge_5tracks_50measures.pickle (5, 50, 16)\n",
            "(2159, 16, 128) song= song_T_AkumajouDraculaMSX_WalkingEdge_5tracks_50measures.pickle (5, 50, 16)\n",
            "error parsing\n",
            "error parsing\n",
            "error parsing\n",
            "(2244, 16, 128) song= song_T_AkumajouDraculaMSX_Heart_5tracks_86measures.pickle (5, 86, 16)\n",
            "(2244, 16, 128) song= song_T_AkumajouDraculaMSX_Heart_5tracks_86measures.pickle (5, 86, 16)\n",
            "(2308, 16, 128) song= song_T_MetalGear2_Building12nd_GM_5tracks_65measures.pickle (5, 65, 16)\n",
            "(2308, 16, 128) song= song_T_MetalGear2_Building12nd_GM_5tracks_65measures.pickle (5, 65, 16)\n",
            "(2448, 16, 128) song= song_ManaHolySword_5tracks_141measures.pickle (5, 141, 16)\n",
            "(2448, 16, 128) song= song_ManaHolySword_5tracks_141measures.pickle (5, 141, 16)\n",
            "(2575, 16, 128) song= song0_5tracks_128measures.pickle (5, 128, 16)\n",
            "(2575, 16, 128) song= song0_5tracks_128measures.pickle (5, 128, 16)\n",
            "(2585, 16, 128) song= song_Operation_Intrude_N313_Arranged_5tracks_11measures.pickle (5, 11, 16)\n",
            "(2585, 16, 128) song= song_Operation_Intrude_N313_Arranged_5tracks_11measures.pickle (5, 11, 16)\n",
            "(2663, 16, 128) song= song_Gr2-08_5tracks_79measures.pickle (5, 79, 16)\n",
            "(2663, 16, 128) song= song_Gr2-08_5tracks_79measures.pickle (5, 79, 16)\n",
            "(2678, 16, 128) song= song_T_MetroidFusion_GameOverTheme_4tracks_16measures.pickle (4, 16, 16)\n",
            "(2678, 16, 128) song= song_T_MetroidFusion_GameOverTheme_4tracks_16measures.pickle (4, 16, 16)\n",
            "error parsing\n",
            "(2732, 16, 128) song= song_thxder25_5tracks_55measures.pickle (5, 55, 16)\n",
            "(2732, 16, 128) song= song_thxder25_5tracks_55measures.pickle (5, 55, 16)\n",
            "error parsing\n",
            "(2828, 16, 128) song= song_Northstar_5tracks_97measures.pickle (5, 97, 16)\n",
            "(2828, 16, 128) song= song_Northstar_5tracks_97measures.pickle (5, 97, 16)\n",
            "(2870, 16, 128) song= song_PC-88__The_Scheme__Legend_of_Hero_5tracks_43measures.pickle (5, 43, 16)\n",
            "(2870, 16, 128) song= song_PC-88__The_Scheme__Legend_of_Hero_5tracks_43measures.pickle (5, 43, 16)\n",
            "(3016, 16, 128) song= song_SonicAdvance3_TwinkleSnow1_5tracks_147measures.pickle (5, 147, 16)\n",
            "(3016, 16, 128) song= song_SonicAdvance3_TwinkleSnow1_5tracks_147measures.pickle (5, 147, 16)\n",
            "(3108, 16, 128) song= song_prselite4drama_5tracks_93measures.pickle (5, 93, 16)\n",
            "(3108, 16, 128) song= song_prselite4drama_5tracks_93measures.pickle (5, 93, 16)\n",
            "(3189, 16, 128) song= song_Gear2-4_5tracks_82measures.pickle (5, 82, 16)\n",
            "(3189, 16, 128) song= song_Gear2-4_5tracks_82measures.pickle (5, 82, 16)\n",
            "(3271, 16, 128) song= song_T_MetalGearMSX_Escape_4tracks_83measures.pickle (4, 83, 16)\n",
            "(3271, 16, 128) song= song_T_MetalGearMSX_Escape_4tracks_83measures.pickle (4, 83, 16)\n",
            "(3373, 16, 128) song= song2_5tracks_103measures.pickle (5, 103, 16)\n",
            "(3373, 16, 128) song= song2_5tracks_103measures.pickle (5, 103, 16)\n",
            "error parsing\n",
            "error parsing\n",
            "(3459, 16, 128) song= song_Metalg_1tracks_87measures.pickle (1, 87, 16)\n",
            "(3459, 16, 128) song= song_Metalg_1tracks_87measures.pickle (1, 87, 16)\n",
            "(3519, 16, 128) song= song_thxder21_5tracks_61measures.pickle (5, 61, 16)\n",
            "(3519, 16, 128) song= song_thxder21_5tracks_61measures.pickle (5, 61, 16)\n",
            "(3550, 16, 128) song= song_B1L_winglancer_boss2_2tracks_32measures.pickle (2, 32, 16)\n",
            "(3550, 16, 128) song= song_B1L_winglancer_boss2_2tracks_32measures.pickle (2, 32, 16)\n",
            "(3598, 16, 128) song= song_smanbow5_5tracks_49measures.pickle (5, 49, 16)\n",
            "(3598, 16, 128) song= song_smanbow5_5tracks_49measures.pickle (5, 49, 16)\n",
            "(3635, 16, 128) song= song_Starfield_3_5tracks_38measures.pickle (5, 38, 16)\n",
            "(3635, 16, 128) song= song_Starfield_3_5tracks_38measures.pickle (5, 38, 16)\n",
            "(3703, 16, 128) song= song_thxder23_5tracks_69measures.pickle (5, 69, 16)\n",
            "(3703, 16, 128) song= song_thxder23_5tracks_69measures.pickle (5, 69, 16)\n",
            "(3738, 16, 128) song= song_mtPyre_by_maximohoundoom_2_5tracks_36measures.pickle (5, 36, 16)\n",
            "(3738, 16, 128) song= song_mtPyre_by_maximohoundoom_2_5tracks_36measures.pickle (5, 36, 16)\n",
            "(3753, 16, 128) song= song_PsyWorld-Boss2_5tracks_16measures.pickle (5, 16, 16)\n",
            "(3753, 16, 128) song= song_PsyWorld-Boss2_5tracks_16measures.pickle (5, 16, 16)\n",
            "(3853, 16, 128) song= song_SonicAdvance3_-_TwinkleSnowArrangeXG_5tracks_101measures.pickle (5, 101, 16)\n",
            "(3853, 16, 128) song= song_SonicAdvance3_-_TwinkleSnowArrangeXG_5tracks_101measures.pickle (5, 101, 16)\n",
            "(3877, 16, 128) song= song_OnlyForYou_3tracks_25measures.pickle (3, 25, 16)\n",
            "(3877, 16, 128) song= song_OnlyForYou_3tracks_25measures.pickle (3, 25, 16)\n",
            "(3885, 16, 128) song= song_T_MetalGearMSX_Gameover_2tracks_9measures.pickle (2, 9, 16)\n",
            "(3885, 16, 128) song= song_T_MetalGearMSX_Gameover_2tracks_9measures.pickle (2, 9, 16)\n",
            "(3980, 16, 128) song= song_FF5_HOM2_5tracks_96measures.pickle (5, 96, 16)\n",
            "(3980, 16, 128) song= song_FF5_HOM2_5tracks_96measures.pickle (5, 96, 16)\n",
            "(3999, 16, 128) song= song_MMBN5VictoryGM_5tracks_20measures.pickle (5, 20, 16)\n",
            "(3999, 16, 128) song= song_MMBN5VictoryGM_5tracks_20measures.pickle (5, 20, 16)\n",
            "error parsing\n",
            "(4039, 16, 128) song= song_Galious3_5tracks_41measures.pickle (5, 41, 16)\n",
            "(4039, 16, 128) song= song_Galious3_5tracks_41measures.pickle (5, 41, 16)\n",
            "(4128, 16, 128) song= song_T_MetalGearMSX_Teki_5tracks_90measures.pickle (5, 90, 16)\n",
            "(4128, 16, 128) song= song_T_MetalGearMSX_Teki_5tracks_90measures.pickle (5, 90, 16)\n",
            "(4165, 16, 128) song= song_Battlethemeremix_5tracks_38measures.pickle (5, 38, 16)\n",
            "(4165, 16, 128) song= song_Battlethemeremix_5tracks_38measures.pickle (5, 38, 16)\n",
            "(4238, 16, 128) song= song_Wario_-_The_Toxic_Landfill_5tracks_74measures.pickle (5, 74, 16)\n",
            "(4238, 16, 128) song= song_Wario_-_The_Toxic_Landfill_5tracks_74measures.pickle (5, 74, 16)\n",
            "(4279, 16, 128) song= song_gba-pkmnfrlg-profoakencounter_5tracks_42measures.pickle (5, 42, 16)\n",
            "(4279, 16, 128) song= song_gba-pkmnfrlg-profoakencounter_5tracks_42measures.pickle (5, 42, 16)\n",
            "(4351, 16, 128) song= song_thxder27_5tracks_73measures.pickle (5, 73, 16)\n",
            "(4351, 16, 128) song= song_thxder27_5tracks_73measures.pickle (5, 73, 16)\n",
            "error parsing\n",
            "(4355, 16, 128) song= song_T_AkumajouDraculaMSX_AllClear_5tracks_5measures.pickle (5, 5, 16)\n",
            "(4355, 16, 128) song= song_T_AkumajouDraculaMSX_AllClear_5tracks_5measures.pickle (5, 5, 16)\n",
            "(4403, 16, 128) song= song_PkmRS-Trick_5tracks_49measures.pickle (5, 49, 16)\n",
            "(4403, 16, 128) song= song_PkmRS-Trick_5tracks_49measures.pickle (5, 49, 16)\n",
            "(4449, 16, 128) song= song_T_AlesteIIMSX_MissionOneTheme_5tracks_47measures.pickle (5, 47, 16)\n",
            "(4449, 16, 128) song= song_T_AlesteIIMSX_MissionOneTheme_5tracks_47measures.pickle (5, 47, 16)\n",
            "(4482, 16, 128) song= song_1445_5tracks_34measures.pickle (5, 34, 16)\n",
            "(4482, 16, 128) song= song_1445_5tracks_34measures.pickle (5, 34, 16)\n",
            "(4521, 16, 128) song= song_usas_st5_5tracks_40measures.pickle (5, 40, 16)\n",
            "(4521, 16, 128) song= song_usas_st5_5tracks_40measures.pickle (5, 40, 16)\n",
            "(4544, 16, 128) song= song_knightx3_5tracks_24measures.pickle (5, 24, 16)\n",
            "(4544, 16, 128) song= song_knightx3_5tracks_24measures.pickle (5, 24, 16)\n",
            "error parsing\n",
            "(4700, 16, 128) song= song7_5tracks_157measures.pickle (5, 157, 16)\n",
            "(4700, 16, 128) song= song7_5tracks_157measures.pickle (5, 157, 16)\n",
            "(4894, 16, 128) song= song_PC-88__Rusty__Stage_1_-_Queen_In_the_Dark_Night__v2_5tracks_195measures.pickle (5, 195, 16)\n",
            "(4894, 16, 128) song= song_PC-88__Rusty__Stage_1_-_Queen_In_the_Dark_Night__v2_5tracks_195measures.pickle (5, 195, 16)\n",
            "(4934, 16, 128) song= song_PsyWorld-Ending_5tracks_41measures.pickle (5, 41, 16)\n",
            "(4934, 16, 128) song= song_PsyWorld-Ending_5tracks_41measures.pickle (5, 41, 16)\n",
            "(4996, 16, 128) song= song_Kv2-03_5tracks_63measures.pickle (5, 63, 16)\n",
            "(4996, 16, 128) song= song_Kv2-03_5tracks_63measures.pickle (5, 63, 16)\n",
            "error parsing\n",
            "(5043, 16, 128) song= song_PsyWorld-World8_5tracks_48measures.pickle (5, 48, 16)\n",
            "(5043, 16, 128) song= song_PsyWorld-World8_5tracks_48measures.pickle (5, 48, 16)\n",
            "(5099, 16, 128) song= song_PC-88__Sorcerian__The_Kings_Lost_Scepter_-_Dungeon_5tracks_57measures.pickle (5, 57, 16)\n",
            "(5099, 16, 128) song= song_PC-88__Sorcerian__The_Kings_Lost_Scepter_-_Dungeon_5tracks_57measures.pickle (5, 57, 16)\n",
            "error parsing\n",
            "(5162, 16, 128) song= song_illusion_5tracks_64measures.pickle (5, 64, 16)\n",
            "(5162, 16, 128) song= song_illusion_5tracks_64measures.pickle (5, 64, 16)\n",
            "(5164, 16, 128) song= song_sadvgba_act1end_3tracks_3measures.pickle (3, 3, 16)\n",
            "(5164, 16, 128) song= song_sadvgba_act1end_3tracks_3measures.pickle (3, 3, 16)\n",
            "(5224, 16, 128) song= song_spyro-ten-gba_gaul_5tracks_61measures.pickle (5, 61, 16)\n",
            "(5224, 16, 128) song= song_spyro-ten-gba_gaul_5tracks_61measures.pickle (5, 61, 16)\n",
            "(5323, 16, 128) song= song_Donut_Plains_Remix_5tracks_100measures.pickle (5, 100, 16)\n",
            "(5323, 16, 128) song= song_Donut_Plains_Remix_5tracks_100measures.pickle (5, 100, 16)\n",
            "(5354, 16, 128) song= song_PsyWorld-Boss3_5tracks_32measures.pickle (5, 32, 16)\n",
            "(5354, 16, 128) song= song_PsyWorld-Boss3_5tracks_32measures.pickle (5, 32, 16)\n",
            "(5358, 16, 128) song= song_T_AkumajouDraculaMSX_GameOver_5tracks_5measures.pickle (5, 5, 16)\n",
            "(5358, 16, 128) song= song_T_AkumajouDraculaMSX_GameOver_5tracks_5measures.pickle (5, 5, 16)\n",
            "(5392, 16, 128) song= song_PsyWorld-DrKnavik_5tracks_35measures.pickle (5, 35, 16)\n",
            "(5392, 16, 128) song= song_PsyWorld-DrKnavik_5tracks_35measures.pickle (5, 35, 16)\n",
            "(5425, 16, 128) song= song_T_AkumajouDraculaMSX_PoisonMind_5tracks_34measures.pickle (5, 34, 16)\n",
            "(5425, 16, 128) song= song_T_AkumajouDraculaMSX_PoisonMind_5tracks_34measures.pickle (5, 34, 16)\n",
            "(5522, 16, 128) song= song_T_MetalGear2_Frontline_5tracks_98measures.pickle (5, 98, 16)\n",
            "(5522, 16, 128) song= song_T_MetalGear2_Frontline_5tracks_98measures.pickle (5, 98, 16)\n",
            "(5530, 16, 128) song= song_nemesis_1tracks_9measures.pickle (1, 9, 16)\n",
            "(5530, 16, 128) song= song_nemesis_1tracks_9measures.pickle (1, 9, 16)\n",
            "(5627, 16, 128) song= song3_1tracks_98measures.pickle (1, 98, 16)\n",
            "(5627, 16, 128) song= song3_1tracks_98measures.pickle (1, 98, 16)\n",
            "(5835, 16, 128) song= song_mmz2_FinalStage_Blue_5tracks_209measures.pickle (5, 209, 16)\n",
            "(5835, 16, 128) song= song_mmz2_FinalStage_Blue_5tracks_209measures.pickle (5, 209, 16)\n",
            "(5941, 16, 128) song= song_T_MetalGearMSX_1FThemev12_5tracks_107measures.pickle (5, 107, 16)\n",
            "(5941, 16, 128) song= song_T_MetalGearMSX_1FThemev12_5tracks_107measures.pickle (5, 107, 16)\n",
            "(6003, 16, 128) song= song_thxder24_5tracks_63measures.pickle (5, 63, 16)\n",
            "(6003, 16, 128) song= song_thxder24_5tracks_63measures.pickle (5, 63, 16)\n",
            "(6078, 16, 128) song= song_SkyCanyonZoneAct1_5tracks_76measures.pickle (5, 76, 16)\n",
            "(6078, 16, 128) song= song_SkyCanyonZoneAct1_5tracks_76measures.pickle (5, 76, 16)\n",
            "error parsing\n",
            "(6082, 16, 128) song= song_PsyWorld-Victory_5tracks_5measures.pickle (5, 5, 16)\n",
            "(6082, 16, 128) song= song_PsyWorld-Victory_5tracks_5measures.pickle (5, 5, 16)\n",
            "error parsing\n",
            "error parsing\n",
            "(6267, 16, 128) song= song_CVAoS-DanceHall_5tracks_186measures.pickle (5, 186, 16)\n",
            "(6267, 16, 128) song= song_CVAoS-DanceHall_5tracks_186measures.pickle (5, 186, 16)\n",
            "(6325, 16, 128) song= song_T_AkumajouDraculaMSX_VampireKiller_5tracks_59measures.pickle (5, 59, 16)\n",
            "(6325, 16, 128) song= song_T_AkumajouDraculaMSX_VampireKiller_5tracks_59measures.pickle (5, 59, 16)\n",
            "(6340, 16, 128) song= song_PAPERMAR_1tracks_16measures.pickle (1, 16, 16)\n",
            "(6340, 16, 128) song= song_PAPERMAR_1tracks_16measures.pickle (1, 16, 16)\n",
            "(6389, 16, 128) song= song_T_AlesteMSX_MissionOneTheme_5tracks_50measures.pickle (5, 50, 16)\n",
            "(6389, 16, 128) song= song_T_AlesteMSX_MissionOneTheme_5tracks_50measures.pickle (5, 50, 16)\n",
            "(6443, 16, 128) song= song_MMBN5ATotalWarGM_5tracks_55measures.pickle (5, 55, 16)\n",
            "(6443, 16, 128) song= song_MMBN5ATotalWarGM_5tracks_55measures.pickle (5, 55, 16)\n",
            "(6539, 16, 128) song= song_pkr_5tracks_97measures.pickle (5, 97, 16)\n",
            "(6539, 16, 128) song= song_pkr_5tracks_97measures.pickle (5, 97, 16)\n",
            "(6603, 16, 128) song= song_T_MetalGear2_Building12nd_5tracks_65measures.pickle (5, 65, 16)\n",
            "(6603, 16, 128) song= song_T_MetalGear2_Building12nd_5tracks_65measures.pickle (5, 65, 16)\n",
            "(6684, 16, 128) song= song_T_MetalGear2_Infilitration_5tracks_82measures.pickle (5, 82, 16)\n",
            "(6684, 16, 128) song= song_T_MetalGear2_Infilitration_5tracks_82measures.pickle (5, 82, 16)\n",
            "(6768, 16, 128) song= song_hy3cus_5tracks_85measures.pickle (5, 85, 16)\n",
            "(6768, 16, 128) song= song_hy3cus_5tracks_85measures.pickle (5, 85, 16)\n",
            "(6793, 16, 128) song= song_Gradius1_3tracks_26measures.pickle (3, 26, 16)\n",
            "(6793, 16, 128) song= song_Gradius1_3tracks_26measures.pickle (3, 26, 16)\n",
            "error parsing\n",
            "error parsing\n",
            "error parsing\n",
            "(6875, 16, 128) song= song_Sonic_Advance_-_Angel_Island_Zone_1_5tracks_83measures.pickle (5, 83, 16)\n",
            "(6875, 16, 128) song= song_Sonic_Advance_-_Angel_Island_Zone_1_5tracks_83measures.pickle (5, 83, 16)\n",
            "(7511, 16, 128) song= song_Ttawspmc_5tracks_637measures.pickle (5, 637, 16)\n",
            "(7511, 16, 128) song= song_Ttawspmc_5tracks_637measures.pickle (5, 637, 16)\n",
            "(7561, 16, 128) song= song_thxboss-1_5tracks_51measures.pickle (5, 51, 16)\n",
            "(7561, 16, 128) song= song_thxboss-1_5tracks_51measures.pickle (5, 51, 16)\n",
            "(7613, 16, 128) song= song_FFGBAstage1_5tracks_53measures.pickle (5, 53, 16)\n",
            "(7613, 16, 128) song= song_FFGBAstage1_5tracks_53measures.pickle (5, 53, 16)\n",
            "(7730, 16, 128) song= song_mmbn3_SecretArea_Blue_5tracks_118measures.pickle (5, 118, 16)\n",
            "(7730, 16, 128) song= song_mmbn3_SecretArea_Blue_5tracks_118measures.pickle (5, 118, 16)\n",
            "(7773, 16, 128) song= song_usas_st2_5tracks_44measures.pickle (5, 44, 16)\n",
            "(7773, 16, 128) song= song_usas_st2_5tracks_44measures.pickle (5, 44, 16)\n",
            "(7804, 16, 128) song= song_B1L_winglancer_boss1_2tracks_32measures.pickle (2, 32, 16)\n",
            "(7804, 16, 128) song= song_B1L_winglancer_boss1_2tracks_32measures.pickle (2, 32, 16)\n",
            "(7938, 16, 128) song= song_MadouMonogatari123_Labyrinth2_XG_5tracks_135measures.pickle (5, 135, 16)\n",
            "(7938, 16, 128) song= song_MadouMonogatari123_Labyrinth2_XG_5tracks_135measures.pickle (5, 135, 16)\n",
            "(7995, 16, 128) song= song_Firebird_5tracks_58measures.pickle (5, 58, 16)\n",
            "(7995, 16, 128) song= song_Firebird_5tracks_58measures.pickle (5, 58, 16)\n",
            "(8092, 16, 128) song= song1_5tracks_98measures.pickle (5, 98, 16)\n",
            "(8092, 16, 128) song= song1_5tracks_98measures.pickle (5, 98, 16)\n",
            "(8159, 16, 128) song= song_Psg_kk1r_5tracks_68measures.pickle (5, 68, 16)\n",
            "(8159, 16, 128) song= song_Psg_kk1r_5tracks_68measures.pickle (5, 68, 16)\n",
            "(8218, 16, 128) song= song_Death_to_the_Teachers_4tracks_60measures.pickle (4, 60, 16)\n",
            "(8218, 16, 128) song= song_Death_to_the_Teachers_4tracks_60measures.pickle (4, 60, 16)\n",
            "(8250, 16, 128) song= song_Bricksterbots_4tracks_33measures.pickle (4, 33, 16)\n",
            "(8250, 16, 128) song= song_Bricksterbots_4tracks_33measures.pickle (4, 33, 16)\n",
            "(8315, 16, 128) song= song_DanceOfSorrow_5tracks_66measures.pickle (5, 66, 16)\n",
            "(8315, 16, 128) song= song_DanceOfSorrow_5tracks_66measures.pickle (5, 66, 16)\n",
            "(8387, 16, 128) song= song_zanzibarbreeze_5tracks_73measures.pickle (5, 73, 16)\n",
            "(8387, 16, 128) song= song_zanzibarbreeze_5tracks_73measures.pickle (5, 73, 16)\n",
            "(8418, 16, 128) song= song_T_AkumajouDraculaMSX_Stalker_5tracks_32measures.pickle (5, 32, 16)\n",
            "(8418, 16, 128) song= song_T_AkumajouDraculaMSX_Stalker_5tracks_32measures.pickle (5, 32, 16)\n",
            "(8490, 16, 128) song= song_07_5tracks_73measures.pickle (5, 73, 16)\n",
            "(8490, 16, 128) song= song_07_5tracks_73measures.pickle (5, 73, 16)\n",
            "(8571, 16, 128) song= song_Running_To_The_Match_5tracks_82measures.pickle (5, 82, 16)\n",
            "(8571, 16, 128) song= song_Running_To_The_Match_5tracks_82measures.pickle (5, 82, 16)\n",
            "(8690, 16, 128) song= song_bkgr_freezing_furnace_5tracks_120measures.pickle (5, 120, 16)\n",
            "(8690, 16, 128) song= song_bkgr_freezing_furnace_5tracks_120measures.pickle (5, 120, 16)\n",
            "(8706, 16, 128) song= song_MG-ZanibarAnthem-GM_5tracks_17measures.pickle (5, 17, 16)\n",
            "(8706, 16, 128) song= song_MG-ZanibarAnthem-GM_5tracks_17measures.pickle (5, 17, 16)\n",
            "(8779, 16, 128) song= song_PsyWorld-Theme_5tracks_74measures.pickle (5, 74, 16)\n",
            "(8779, 16, 128) song= song_PsyWorld-Theme_5tracks_74measures.pickle (5, 74, 16)\n",
            "(8872, 16, 128) song= song_F1s_f1r_5tracks_94measures.pickle (5, 94, 16)\n",
            "(8872, 16, 128) song= song_F1s_f1r_5tracks_94measures.pickle (5, 94, 16)\n",
            "(8902, 16, 128) song= song_T_MetroidFusion_B-O-XBossTheme_5tracks_31measures.pickle (5, 31, 16)\n",
            "(8902, 16, 128) song= song_T_MetroidFusion_B-O-XBossTheme_5tracks_31measures.pickle (5, 31, 16)\n",
            "(8972, 16, 128) song= song_Opus27_4tracks_71measures.pickle (4, 71, 16)\n",
            "(8972, 16, 128) song= song_Opus27_4tracks_71measures.pickle (4, 71, 16)\n",
            "(9029, 16, 128) song= song_spyro_adventure-chateau_ripto_3tracks_58measures.pickle (3, 58, 16)\n",
            "(9029, 16, 128) song= song_spyro_adventure-chateau_ripto_3tracks_58measures.pickle (3, 58, 16)\n",
            "(9032, 16, 128) song= song_T_AkumajouDraculaMSX_Death_4tracks_4measures.pickle (4, 4, 16)\n",
            "(9032, 16, 128) song= song_T_AkumajouDraculaMSX_Death_4tracks_4measures.pickle (4, 4, 16)\n",
            "(9111, 16, 128) song= song_mkscboopier_5tracks_80measures.pickle (5, 80, 16)\n",
            "(9111, 16, 128) song= song_mkscboopier_5tracks_80measures.pickle (5, 80, 16)\n",
            "(9116, 16, 128) song= song_T_AkumajouDraculaMSX_Clear_5tracks_6measures.pickle (5, 6, 16)\n",
            "(9116, 16, 128) song= song_T_AkumajouDraculaMSX_Clear_5tracks_6measures.pickle (5, 6, 16)\n",
            "(9235, 16, 128) song= song_TitleScreenGM_5tracks_120measures.pickle (5, 120, 16)\n",
            "(9235, 16, 128) song= song_TitleScreenGM_5tracks_120measures.pickle (5, 120, 16)\n",
            "(9369, 16, 128) song= song_MadouMonogatari123_Labyrinth2_GM_5tracks_135measures.pickle (5, 135, 16)\n",
            "(9369, 16, 128) song= song_MadouMonogatari123_Labyrinth2_GM_5tracks_135measures.pickle (5, 135, 16)\n",
            "(9400, 16, 128) song= song_Egger2MSX_3tracks_32measures.pickle (3, 32, 16)\n",
            "(9400, 16, 128) song= song_Egger2MSX_3tracks_32measures.pickle (3, 32, 16)\n",
            "error parsing\n",
            "(9619, 16, 128) song= song_STS-Medley_5tracks_220measures.pickle (5, 220, 16)\n",
            "(9619, 16, 128) song= song_STS-Medley_5tracks_220measures.pickle (5, 220, 16)\n",
            "(9676, 16, 128) song= song_B1L_winglancer_area5_2tracks_58measures.pickle (2, 58, 16)\n",
            "(9676, 16, 128) song= song_B1L_winglancer_area5_2tracks_58measures.pickle (2, 58, 16)\n",
            "(9693, 16, 128) song= song_UMK3_Fatality_and_Friendship_themes_5tracks_18measures.pickle (5, 18, 16)\n",
            "(9693, 16, 128) song= song_UMK3_Fatality_and_Friendship_themes_5tracks_18measures.pickle (5, 18, 16)\n",
            "(9763, 16, 128) song= song_aleste2_5tracks_71measures.pickle (5, 71, 16)\n",
            "(9763, 16, 128) song= song_aleste2_5tracks_71measures.pickle (5, 71, 16)\n",
            "(9833, 16, 128) song= song_sonic_factory_5tracks_71measures.pickle (5, 71, 16)\n",
            "(9833, 16, 128) song= song_sonic_factory_5tracks_71measures.pickle (5, 71, 16)\n",
            "(9904, 16, 128) song= song_B1L_winglancer_bossmode_2tracks_72measures.pickle (2, 72, 16)\n",
            "(9904, 16, 128) song= song_B1L_winglancer_bossmode_2tracks_72measures.pickle (2, 72, 16)\n",
            "(9907, 16, 128) song= song_poison_mind__28piano_loop_29__28by_S._Kashgari_29_1tracks_4measures.pickle (1, 4, 16)\n",
            "(9907, 16, 128) song= song_poison_mind__28piano_loop_29__28by_S._Kashgari_29_1tracks_4measures.pickle (1, 4, 16)\n",
            "(10017, 16, 128) song= song_MadouMonogatari123MSX_Prologue_XG_5tracks_111measures.pickle (5, 111, 16)\n",
            "(10017, 16, 128) song= song_MadouMonogatari123MSX_Prologue_XG_5tracks_111measures.pickle (5, 111, 16)\n",
            "(10076, 16, 128) song= song_B1L_winglancer_area4_2tracks_60measures.pickle (2, 60, 16)\n",
            "(10076, 16, 128) song= song_B1L_winglancer_area4_2tracks_60measures.pickle (2, 60, 16)\n",
            "(10160, 16, 128) song= song_The_Legend_of_Zelda_5tracks_85measures.pickle (5, 85, 16)\n",
            "(10160, 16, 128) song= song_The_Legend_of_Zelda_5tracks_85measures.pickle (5, 85, 16)\n",
            "(10269, 16, 128) song= song_MMBCC-RegularMatch_XG_5tracks_110measures.pickle (5, 110, 16)\n",
            "(10269, 16, 128) song= song_MMBCC-RegularMatch_XG_5tracks_110measures.pickle (5, 110, 16)\n",
            "error parsing\n",
            "(10271, 16, 128) song= song_PsyWorld-Over_4tracks_3measures.pickle (4, 3, 16)\n",
            "(10271, 16, 128) song= song_PsyWorld-Over_4tracks_3measures.pickle (4, 3, 16)\n",
            "(10306, 16, 128) song= song_nemintro_1tracks_36measures.pickle (1, 36, 16)\n",
            "(10306, 16, 128) song= song_nemintro_1tracks_36measures.pickle (1, 36, 16)\n",
            "(10370, 16, 128) song= song5_5tracks_65measures.pickle (5, 65, 16)\n",
            "(10370, 16, 128) song= song5_5tracks_65measures.pickle (5, 65, 16)\n",
            "(10395, 16, 128) song= song_Knight_4tracks_26measures.pickle (4, 26, 16)\n",
            "(10395, 16, 128) song= song_Knight_4tracks_26measures.pickle (4, 26, 16)\n",
            "(10446, 16, 128) song= song_PsyWorld-Cecile_5tracks_52measures.pickle (5, 52, 16)\n",
            "(10446, 16, 128) song= song_PsyWorld-Cecile_5tracks_52measures.pickle (5, 52, 16)\n",
            "(10509, 16, 128) song= song_PsyWorld-World3_5tracks_64measures.pickle (5, 64, 16)\n",
            "(10509, 16, 128) song= song_PsyWorld-World3_5tracks_64measures.pickle (5, 64, 16)\n",
            "(10580, 16, 128) song= song_GS_MercuryLighthouse_5tracks_72measures.pickle (5, 72, 16)\n",
            "(10580, 16, 128) song= song_GS_MercuryLighthouse_5tracks_72measures.pickle (5, 72, 16)\n",
            "(10683, 16, 128) song= song_B1L_winglancer_area1_2tracks_104measures.pickle (2, 104, 16)\n",
            "(10683, 16, 128) song= song_B1L_winglancer_area1_2tracks_104measures.pickle (2, 104, 16)\n",
            "(10793, 16, 128) song= song_MadouMonogatari123MSX_Prologue_GM_5tracks_111measures.pickle (5, 111, 16)\n",
            "(10793, 16, 128) song= song_MadouMonogatari123MSX_Prologue_GM_5tracks_111measures.pickle (5, 111, 16)\n",
            "(10884, 16, 128) song= song_B1L_winglancer_area2_2tracks_92measures.pickle (2, 92, 16)\n",
            "(10884, 16, 128) song= song_B1L_winglancer_area2_2tracks_92measures.pickle (2, 92, 16)\n",
            "(10893, 16, 128) song= song_Operation_Intrude_N313_4tracks_10measures.pickle (4, 10, 16)\n",
            "(10893, 16, 128) song= song_Operation_Intrude_N313_4tracks_10measures.pickle (4, 10, 16)\n",
            "(10902, 16, 128) song= song_PsyWorld-Title_5tracks_10measures.pickle (5, 10, 16)\n",
            "(10902, 16, 128) song= song_PsyWorld-Title_5tracks_10measures.pickle (5, 10, 16)\n",
            "(10960, 16, 128) song= song4_5tracks_59measures.pickle (5, 59, 16)\n",
            "(10960, 16, 128) song= song4_5tracks_59measures.pickle (5, 59, 16)\n",
            "(10973, 16, 128) song= song_Pinobee_Victory_Dance_4tracks_14measures.pickle (4, 14, 16)\n",
            "(10973, 16, 128) song= song_Pinobee_Victory_Dance_4tracks_14measures.pickle (4, 14, 16)\n",
            "(10998, 16, 128) song= song_Inventory_5tracks_26measures.pickle (5, 26, 16)\n",
            "(10998, 16, 128) song= song_Inventory_5tracks_26measures.pickle (5, 26, 16)\n",
            "error parsing\n",
            "(11103, 16, 128) song= song_mmbn4_NaviCustomizer_Blue_5tracks_106measures.pickle (5, 106, 16)\n",
            "(11103, 16, 128) song= song_mmbn4_NaviCustomizer_Blue_5tracks_106measures.pickle (5, 106, 16)\n",
            "(11133, 16, 128) song= song_sa2_boss_xg_5tracks_31measures.pickle (5, 31, 16)\n",
            "(11133, 16, 128) song= song_sa2_boss_xg_5tracks_31measures.pickle (5, 31, 16)\n",
            "(11162, 16, 128) song= song_T_AkumajouDraculaMSX_Unused_3tracks_30measures.pickle (3, 30, 16)\n",
            "(11162, 16, 128) song= song_T_AkumajouDraculaMSX_Unused_3tracks_30measures.pickle (3, 30, 16)\n",
            "(11306, 16, 128) song= song_MMZ_Series_-_Neo_Arcadia_-Medley-_5tracks_145measures.pickle (5, 145, 16)\n",
            "(11306, 16, 128) song= song_MMZ_Series_-_Neo_Arcadia_-Medley-_5tracks_145measures.pickle (5, 145, 16)\n",
            "(11506, 16, 128) song= song_CVAoS-TheArena_5tracks_201measures.pickle (5, 201, 16)\n",
            "(11506, 16, 128) song= song_CVAoS-TheArena_5tracks_201measures.pickle (5, 201, 16)\n"
          ],
          "name": "stdout"
        }
      ]
    },
    {
      "metadata": {
        "id": "b7W4Tr-Kqq_v",
        "colab_type": "code",
        "colab": {}
      },
      "cell_type": "code",
      "source": [
        "np.save('data_songs_500.npy', data_songs[:500], allow_pickle=True, fix_imports=True)\n",
        "np.save('data_songs_prev_500.npy', data_songs_prev[:500], allow_pickle=True, fix_imports=True)"
      ],
      "execution_count": 0,
      "outputs": []
    },
    {
      "metadata": {
        "id": "4549y9L_iG90",
        "colab_type": "code",
        "outputId": "96337227-1098-44b2-bbcb-79b5b1c9bf7a",
        "colab": {
          "base_uri": "https://localhost:8080/",
          "height": 35
        }
      },
      "cell_type": "code",
      "source": [
        "len(data_songs)"
      ],
      "execution_count": 0,
      "outputs": [
        {
          "output_type": "execute_result",
          "data": {
            "text/plain": [
              "11506"
            ]
          },
          "metadata": {
            "tags": []
          },
          "execution_count": 86
        }
      ]
    },
    {
      "metadata": {
        "id": "2NjN7Y0xiHS7",
        "colab_type": "code",
        "colab": {}
      },
      "cell_type": "code",
      "source": [
        ""
      ],
      "execution_count": 0,
      "outputs": []
    },
    {
      "metadata": {
        "id": "-AZEutsVqq_z",
        "colab_type": "code",
        "colab": {}
      },
      "cell_type": "code",
      "source": [
        "np.save('data_songs.npy', data_songs, allow_pickle=True, fix_imports=True)\n",
        "np.save('data_songs_prev.npy', data_songs_prev, allow_pickle=True, fix_imports=True)"
      ],
      "execution_count": 0,
      "outputs": []
    },
    {
      "metadata": {
        "id": "fqTSu8kl-Dr7",
        "colab_type": "code",
        "colab": {}
      },
      "cell_type": "code",
      "source": [
        "%pycat model.py"
      ],
      "execution_count": 0,
      "outputs": []
    },
    {
      "metadata": {
        "id": "IT3URiQ8Bsn5",
        "colab_type": "code",
        "outputId": "651a1f4a-4709-4fd8-91e9-1f8603531054",
        "colab": {
          "base_uri": "https://localhost:8080/",
          "height": 35
        }
      },
      "cell_type": "code",
      "source": [
        "!rm model.py\n",
        "!rm -r .ipynb_checkpoints"
      ],
      "execution_count": 0,
      "outputs": [
        {
          "output_type": "stream",
          "text": [
            "rm: cannot remove '.ipynb_checkpoints': No such file or directory\n"
          ],
          "name": "stdout"
        }
      ]
    },
    {
      "metadata": {
        "id": "8e6VWadLBjcd",
        "colab_type": "code",
        "outputId": "8e365280-ff94-4ad3-8abc-82990f269793",
        "colab": {
          "base_uri": "https://localhost:8080/",
          "height": 35
        }
      },
      "cell_type": "code",
      "source": [
        "%%writefile model.py \n",
        "from __future__ import division\n",
        "import os\n",
        "import time\n",
        "from glob import glob\n",
        "import tensorflow as tf\n",
        "import numpy as np\n",
        "from six.moves import xrange\n",
        "# import SharedArray as sa\n",
        "from sklearn.utils import shuffle\n",
        "from ops import *\n",
        "from utils import *\n",
        "import pickle\n",
        "import copy\n",
        "\n",
        "class MidiNet(object): ##Model 1, no 1D conditioner (chords), includes 2D conditioner (previous melody)\n",
        "    def __init__(self, sess, is_crop=False,\n",
        "                 batch_size=120, sample_size = 120, \n",
        "                 output_w=16,output_h=128, #typical midi bar dimensions\n",
        "                 prev_dim=1, #prev_dim refers to TRUE: using 2d melody.\n",
        "                 z_dim=100, gf_dim=64, #dimension of convlutions considering feature matching\n",
        "                 df_dim=64, #dimension of convlutions considering feature matching\n",
        "                 c_dim=1, #channels: 1\n",
        "                 dataset_name='default',\n",
        "                 checkpoint_dir=None, \n",
        "                 sample_dir=None, gen_dir= None): #These should indicate the folders for export and saving\n",
        "        self.sess = sess\n",
        "        self.k = 24 # kmeans\n",
        "        self.is_crop = is_crop\n",
        "        self.batch_size = batch_size\n",
        "        self.sample_size = sample_size\n",
        "        self.output_w = output_w\n",
        "        self.output_h = output_h\n",
        "\n",
        "        self.prev_dim = prev_dim\n",
        "        self.z_dim = z_dim\n",
        "\n",
        "        self.gf_dim = gf_dim\n",
        "        self.df_dim = df_dim\n",
        "        \n",
        "        self.c_dim = c_dim\n",
        "\n",
        "        # batch normalization : deals with poor initialization helps gradient flow\n",
        "        self.d_bn0 = batch_norm(name='d_bn0')\n",
        "        self.d_bn1 = batch_norm(name='d_bn1')\n",
        "        self.d_bn2 = batch_norm(name='d_bn2')\n",
        "        self.d_bn3 = batch_norm(name='d_bn3')\n",
        "\n",
        "\n",
        "        if self.prev_dim:\n",
        "            self.g_prev_bn0 = batch_norm(name='g_prev_bn0')\n",
        "            self.g_prev_bn1 = batch_norm(name='g_prev_bn1')\n",
        "            self.g_prev_bn2 = batch_norm(name='g_prev_bn2')\n",
        "            self.g_prev_bn3 = batch_norm(name='g_prev_bn3')\n",
        "\n",
        "        self.g_bn0 = batch_norm(name='g_bn0')\n",
        "        self.g_bn1 = batch_norm(name='g_bn1')\n",
        "        self.g_bn2 = batch_norm(name='g_bn2')\n",
        "        self.g_bn3 = batch_norm(name='g_bn3')\n",
        "        self.g_bn4 = batch_norm(name='g_bn4')\n",
        "        \n",
        "\n",
        "        self.dataset_name = dataset_name\n",
        "        self.checkpoint_dir = checkpoint_dir\n",
        "        \n",
        "        # clustering new parameters\n",
        "        self.clusterer = None\n",
        "        self.data_X = None\n",
        "        self.prev_X = None\n",
        "        \n",
        "        # pca new parameters\n",
        "        self.pca = None\n",
        "        \n",
        "        self.setup_model()\n",
        "        self.build_model()\n",
        "    \n",
        "    def pca_transform(self, tensor_as_nparray):\n",
        "        return np.asarray(self.pca.transform(tensor_as_nparray.squeeze().reshape(len(tensor_as_nparray),16*128))).astype(np.float32)\n",
        "    \n",
        "    def kmeans_predict(self,tensor_as_nparray):\n",
        "        zeros_arr = []\n",
        "        predicted_classes = self.clusterer.predict(self.pca.transform(tensor_as_nparray.squeeze().reshape(len(tensor_as_nparray),16*128)))\n",
        "        for pred_c in predicted_classes:\n",
        "          zeros = np.zeros(self.k)\n",
        "          zeros[pred_c] = 1\n",
        "          zeros_arr.append(zeros)\n",
        "          \n",
        "        return np.asarray(zeros_arr).astype(np.int32)\n",
        "    \n",
        "    def setup_model(self):\n",
        "        # change the file path to your dataset\n",
        "        data_X = np.load('data_songs.npy') #Shape: (n, 1, 16, 128), where n is the number of measures(bars) of training data.\n",
        "        prev_X = np.load('data_songs_prev.npy') #Shape: (n, 1, 16, 128), if the bar is a first bar, it's previous bar = np.zeros(1,16,128)\n",
        "\n",
        "        data_X, prev_X = shuffle(data_X,prev_X, random_state=0)\n",
        "\n",
        "        self.data_X = np.transpose(data_X,(0,2,3,1))\n",
        "        self.prev_X = np.transpose(prev_X,(0,2,3,1))\n",
        "        with open('pca_kmeans_24.pickle', 'rb') as f:\n",
        "            # The protocol version used is detected automatically, so we do not\n",
        "            # have to specify it.\n",
        "            self.clusterer = pickle.load(f)\n",
        "        with open('pca_175.pickle', 'rb') as f:\n",
        "            # The protocol version used is detected automatically, so we do not\n",
        "            # have to specify it.\n",
        "            self.pca = pickle.load(f)\n",
        "        return\n",
        "\n",
        "    def build_model(self):\n",
        "    \n",
        "        \n",
        "        self.prev_bar = tf.placeholder(tf.float32, [self.batch_size] + [self.output_w, self.output_h, self.c_dim],\n",
        "                                    name='prev_bar') #previous bar\n",
        "        self.images = tf.placeholder(tf.float32, [self.batch_size] + [self.output_w, self.output_h, self.c_dim],\n",
        "                                    name='real_images') #real bar\n",
        "        self.sample_images= tf.placeholder(tf.float32, [self.sample_size] + [self.output_w, self.output_h, self.c_dim],\n",
        "                                        name='sample_images') \n",
        "        new_z_dim = self.z_dim+self.k+self.pca.n_components_\n",
        "        self.z = tf.placeholder(tf.float32, [None,new_z_dim ],\n",
        "                                name='z') #noise\n",
        "        \n",
        "        self.classes = tf.placeholder(tf.int32, [None, self.k],\n",
        "                                name='k') #noise\n",
        "\n",
        "        self.z_sum = tf.summary.histogram(\"z\", self.z) #checking the distribution?\n",
        "\n",
        "        \n",
        "        self.G = self.generator(self.z, self.prev_bar)\n",
        "        \n",
        "        \n",
        "        g_classes = tf.py_func(self.kmeans_predict,[self.G],[tf.int32])\n",
        "        \n",
        "        self.D, self.D_logits, self.fm, self.class_logits = self.discriminator(self.images, reuse=False)\n",
        "\n",
        "        self.sampler = self.sampler(self.z,self.prev_bar)\n",
        "        self.D_, self.D_logits_, self.fm_, self.class_logits_ = self.discriminator(self.G, reuse=True)\n",
        "    \n",
        "    \n",
        "        self.d_sum = tf.summary.histogram(\"d\", self.D)\n",
        "        self.d__sum = tf.summary.histogram(\"d_\", self.D_)\n",
        "        self.G_sum = tf.summary.image(\"G\", self.G)\n",
        "\n",
        "        self.d_loss_real = tf.reduce_mean(tf.nn.sigmoid_cross_entropy_with_logits(logits=self.D_logits, labels=0.9*tf.ones_like(self.D)))+\\\n",
        "        tf.reduce_mean(tf.nn.softmax_cross_entropy_with_logits(logits=self.class_logits, labels=self.classes))\n",
        "        \n",
        "        \n",
        "        self.d_loss_fake = tf.reduce_mean(tf.nn.sigmoid_cross_entropy_with_logits(logits=self.D_logits_, labels=tf.zeros_like(self.D_)))+\\\n",
        "        tf.reduce_mean(tf.nn.softmax_cross_entropy_with_logits(logits=self.class_logits_, labels=g_classes))\n",
        "        \n",
        "        self.g_loss0 = tf.reduce_mean(tf.nn.sigmoid_cross_entropy_with_logits(logits=self.D_logits_, labels=tf.ones_like(self.D_))) +\\\n",
        "        tf.reduce_mean(tf.nn.softmax_cross_entropy_with_logits(logits=self.class_logits_, labels=self.classes))\n",
        "\n",
        "\n",
        "        #Feature Matching\n",
        "        self.features_from_g = tf.reduce_mean(self.fm_, reduction_indices=(0))\n",
        "        self.features_from_i = tf.reduce_mean(self.fm, reduction_indices=(0))\n",
        "        self.fm_g_loss1 = tf.multiply(tf.nn.l2_loss(self.features_from_g - self.features_from_i), 0.1)\n",
        "\n",
        "        self.mean_image_from_g = tf.reduce_mean(self.G, reduction_indices=(0))\n",
        "        self.mean_image_from_i = tf.reduce_mean(self.images, reduction_indices=(0))\n",
        "        self.fm_g_loss2 = tf.multiply(tf.nn.l2_loss(self.mean_image_from_g - self.mean_image_from_i), 0.01)\n",
        "\n",
        "\n",
        "        self.d_loss_real_sum = tf.summary.scalar(\"d_loss_real\", self.d_loss_real)\n",
        "        self.d_loss_fake_sum = tf.summary.scalar(\"d_loss_fake\", self.d_loss_fake)\n",
        "\n",
        "        self.d_loss = self.d_loss_real + self.d_loss_fake\n",
        "        self.g_loss = self.g_loss0 + self.fm_g_loss1 + self.fm_g_loss2\n",
        "\n",
        "        self.g_loss_sum = tf.summary.scalar(\"g_loss\", self.g_loss)\n",
        "        self.d_loss_sum = tf.summary.scalar(\"d_loss\", self.d_loss)\n",
        "\n",
        "        \n",
        "        \n",
        "\n",
        "        t_vars = tf.trainable_variables()\n",
        "\n",
        "        self.d_vars = [var for var in t_vars if 'd_' in var.name]\n",
        "        self.g_vars = [var for var in t_vars if 'g_' in var.name]\n",
        "\n",
        "        self.saver = tf.train.Saver()\n",
        "\n",
        "    def train(self, config):\n",
        "    \n",
        "#         if config.dataset == 'MidiNet_vg':\n",
        "#             # change the file path to your dataset\n",
        "#             data_X = np.load('data_songs.npy') #Shape: (n, 1, 16, 128), where n is the number of measures(bars) of training data.\n",
        "#             prev_X = np.load('data_songs_prev.npy') #Shape: (n, 1, 16, 128), if the bar is a first bar, it's previous bar = np.zeros(1,16,128)\n",
        "\n",
        "#             data_X, prev_X = shuffle(data_X,prev_X, random_state=0)\n",
        "            \n",
        "#             data_X = np.transpose(data_X,(0,2,3,1))\n",
        "#             prev_X = np.transpose(prev_X,(0,2,3,1))\n",
        "            \n",
        "        data_X = self.data_X\n",
        "        prev_X = self.prev_X\n",
        "    \n",
        "        d_optim = tf.train.AdamOptimizer(config.learning_rate, beta1=config.beta1).minimize(self.d_loss, var_list=self.d_vars)\n",
        "        g_optim = tf.train.AdamOptimizer(config.learning_rate, beta1=config.beta1).minimize(self.g_loss, var_list=self.g_vars)\n",
        "        tf.global_variables_initializer().run()\n",
        "\n",
        "        self.g_sum = tf.summary.merge([self.z_sum, self.d__sum, \n",
        "            self.G_sum, self.d_loss_fake_sum, self.g_loss_sum])\n",
        "        self.d_sum = tf.summary.merge([self.z_sum, self.d_sum, self.d_loss_real_sum, self.d_loss_sum])\n",
        "        self.writer = tf.summary.FileWriter(\"./logs\", self.sess.graph)\n",
        "\n",
        "        sample_z = np.random.normal(0, 1, size=(self.sample_size , self.z_dim))\n",
        "        #sample_files = data_X[0:self.sample_size]\n",
        "        \n",
        "        save_images(data_X[np.arange(len(data_X))[:5]]*1, [1, 5],\n",
        "        './{}/Train.png'.format(config.sample_dir))\n",
        "        \n",
        "        randomito=random.randint(0,len(data_X)-60)\n",
        "        \n",
        "        #sample_images = data_X[0:self.sample_size]\n",
        "        counter = 0\n",
        "        start_time = time.time()\n",
        "\n",
        "        if self.load(self.checkpoint_dir):\n",
        "            print(\" [*] Load SUCCESS\")\n",
        "        else:\n",
        "            print(\" [!] Load failed...\")\n",
        "        \n",
        "        sample_labels = sloppy_sample_labels()\n",
        "        \n",
        "        \n",
        "        # pca additions\n",
        "        embeddings = self.pca.transform(prev_X.squeeze().reshape(len(prev_X),16*128))\n",
        "        # kmeans additions\n",
        "        k_classes  = self.clusterer.predict(self.pca.transform(data_X.squeeze().reshape(len(data_X),16*128)))\n",
        "        \n",
        "        for epoch in range(config.epoch):\n",
        "            \n",
        "            batch_idxs = len(data_X) // config.batch_size\n",
        "            sample_z = np.random.normal(0, 1, size=(self.sample_size , self.z_dim))\n",
        "            sample_images = data_X[randomito:randomito + self.sample_size]\n",
        "            sample_clases = k_classes[randomito:randomito + self.sample_size]\n",
        "            #pca\n",
        "            embeddings_sample = embeddings[randomito:randomito + self.sample_size]\n",
        "            \n",
        "            new_class_sample = [] ###We create a new list to save the one hot vector\n",
        "            for i in range(0,len(sample_clases)):\n",
        "                    zero = np.repeat(0,self.k)\n",
        "                    zero[sample_clases[i]]=1\n",
        "                    new_class_sample.append(zero)\n",
        "\n",
        "            sample_l = np.concatenate((sample_z,np.array(new_class_sample),np.array(embeddings_sample)), axis=1)\n",
        "            data_X, prev_X,emb_X = shuffle(data_X,prev_X,embeddings, random_state=0)\n",
        "            clases = shuffle(k_classes, random_state=0)\n",
        "            batch_idxs = len(data_X) // config.batch_size\n",
        "            \n",
        "            for idx in range(0, batch_idxs):\n",
        "                batch_images = data_X[idx*config.batch_size:(idx+1)*config.batch_size]\n",
        "                prev_batch_images = prev_X[idx*config.batch_size:(idx+1)*config.batch_size]\n",
        "                # pca\n",
        "                batch_embeddings = emb_X[idx*config.batch_size:(idx+1)*config.batch_size]\n",
        "                \n",
        "                # clustering\n",
        "                clases_batch = clases[idx*config.batch_size:(idx+1)*config.batch_size]\n",
        "                \n",
        "                new_aa = []\n",
        "                for i in range(0,len(clases_batch)):\n",
        "                    zero = np.repeat(0,self.k)\n",
        "                    zero[clases_batch[i]]=1\n",
        "                    new_aa.append(zero)\n",
        "                                    \n",
        "                \n",
        "                batch_z = np.random.normal(0, 1, [config.batch_size, self.z_dim]).astype(np.float32)\n",
        "                l = np.concatenate((batch_z,np.array(new_aa),np.array(batch_embeddings)), axis=1) #nombre del vector nuevo de latentes\n",
        "                \n",
        "                # |==========Z=========|===K===|=====EMB====|\n",
        "                \n",
        "                '''\n",
        "                Note that the mu and sigma are set to (-1,1) in the experiment of the paper :\n",
        "                \"MidiNet: A Convolutional Generative Adversarial Network for Symbolic-domain Music Generation\"\n",
        "                However, the result are similar by using (0,1)\n",
        "                '''\n",
        "\n",
        "                \n",
        "                # Update D network\n",
        "                _, summary_str = self.sess.run([d_optim, self.d_sum],\n",
        "                    feed_dict={ self.images: batch_images, self.z: l ,self.prev_bar:prev_batch_images, self.classes: np.array(new_aa) })\n",
        "                self.writer.add_summary(summary_str, counter)\n",
        "\n",
        "                # Update G network\n",
        "                _, summary_str = self.sess.run([g_optim, self.g_sum],\n",
        "                        feed_dict={ self.images: batch_images, self.z: l ,self.prev_bar:prev_batch_images,self.classes: np.array(new_aa) })\n",
        "                self.writer.add_summary(summary_str, counter)\n",
        "                \n",
        "#                 # Update G network\n",
        "#                 _, summary_str = self.sess.run([g_optim, self.g_sum],\n",
        "#                         feed_dict={ self.images: batch_images, self.z: l ,self.prev_bar:prev_batch_images,self.classes: np.array(new_aa) })\n",
        "#                 self.writer.add_summary(summary_str, counter)\n",
        "                \n",
        "#                 # Update G network\n",
        "#                 _, summary_str = self.sess.run([g_optim, self.g_sum],\n",
        "#                         feed_dict={ self.images: batch_images, self.z: l ,self.prev_bar:prev_batch_images,self.classes: np.array(new_aa) })\n",
        "#                 self.writer.add_summary(summary_str, counter)\n",
        "\n",
        "                # Run g_optim twice to make sure that d_loss does not go to zero (different from paper)\n",
        "                # We've tried to run more d_optim and g_optim, while getting a better result by running g_optim twice in this MidiNet version.\n",
        "                _, summary_str = self.sess.run([g_optim, self.g_sum],\n",
        "                        feed_dict={ self.images: batch_images, self.z: l ,self.prev_bar:prev_batch_images, self.classes: np.array(new_aa) })\n",
        "                self.writer.add_summary(summary_str, counter)\n",
        "                    \n",
        "                errD_fake = self.d_loss_fake.eval({self.z: l, self.prev_bar:prev_batch_images, self.classes: np.array(new_aa) })\n",
        "                errD_real = self.d_loss_real.eval({self.images: batch_images, self.classes: np.array(new_aa) })\n",
        "                errG = self.g_loss.eval({self.images: batch_images, self.z: l, self.prev_bar:prev_batch_images,self.classes: np.array(new_aa) })\n",
        "                \n",
        "                \n",
        "               \n",
        "                counter += 1\n",
        "                print(\"Epoch: [%2d] [%4d/%4d] time: %4.4f, d_loss: %.8f, g_loss: %.8f\" \\\n",
        "                    % (epoch, idx, batch_idxs,\n",
        "                        time.time() - start_time, errD_fake+errD_real, errG))\n",
        "\n",
        "                if np.mod(counter, 100) == 1:\n",
        "                    print(type(sample_z))\n",
        "                    print(type(sample_images))\n",
        "                    print(type(prev_batch_images))\n",
        "                    \n",
        "                    to_save = []\n",
        "                    new_prev_x = None\n",
        "                    for i in range(0,8):\n",
        "                        if (i==0):\n",
        "                            samples, d_loss, g_loss = self.sess.run(\n",
        "                                [self.sampler, self.d_loss, self.g_loss],\n",
        "                                feed_dict={self.z: sample_l, self.images: sample_images, self.prev_bar:prev_batch_images,self.classes: np.array(new_aa) }\n",
        "                            )\n",
        "                            to_save.append(copy.deepcopy(prev_batch_images[0,:]))\n",
        "                        else:\n",
        "                            samples, d_loss, g_loss = self.sess.run(\n",
        "                                [self.sampler, self.d_loss, self.g_loss],\n",
        "                                feed_dict={self.z: new_sample_l, self.images: sample_images, self.prev_bar:new_prev_x,self.classes: np.array(new_s_aa) }\n",
        "                            )\n",
        "                        new_prev_x = samples\n",
        "                        to_save.append(copy.deepcopy(new_prev_x[0,:]))\n",
        "                        new_prev_embeddings = self.pca.transform(samples.squeeze().reshape(len(samples),16*128))\n",
        "                        #new_prev_embeddings = self.clusterer.predict(self.pca.transform(samples.squeeze().reshape(len(samples),16*128)))\n",
        "                        new_k = [random.randint(0,self.k-1) for x in list(range(0,self.sample_size))]\n",
        "                        new_s_aa = []\n",
        "                        for k in new_k:\n",
        "                            zeros = np.zeros(self.k)\n",
        "                            zeros[k] = 1\n",
        "                            new_s_aa.append(zeros)\n",
        "                        new_sample_z = np.random.normal(0, 1, size=(self.sample_size , self.z_dim))\n",
        "                        print(new_sample_z.shape)\n",
        "                        print(np.asarray(new_s_aa).shape)\n",
        "                        print(np.asarray(new_prev_embeddings).shape)\n",
        "                        new_sample_l = np.concatenate((new_sample_z,np.array(new_s_aa),np.array(new_prev_embeddings)), axis=1)\n",
        "                    #samples = (samples+1.)/2.\n",
        "                    save_images(np.asarray(to_save), [1, 9],\n",
        "                                './{}/train_{:02d}_{:04d}.png'.format(config.sample_dir, epoch, idx))\n",
        "                    print(\"[Sample] d_loss: %.8f, g_loss: %.8f\" % (d_loss, g_loss))\n",
        "\n",
        "                    np.save('./{}/train_{:02d}_{:04d}'.format(config.gen_dir,  epoch, idx), samples)\n",
        "\n",
        "                if np.mod(counter, len(data_X)/config.batch_size) == 0:\n",
        "                    self.save(config.checkpoint_dir, counter)\n",
        "            print(\"Epoch: [%2d] time: %4.4f, d_loss: %.8f\" \\\n",
        "            % (epoch, \n",
        "                time.time() - start_time, (errD_fake+errD_real)/batch_idxs))\n",
        "    \n",
        "    def discriminator(self, x, reuse=False):\n",
        "        with tf.variable_scope(\"discriminator\") as scope: #issue solved consulting  https://github.com/carpedm20/DCGAN- tensorflow/commit/6c2a0ca5241eed7c83b7c38c0e46450b9a77fc3d\n",
        "            if reuse:\n",
        "                tf.get_variable_scope().reuse_variables()\n",
        "\n",
        "            h0 = lrelu(self.d_bn0(conv2d(x, 64, k_h=4, k_w=89, name='d_h0_conv')))\n",
        "            fm = h0 #New line added, simple feature matching vector\n",
        "            h1 = lrelu(self.d_bn1(conv2d(h0, 64, k_h=4, k_w=1, name='d_h1_conv')))\n",
        "            h2 = lrelu(self.d_bn2(conv2d(h1, 64, k_h=2, k_w=1, name='d_h2_conv')))\n",
        "            h3 = linear(tf.reshape(h2, [self.batch_size, -1]), 1, 'd_h3_lin')\n",
        "            hclass= linear(tf.reshape(h2, [self.batch_size, -1]), self.k, 'd_h3_class')\n",
        "\n",
        "            return tf.nn.sigmoid(h3), h3, fm, hclass\n",
        "\n",
        "\n",
        "    def generator(self, z, prev_x = None):\n",
        "        with tf.variable_scope(\"generator\") as scope:\n",
        "            h0_prev = lrelu(self.g_prev_bn0(conv2d(prev_x, 16, k_h=1, k_w=128,d_h=1, d_w=2, name='g_h0_prev_conv')))\n",
        "            h1_prev = lrelu(self.g_prev_bn1(conv2d(h0_prev, 16, k_h=2, k_w=1, name='g_h1_prev_conv')))\n",
        "            h2_prev = lrelu(self.g_prev_bn2(conv2d(h1_prev, 16, k_h=2, k_w=1, name='g_h2_prev_conv')))\n",
        "            h3_prev = lrelu(self.g_prev_bn3(conv2d(h2_prev, 16, k_h=2, k_w=1, name='g_h3_prev_conv')))\n",
        "\n",
        "            h0 = tf.nn.relu(self.g_bn0(linear(z, 1024, 'g_h0_lin')))\n",
        "\n",
        "            h1 = tf.nn.relu(self.g_bn1(linear(h0, self.gf_dim*2*2*1, 'g_h1_lin'))) #256 output neurons as mentioned in the article\n",
        "\n",
        "            h1 = tf.reshape(h1, [self.batch_size, 2, 1, self.gf_dim * 2])\n",
        "            h1 = conv_prev_concat(h1, h3_prev)\n",
        "\n",
        "            h2 = tf.nn.relu(self.g_bn2(deconv2d(h1, [self.batch_size, 4, 1, self.gf_dim * 2],k_h=2, k_w=1,d_h=2, d_w=2 ,name='g_h2')))\n",
        "            h2 = conv_prev_concat(h2, h2_prev)\n",
        "\n",
        "            h3 = tf.nn.relu(self.g_bn3(deconv2d(h2, [self.batch_size, 8, 1, self.gf_dim * 2],k_h=2, k_w=1,d_h=2, d_w=2 ,name='g_h3')))\n",
        "            h3 = conv_prev_concat(h3, h1_prev)\n",
        "\n",
        "            h4 = tf.nn.relu(self.g_bn4(deconv2d(h3, [self.batch_size, 16, 1, self.gf_dim * 2],k_h=2, k_w=1,d_h=2, d_w=2 ,name='g_h4')))\n",
        "            h4 = conv_prev_concat(h4, h0_prev)\n",
        "\n",
        "            return tf.nn.softmax(deconv2d(h4, [self.batch_size, 16, 128, self.c_dim],k_h=1, k_w=128,d_h=1, d_w=2, name='g_h5'),axis=2)\n",
        "\n",
        "   \n",
        "        #return tensor_as_nparray\n",
        "    \n",
        "    def sampler(self, z, prev_x=None): #This is the same as Generator, not trained and reusing variables\n",
        "        with tf.variable_scope(\"generator\") as scope:\n",
        "            tf.get_variable_scope().reuse_variables()\n",
        "            h0_prev = lrelu(self.g_prev_bn0(conv2d(prev_x, 16, k_h=1, k_w=128,d_h=1, d_w=2, name='g_h0_prev_conv')))\n",
        "            h1_prev = lrelu(self.g_prev_bn1(conv2d(h0_prev, 16, k_h=2, k_w=1, name='g_h1_prev_conv')))\n",
        "            h2_prev = lrelu(self.g_prev_bn2(conv2d(h1_prev, 16, k_h=2, k_w=1, name='g_h2_prev_conv')))\n",
        "            h3_prev = lrelu(self.g_prev_bn3(conv2d(h2_prev, 16, k_h=2, k_w=1, name='g_h3_prev_conv')))\n",
        "            \n",
        "            h0 = tf.nn.relu(self.g_bn0(linear(z, 1024, 'g_h0_lin')))\n",
        "\n",
        "            h1 = tf.nn.relu(self.g_bn1(linear(h0, self.gf_dim*2*2*1, 'g_h1_lin'))) #256 output neurons as mentioned in the article\n",
        "\n",
        "            h1 = tf.reshape(h1, [self.batch_size, 2, 1, self.gf_dim * 2])\n",
        "            h1 = conv_prev_concat(h1, h3_prev)\n",
        "\n",
        "            h2 = tf.nn.relu(self.g_bn2(deconv2d(h1, [self.batch_size, 4, 1, self.gf_dim * 2],k_h=2, k_w=1,d_h=2, d_w=2 ,name='g_h2')))\n",
        "            h2 = conv_prev_concat(h2, h2_prev)\n",
        "\n",
        "            h3 = tf.nn.relu(self.g_bn3(deconv2d(h2, [self.batch_size, 8, 1, self.gf_dim * 2],k_h=2, k_w=1,d_h=2, d_w=2 ,name='g_h3')))\n",
        "            h3 = conv_prev_concat(h3, h1_prev)\n",
        "\n",
        "            h4 = tf.nn.relu(self.g_bn4(deconv2d(h3, [self.batch_size, 16, 1, self.gf_dim * 2],k_h=2, k_w=1,d_h=2, d_w=2 ,name='g_h4')))\n",
        "            h4 = conv_prev_concat(h4, h0_prev)\n",
        "\n",
        "            return tf.nn.sigmoid(deconv2d(h4, [self.batch_size, 16, 128, self.c_dim],k_h=1, k_w=128,d_h=1, d_w=2, name='g_h5'))\n",
        "          \n",
        "    def save(self, checkpoint_dir, step):\n",
        "        model_name = \"MidiNet.model\"\n",
        "        model_dir = \"%s_%s_%s\" % (self.dataset_name, self.batch_size, self.output_w)\n",
        "        checkpoint_dir = os.path.join(checkpoint_dir, model_dir)\n",
        "\n",
        "        if not os.path.exists(checkpoint_dir):\n",
        "            os.makedirs(checkpoint_dir)\n",
        "\n",
        "        self.saver.save(self.sess,\n",
        "                        os.path.join(checkpoint_dir, model_name),\n",
        "                        global_step=step)\n",
        "\n",
        "    def load(self, checkpoint_dir):\n",
        "        print(\" [*] Reading checkpoints...\")\n",
        "\n",
        "        model_dir = \"%s_%s_%s\" % (self.dataset_name, self.batch_size, self.output_w)\n",
        "        checkpoint_dir = os.path.join(checkpoint_dir, model_dir)\n",
        "\n",
        "        ckpt = tf.train.get_checkpoint_state(checkpoint_dir)\n",
        "        if ckpt and ckpt.model_checkpoint_path:\n",
        "            ckpt_name = os.path.basename(ckpt.model_checkpoint_path)\n",
        "            self.saver.restore(self.sess, os.path.join(checkpoint_dir, ckpt_name))\n",
        "            return True\n",
        "        else:\n",
        "            return False"
      ],
      "execution_count": 0,
      "outputs": [
        {
          "output_type": "stream",
          "text": [
            "Overwriting model.py\n"
          ],
          "name": "stdout"
        }
      ]
    },
    {
      "metadata": {
        "id": "lsRui9dNQbfp",
        "colab_type": "code",
        "outputId": "712f7002-e24c-43c1-9682-52f798560879",
        "colab": {
          "base_uri": "https://localhost:8080/",
          "height": 35
        }
      },
      "cell_type": "code",
      "source": [
        "!ls samples"
      ],
      "execution_count": 0,
      "outputs": [
        {
          "output_type": "stream",
          "text": [
            "Train.png\n"
          ],
          "name": "stdout"
        }
      ]
    },
    {
      "metadata": {
        "id": "8bjmmbyzg8mN",
        "colab_type": "code",
        "colab": {}
      },
      "cell_type": "code",
      "source": [
        "def del_all_flags(FLAGS):\n",
        "    flags_dict = FLAGS._flags()    \n",
        "    keys_list = [keys for keys in flags_dict]    \n",
        "    for keys in keys_list:\n",
        "        FLAGS.__delattr__(keys)\n",
        "\n",
        "del_all_flags(tf.flags.FLAGS)\n",
        "tf.reset_default_graph()\n",
        "!rm -r samples\n",
        "!mkdir samples"
      ],
      "execution_count": 0,
      "outputs": []
    },
    {
      "metadata": {
        "scrolled": true,
        "id": "OyXkzOIGqq_1",
        "colab_type": "code",
        "outputId": "659f0323-c130-49f6-8ad1-158d008ffdcd",
        "colab": {
          "base_uri": "https://localhost:8080/",
          "height": 9910
        }
      },
      "cell_type": "code",
      "source": [
        "\n",
        "import os\n",
        "import scipy.misc\n",
        "import numpy as np\n",
        "from model import MidiNet #Llamando el modelo Utilizar model2 para eliminar silencios\n",
        "from utils import pp, to_json, generation_test\n",
        "\n",
        "# os.environ[\"CUDA_VISIBLE_DEVICES\"] = '0'\n",
        "\n",
        "import tensorflow as tf\n",
        "\n",
        "flags = tf.app.flags\n",
        "flags.DEFINE_integer(\"epoch\", 100, \"Epoch to train [20]\")\n",
        "flags.DEFINE_float(\"learning_rate\", 0.00005, \"Learning rate of for adam [0.0002]\")\n",
        "flags.DEFINE_float(\"beta1\", 0.5, \"Momentum term of adam [0.5]\")\n",
        "flags.DEFINE_integer(\"batch_size\", 120, \"The size of batch [120]\") #Al revisar model3.py, verificar que batch_size sea igual a sample_size\n",
        "flags.DEFINE_integer(\"output_w\", 16, \"The size of the output segs to produce [16]\")\n",
        "flags.DEFINE_integer(\"output_h\", 128, \"The size of the output note to produce [128]\")\n",
        "flags.DEFINE_integer(\"c_dim\", 1, \"Number of Midi track. [1]\")\n",
        "flags.DEFINE_string(\"checkpoint_dir\", \"checkpoint\", \"Directory name to save the checkpoints [checkpoint]\")\n",
        "flags.DEFINE_string(\"sample_dir\", \"samples\", \"Dircacectory name to save the image samples [samples]\")\n",
        "flags.DEFINE_string(\"dataset\", \"MidiNet_vg\", \"The name of dataset \")\n",
        "flags.DEFINE_boolean(\"is_train\", True, \"True for training, False for testing [False]\")\n",
        "flags.DEFINE_boolean(\"is_crop\", False, \"True for training, False for testing [False]\")\n",
        "flags.DEFINE_boolean(\"generation_test\", False, \"True for generation_test, False for nothing [False]\")\n",
        "flags.DEFINE_string(\"gen_dir\", \"gen\", \"Directory name to save the generate samples [samples]\")\n",
        "FLAGS = flags.FLAGS\n",
        "\n",
        "def main(_):\n",
        "    pp.pprint(flags.FLAGS.__flags)\n",
        "\n",
        "    if not os.path.exists(FLAGS.checkpoint_dir):\n",
        "        os.makedirs(FLAGS.checkpoint_dir)\n",
        "    if not os.path.exists(FLAGS.sample_dir):\n",
        "        os.makedirs(FLAGS.sample_dir)\n",
        "    if not os.path.exists(FLAGS.gen_dir):\n",
        "        os.makedirs(FLAGS.gen_dir)\n",
        "\n",
        "    with tf.Session() as sess:\n",
        "        if FLAGS.dataset == 'MidiNet_vg':\n",
        "            model = MidiNet(sess, batch_size=FLAGS.batch_size, output_w=FLAGS.output_w, output_h=FLAGS.output_h, c_dim=FLAGS.c_dim,\n",
        "                    dataset_name=FLAGS.dataset, is_crop=FLAGS.is_crop, checkpoint_dir=FLAGS.checkpoint_dir, sample_dir=FLAGS.sample_dir, \n",
        "                            gen_dir=FLAGS.gen_dir)\n",
        "        \n",
        "        if FLAGS.is_train:\n",
        "            model.train(FLAGS)\n",
        "        else:\n",
        "            model.load(FLAGS.checkpoint_dir)\n",
        "\n",
        "        \n",
        "\n",
        "if __name__ == '__main__':\n",
        "    tf.app.run()"
      ],
      "execution_count": 0,
      "outputs": [
        {
          "output_type": "stream",
          "text": [
            "Epoch: [95] [  50/  95] time: 1167.3534, d_loss: 3.01068687, g_loss: 11.27126122\n",
            "Epoch: [95] [  51/  95] time: 1167.4762, d_loss: 3.35436893, g_loss: 11.33679962\n",
            "Epoch: [95] [  52/  95] time: 1167.6069, d_loss: 2.85574389, g_loss: 12.03632450\n",
            "Epoch: [95] [  53/  95] time: 1167.7372, d_loss: 2.72820234, g_loss: 11.80311966\n",
            "Epoch: [95] [  54/  95] time: 1167.8475, d_loss: 2.79810667, g_loss: 12.03335762\n",
            "Epoch: [95] [  55/  95] time: 1167.9525, d_loss: 2.85215569, g_loss: 9.99126053\n",
            "Epoch: [95] [  56/  95] time: 1168.0692, d_loss: 2.69674397, g_loss: 9.53174114\n",
            "Epoch: [95] [  57/  95] time: 1168.1870, d_loss: 3.08873940, g_loss: 11.98707867\n",
            "Epoch: [95] [  58/  95] time: 1168.3114, d_loss: 3.17779636, g_loss: 13.42497063\n",
            "Epoch: [95] [  59/  95] time: 1168.4452, d_loss: 3.11277533, g_loss: 11.73333645\n",
            "Epoch: [95] [  60/  95] time: 1168.5795, d_loss: 2.88934755, g_loss: 12.22427368\n",
            "Epoch: [95] [  61/  95] time: 1168.6901, d_loss: 2.97701788, g_loss: 11.69140911\n",
            "Epoch: [95] [  62/  95] time: 1168.8146, d_loss: 3.06546617, g_loss: 12.12758446\n",
            "Epoch: [95] [  63/  95] time: 1168.9444, d_loss: 2.95941591, g_loss: 12.25154400\n",
            "Epoch: [95] [  64/  95] time: 1169.0672, d_loss: 3.06918430, g_loss: 12.17991829\n",
            "Epoch: [95] [  65/  95] time: 1169.1856, d_loss: 2.83233690, g_loss: 11.17311001\n",
            "Epoch: [95] [  66/  95] time: 1169.3132, d_loss: 3.17976713, g_loss: 12.32438183\n",
            "Epoch: [95] [  67/  95] time: 1169.4453, d_loss: 3.02618599, g_loss: 12.85395050\n",
            "Epoch: [95] [  68/  95] time: 1169.5682, d_loss: 3.23642850, g_loss: 10.86312580\n",
            "Epoch: [95] [  69/  95] time: 1169.6920, d_loss: 2.94765186, g_loss: 12.01649094\n",
            "Epoch: [95] [  70/  95] time: 1169.8258, d_loss: 3.33636689, g_loss: 12.87217045\n",
            "Epoch: [95] [  71/  95] time: 1169.9473, d_loss: 2.95286155, g_loss: 13.49124813\n",
            "Epoch: [95] [  72/  95] time: 1170.0586, d_loss: 3.03677630, g_loss: 11.98381901\n",
            "Epoch: [95] [  73/  95] time: 1170.1671, d_loss: 3.06728697, g_loss: 12.12414360\n",
            "Epoch: [95] [  74/  95] time: 1170.2876, d_loss: 2.91338062, g_loss: 12.46063423\n",
            "Epoch: [95] [  75/  95] time: 1170.4123, d_loss: 2.74918103, g_loss: 11.63239861\n",
            "<class 'numpy.ndarray'>\n",
            "<class 'numpy.ndarray'>\n",
            "<class 'numpy.ndarray'>\n",
            "(120, 100)\n",
            "(120, 24)\n",
            "(120, 175)\n",
            "(120, 100)\n",
            "(120, 24)\n",
            "(120, 175)\n",
            "(120, 100)\n",
            "(120, 24)\n",
            "(120, 175)\n",
            "(120, 100)\n",
            "(120, 24)\n",
            "(120, 175)\n",
            "(120, 100)\n",
            "(120, 24)\n",
            "(120, 175)\n",
            "(120, 100)\n",
            "(120, 24)\n",
            "(120, 175)\n",
            "(120, 100)\n",
            "(120, 24)\n",
            "(120, 175)\n",
            "(120, 100)\n",
            "(120, 24)\n",
            "(120, 175)\n",
            "[Sample] d_loss: 4.65506840, g_loss: 22.38092041\n",
            "Epoch: [95] [  76/  95] time: 1170.8137, d_loss: 3.15373468, g_loss: 12.03477478\n",
            "Epoch: [95] [  77/  95] time: 1170.9344, d_loss: 3.30169511, g_loss: 13.19565105\n",
            "Epoch: [95] [  78/  95] time: 1171.0568, d_loss: 2.62444592, g_loss: 10.30469513\n",
            "Epoch: [95] [  79/  95] time: 1171.1719, d_loss: 2.85700035, g_loss: 10.42605495\n",
            "Epoch: [95] [  80/  95] time: 1171.2844, d_loss: 2.98405743, g_loss: 11.59276581\n",
            "Epoch: [95] [  81/  95] time: 1171.3979, d_loss: 2.67874217, g_loss: 11.79609489\n",
            "Epoch: [95] [  82/  95] time: 1171.5317, d_loss: 2.93251514, g_loss: 10.74586964\n",
            "Epoch: [95] [  83/  95] time: 1171.6534, d_loss: 2.95530009, g_loss: 10.57463646\n",
            "Epoch: [95] [  84/  95] time: 1171.7773, d_loss: 2.76647305, g_loss: 11.39981842\n",
            "Epoch: [95] [  85/  95] time: 1171.8809, d_loss: 2.85674167, g_loss: 12.02287769\n",
            "Epoch: [95] [  86/  95] time: 1172.0147, d_loss: 3.06645918, g_loss: 13.67548561\n",
            "Epoch: [95] [  87/  95] time: 1172.1289, d_loss: 2.97102261, g_loss: 11.52092934\n",
            "Epoch: [95] [  88/  95] time: 1172.2611, d_loss: 2.88286328, g_loss: 12.03824425\n",
            "Epoch: [95] [  89/  95] time: 1172.3741, d_loss: 2.52390599, g_loss: 12.35325336\n",
            "Epoch: [95] [  90/  95] time: 1172.5044, d_loss: 2.41374779, g_loss: 11.48777294\n",
            "Epoch: [95] [  91/  95] time: 1172.6400, d_loss: 3.28355837, g_loss: 12.25394440\n",
            "Epoch: [95] [  92/  95] time: 1172.7834, d_loss: 2.78716183, g_loss: 12.04529667\n",
            "Epoch: [95] [  93/  95] time: 1172.9023, d_loss: 2.98821163, g_loss: 12.20911789\n",
            "Epoch: [95] [  94/  95] time: 1173.0410, d_loss: 2.88767767, g_loss: 11.23426723\n",
            "Epoch: [95] time: 1173.0416, d_loss: 0.03039661\n",
            "Epoch: [96] [   0/  95] time: 1173.3479, d_loss: 2.90238714, g_loss: 12.04427147\n",
            "Epoch: [96] [   1/  95] time: 1173.4722, d_loss: 2.49004436, g_loss: 12.05893612\n",
            "Epoch: [96] [   2/  95] time: 1173.5978, d_loss: 2.86289835, g_loss: 10.75142288\n",
            "Epoch: [96] [   3/  95] time: 1173.7095, d_loss: 2.66765308, g_loss: 12.56591129\n",
            "Epoch: [96] [   4/  95] time: 1173.8439, d_loss: 2.88432193, g_loss: 12.54389477\n",
            "Epoch: [96] [   5/  95] time: 1173.9619, d_loss: 2.97375298, g_loss: 13.93968296\n",
            "Epoch: [96] [   6/  95] time: 1174.0839, d_loss: 2.71428871, g_loss: 11.24605274\n",
            "Epoch: [96] [   7/  95] time: 1174.2167, d_loss: 2.54420614, g_loss: 10.89129353\n",
            "Epoch: [96] [   8/  95] time: 1174.3251, d_loss: 2.59744549, g_loss: 12.20364189\n",
            "Epoch: [96] [   9/  95] time: 1174.4304, d_loss: 2.94602799, g_loss: 11.00477982\n",
            "Epoch: [96] [  10/  95] time: 1174.5438, d_loss: 2.92729568, g_loss: 12.90911579\n",
            "Epoch: [96] [  11/  95] time: 1174.6835, d_loss: 2.90961289, g_loss: 12.74811459\n",
            "Epoch: [96] [  12/  95] time: 1174.8052, d_loss: 2.50013733, g_loss: 12.96336651\n",
            "Epoch: [96] [  13/  95] time: 1174.9088, d_loss: 2.89540863, g_loss: 11.58063793\n",
            "Epoch: [96] [  14/  95] time: 1175.0326, d_loss: 3.03818250, g_loss: 10.67210579\n",
            "Epoch: [96] [  15/  95] time: 1175.1593, d_loss: 2.87226105, g_loss: 10.04778290\n",
            "Epoch: [96] [  16/  95] time: 1175.2836, d_loss: 2.69031119, g_loss: 11.40723038\n",
            "Epoch: [96] [  17/  95] time: 1175.3978, d_loss: 3.13563895, g_loss: 13.16213608\n",
            "Epoch: [96] [  18/  95] time: 1175.5219, d_loss: 2.76589966, g_loss: 10.25199986\n",
            "Epoch: [96] [  19/  95] time: 1175.6657, d_loss: 2.85012269, g_loss: 10.01578522\n",
            "Epoch: [96] [  20/  95] time: 1175.7856, d_loss: 2.94566250, g_loss: 10.52856636\n",
            "Epoch: [96] [  21/  95] time: 1175.9036, d_loss: 3.08238339, g_loss: 11.47772980\n",
            "Epoch: [96] [  22/  95] time: 1176.0258, d_loss: 2.96076417, g_loss: 12.09899139\n",
            "Epoch: [96] [  23/  95] time: 1176.1475, d_loss: 3.54466295, g_loss: 9.16221523\n",
            "Epoch: [96] [  24/  95] time: 1176.2703, d_loss: 3.01515102, g_loss: 10.57745361\n",
            "Epoch: [96] [  25/  95] time: 1176.3933, d_loss: 2.73074746, g_loss: 12.65578365\n",
            "Epoch: [96] [  26/  95] time: 1176.5282, d_loss: 2.57899523, g_loss: 11.37166882\n",
            "Epoch: [96] [  27/  95] time: 1176.6582, d_loss: 2.97318983, g_loss: 11.34647942\n",
            "Epoch: [96] [  28/  95] time: 1176.7829, d_loss: 3.06334853, g_loss: 11.34604931\n",
            "Epoch: [96] [  29/  95] time: 1176.8993, d_loss: 3.03150463, g_loss: 10.83331394\n",
            "Epoch: [96] [  30/  95] time: 1177.0179, d_loss: 3.13760853, g_loss: 10.94783211\n",
            "Epoch: [96] [  31/  95] time: 1177.1311, d_loss: 3.04593372, g_loss: 11.79170609\n",
            "Epoch: [96] [  32/  95] time: 1177.2663, d_loss: 3.02133918, g_loss: 10.86150837\n",
            "Epoch: [96] [  33/  95] time: 1177.3696, d_loss: 3.03113103, g_loss: 10.06331539\n",
            "Epoch: [96] [  34/  95] time: 1177.4918, d_loss: 2.85912442, g_loss: 11.53280544\n",
            "Epoch: [96] [  35/  95] time: 1177.6236, d_loss: 3.06153870, g_loss: 12.38671589\n",
            "Epoch: [96] [  36/  95] time: 1177.7531, d_loss: 2.61292171, g_loss: 13.52038193\n",
            "Epoch: [96] [  37/  95] time: 1177.8869, d_loss: 2.89035392, g_loss: 11.59100151\n",
            "Epoch: [96] [  38/  95] time: 1178.0096, d_loss: 3.21354055, g_loss: 9.31361103\n",
            "Epoch: [96] [  39/  95] time: 1178.1311, d_loss: 2.93800116, g_loss: 10.71127415\n",
            "Epoch: [96] [  40/  95] time: 1178.2542, d_loss: 2.65744185, g_loss: 13.49247837\n",
            "Epoch: [96] [  41/  95] time: 1178.3631, d_loss: 2.72829056, g_loss: 11.72071457\n",
            "Epoch: [96] [  42/  95] time: 1178.5119, d_loss: 2.92536139, g_loss: 11.84880352\n",
            "Epoch: [96] [  43/  95] time: 1178.6450, d_loss: 3.03664875, g_loss: 11.33908844\n",
            "Epoch: [96] [  44/  95] time: 1178.7831, d_loss: 3.00935698, g_loss: 10.94281864\n",
            "Epoch: [96] [  45/  95] time: 1178.9137, d_loss: 3.19586706, g_loss: 12.44786739\n",
            "Epoch: [96] [  46/  95] time: 1179.0298, d_loss: 2.74781561, g_loss: 10.90685749\n",
            "Epoch: [96] [  47/  95] time: 1179.1537, d_loss: 3.22553968, g_loss: 10.99984360\n",
            "Epoch: [96] [  48/  95] time: 1179.2628, d_loss: 2.68698263, g_loss: 11.99295712\n",
            "Epoch: [96] [  49/  95] time: 1179.3924, d_loss: 2.83532977, g_loss: 11.80638599\n",
            "Epoch: [96] [  50/  95] time: 1179.5017, d_loss: 2.92843056, g_loss: 12.84396267\n",
            "Epoch: [96] [  51/  95] time: 1179.6314, d_loss: 3.35055995, g_loss: 12.18745613\n",
            "Epoch: [96] [  52/  95] time: 1179.7732, d_loss: 2.87199903, g_loss: 12.59618187\n",
            "Epoch: [96] [  53/  95] time: 1179.8971, d_loss: 2.71243930, g_loss: 12.26689053\n",
            "Epoch: [96] [  54/  95] time: 1180.0310, d_loss: 3.01572776, g_loss: 10.16103840\n",
            "Epoch: [96] [  55/  95] time: 1180.1544, d_loss: 2.82449436, g_loss: 11.30616570\n",
            "Epoch: [96] [  56/  95] time: 1180.2757, d_loss: 2.62990785, g_loss: 11.78247070\n",
            "Epoch: [96] [  57/  95] time: 1180.3854, d_loss: 3.17176890, g_loss: 10.28800583\n",
            "Epoch: [96] [  58/  95] time: 1180.5111, d_loss: 3.21525383, g_loss: 10.46523666\n",
            "Epoch: [96] [  59/  95] time: 1180.6397, d_loss: 3.15151906, g_loss: 11.48009968\n",
            "Epoch: [96] [  60/  95] time: 1180.7730, d_loss: 2.90433264, g_loss: 10.23076153\n",
            "Epoch: [96] [  61/  95] time: 1180.9025, d_loss: 3.03714013, g_loss: 10.94819641\n",
            "Epoch: [96] [  62/  95] time: 1181.0287, d_loss: 3.18117952, g_loss: 12.62395763\n",
            "Epoch: [96] [  63/  95] time: 1181.1415, d_loss: 3.09656191, g_loss: 12.07720566\n",
            "Epoch: [96] [  64/  95] time: 1181.2713, d_loss: 3.07791448, g_loss: 12.77705002\n",
            "Epoch: [96] [  65/  95] time: 1181.3923, d_loss: 2.95912743, g_loss: 10.06015682\n",
            "Epoch: [96] [  66/  95] time: 1181.5197, d_loss: 3.17839241, g_loss: 12.55060768\n",
            "Epoch: [96] [  67/  95] time: 1181.6335, d_loss: 3.22006941, g_loss: 10.12583256\n",
            "Epoch: [96] [  68/  95] time: 1181.7674, d_loss: 3.35267854, g_loss: 11.38695621\n",
            "Epoch: [96] [  69/  95] time: 1181.8909, d_loss: 2.83303976, g_loss: 11.28547668\n",
            "Epoch: [96] [  70/  95] time: 1182.0246, d_loss: 3.39101267, g_loss: 11.69964790\n",
            "Epoch: [96] [  71/  95] time: 1182.1487, d_loss: 3.03130698, g_loss: 12.37873173\n",
            "Epoch: [96] [  72/  95] time: 1182.2693, d_loss: 3.13434958, g_loss: 9.97528362\n",
            "Epoch: [96] [  73/  95] time: 1182.3771, d_loss: 3.09871721, g_loss: 11.26767063\n",
            "Epoch: [96] [  74/  95] time: 1182.5021, d_loss: 2.91650605, g_loss: 11.28527832\n",
            "Epoch: [96] [  75/  95] time: 1182.6328, d_loss: 2.96530437, g_loss: 10.78111744\n",
            "Epoch: [96] [  76/  95] time: 1182.7721, d_loss: 3.15142345, g_loss: 11.63356686\n",
            "Epoch: [96] [  77/  95] time: 1182.9094, d_loss: 3.49929905, g_loss: 10.36595726\n",
            "Epoch: [96] [  78/  95] time: 1183.0345, d_loss: 2.99526262, g_loss: 9.27039909\n",
            "Epoch: [96] [  79/  95] time: 1183.1519, d_loss: 3.16273427, g_loss: 10.45198250\n",
            "Epoch: [96] [  80/  95] time: 1183.2769, d_loss: 3.00780821, g_loss: 12.21775246\n",
            "<class 'numpy.ndarray'>\n",
            "<class 'numpy.ndarray'>\n",
            "<class 'numpy.ndarray'>\n",
            "(120, 100)\n",
            "(120, 24)\n",
            "(120, 175)\n",
            "(120, 100)\n",
            "(120, 24)\n",
            "(120, 175)\n",
            "(120, 100)\n",
            "(120, 24)\n",
            "(120, 175)\n",
            "(120, 100)\n",
            "(120, 24)\n",
            "(120, 175)\n",
            "(120, 100)\n",
            "(120, 24)\n",
            "(120, 175)\n",
            "(120, 100)\n",
            "(120, 24)\n",
            "(120, 175)\n",
            "(120, 100)\n",
            "(120, 24)\n",
            "(120, 175)\n",
            "(120, 100)\n",
            "(120, 24)\n",
            "(120, 175)\n",
            "[Sample] d_loss: 5.34516859, g_loss: 22.53890419\n",
            "Epoch: [96] [  81/  95] time: 1183.6521, d_loss: 2.69814730, g_loss: 11.21410561\n",
            "Epoch: [96] [  82/  95] time: 1183.7697, d_loss: 2.95627093, g_loss: 10.85123730\n",
            "Epoch: [96] [  83/  95] time: 1183.8965, d_loss: 2.82696128, g_loss: 10.55544758\n",
            "Epoch: [96] [  84/  95] time: 1184.0156, d_loss: 2.86851549, g_loss: 11.89658737\n",
            "Epoch: [96] [  85/  95] time: 1184.1469, d_loss: 2.77375317, g_loss: 12.82335472\n",
            "Epoch: [96] [  86/  95] time: 1184.2611, d_loss: 3.22168303, g_loss: 11.44926453\n",
            "Epoch: [96] [  87/  95] time: 1184.3651, d_loss: 2.91096234, g_loss: 10.81844044\n",
            "Epoch: [96] [  88/  95] time: 1184.5048, d_loss: 2.93831444, g_loss: 11.45124722\n",
            "Epoch: [96] [  89/  95] time: 1184.6322, d_loss: 2.64655662, g_loss: 10.81914806\n",
            "Epoch: [96] [  90/  95] time: 1184.7632, d_loss: 2.52556014, g_loss: 11.17928600\n",
            "Epoch: [96] [  91/  95] time: 1184.8983, d_loss: 3.29204035, g_loss: 11.56338501\n",
            "Epoch: [96] [  92/  95] time: 1185.0237, d_loss: 2.80663776, g_loss: 10.40330124\n",
            "Epoch: [96] [  93/  95] time: 1185.1562, d_loss: 2.87262559, g_loss: 11.80746555\n",
            "Epoch: [96] [  94/  95] time: 1185.2780, d_loss: 3.13170028, g_loss: 9.86561584\n",
            "Epoch: [96] time: 1185.2786, d_loss: 0.03296527\n",
            "Epoch: [97] [   0/  95] time: 1185.5485, d_loss: 3.05264950, g_loss: 10.40104389\n",
            "Epoch: [97] [   1/  95] time: 1185.6709, d_loss: 2.50275278, g_loss: 13.76883221\n",
            "Epoch: [97] [   2/  95] time: 1185.7919, d_loss: 2.75450706, g_loss: 13.94433117\n",
            "Epoch: [97] [   3/  95] time: 1185.9120, d_loss: 2.72305846, g_loss: 11.84681606\n",
            "Epoch: [97] [   4/  95] time: 1186.0287, d_loss: 2.82459164, g_loss: 11.28555107\n",
            "Epoch: [97] [   5/  95] time: 1186.1372, d_loss: 3.02339315, g_loss: 11.32909107\n",
            "Epoch: [97] [   6/  95] time: 1186.2527, d_loss: 2.82002521, g_loss: 11.69755268\n",
            "Epoch: [97] [   7/  95] time: 1186.3692, d_loss: 2.60879779, g_loss: 11.46069241\n",
            "Epoch: [97] [   8/  95] time: 1186.4801, d_loss: 2.54232049, g_loss: 12.75106621\n",
            "Epoch: [97] [   9/  95] time: 1186.6050, d_loss: 3.03775954, g_loss: 10.41727257\n",
            "Epoch: [97] [  10/  95] time: 1186.7322, d_loss: 2.88902187, g_loss: 12.06372261\n",
            "Epoch: [97] [  11/  95] time: 1186.8518, d_loss: 2.74664903, g_loss: 11.40765572\n",
            "Epoch: [97] [  12/  95] time: 1186.9856, d_loss: 2.49703908, g_loss: 12.32117844\n",
            "Epoch: [97] [  13/  95] time: 1187.1030, d_loss: 2.93463683, g_loss: 12.07431889\n",
            "Epoch: [97] [  14/  95] time: 1187.2346, d_loss: 2.87845016, g_loss: 12.81506252\n",
            "Epoch: [97] [  15/  95] time: 1187.3542, d_loss: 2.53279471, g_loss: 10.99037933\n",
            "Epoch: [97] [  16/  95] time: 1187.4675, d_loss: 2.68576884, g_loss: 11.41398907\n",
            "Epoch: [97] [  17/  95] time: 1187.5918, d_loss: 3.21689987, g_loss: 10.48712063\n",
            "Epoch: [97] [  18/  95] time: 1187.7161, d_loss: 2.65306282, g_loss: 11.15763569\n",
            "Epoch: [97] [  19/  95] time: 1187.8393, d_loss: 2.86467028, g_loss: 11.87365437\n",
            "Epoch: [97] [  20/  95] time: 1187.9769, d_loss: 2.79089975, g_loss: 11.39359951\n",
            "Epoch: [97] [  21/  95] time: 1188.1010, d_loss: 3.04076672, g_loss: 12.22384548\n",
            "Epoch: [97] [  22/  95] time: 1188.2248, d_loss: 2.99885893, g_loss: 11.53215599\n",
            "Epoch: [97] [  23/  95] time: 1188.3478, d_loss: 3.21345806, g_loss: 10.43882084\n",
            "Epoch: [97] [  24/  95] time: 1188.4722, d_loss: 2.93429732, g_loss: 11.30442238\n",
            "Epoch: [97] [  25/  95] time: 1188.5941, d_loss: 2.60480356, g_loss: 11.86076355\n",
            "Epoch: [97] [  26/  95] time: 1188.7234, d_loss: 2.69322777, g_loss: 11.99920368\n",
            "Epoch: [97] [  27/  95] time: 1188.8491, d_loss: 2.98801827, g_loss: 11.26027489\n",
            "Epoch: [97] [  28/  95] time: 1188.9812, d_loss: 3.02393961, g_loss: 11.92622566\n",
            "Epoch: [97] [  29/  95] time: 1189.1179, d_loss: 2.96317768, g_loss: 11.91382408\n",
            "Epoch: [97] [  30/  95] time: 1189.2345, d_loss: 3.02681589, g_loss: 11.17539692\n",
            "Epoch: [97] [  31/  95] time: 1189.3559, d_loss: 3.43075442, g_loss: 9.02905560\n",
            "Epoch: [97] [  32/  95] time: 1189.4796, d_loss: 3.34832501, g_loss: 13.11161423\n",
            "Epoch: [97] [  33/  95] time: 1189.6064, d_loss: 3.02160358, g_loss: 10.23116016\n",
            "Epoch: [97] [  34/  95] time: 1189.7412, d_loss: 2.78161430, g_loss: 11.24957752\n",
            "Epoch: [97] [  35/  95] time: 1189.8706, d_loss: 3.19200325, g_loss: 10.92017460\n",
            "Epoch: [97] [  36/  95] time: 1189.9985, d_loss: 2.72436237, g_loss: 12.70170784\n",
            "Epoch: [97] [  37/  95] time: 1190.1253, d_loss: 2.83746958, g_loss: 12.72673416\n",
            "Epoch: [97] [  38/  95] time: 1190.2469, d_loss: 2.98389864, g_loss: 10.75669670\n",
            "Epoch: [97] [  39/  95] time: 1190.3520, d_loss: 2.83402872, g_loss: 10.83694935\n",
            "Epoch: [97] [  40/  95] time: 1190.4708, d_loss: 2.68131208, g_loss: 11.19669056\n",
            "Epoch: [97] [  41/  95] time: 1190.5771, d_loss: 2.71967196, g_loss: 12.76734447\n",
            "Epoch: [97] [  42/  95] time: 1190.7105, d_loss: 2.88916445, g_loss: 13.42221546\n",
            "Epoch: [97] [  43/  95] time: 1190.8390, d_loss: 3.07499886, g_loss: 11.11909008\n",
            "Epoch: [97] [  44/  95] time: 1190.9604, d_loss: 2.93033862, g_loss: 11.75664711\n",
            "Epoch: [97] [  45/  95] time: 1191.0833, d_loss: 3.36551499, g_loss: 10.89179134\n",
            "Epoch: [97] [  46/  95] time: 1191.2126, d_loss: 2.73112512, g_loss: 10.74053383\n",
            "Epoch: [97] [  47/  95] time: 1191.3200, d_loss: 3.18363190, g_loss: 12.95855141\n",
            "Epoch: [97] [  48/  95] time: 1191.4316, d_loss: 2.64652729, g_loss: 12.16122246\n",
            "Epoch: [97] [  49/  95] time: 1191.5533, d_loss: 3.25143337, g_loss: 8.70651722\n",
            "Epoch: [97] [  50/  95] time: 1191.6795, d_loss: 3.09693885, g_loss: 11.58039093\n",
            "Epoch: [97] [  51/  95] time: 1191.8070, d_loss: 3.41384530, g_loss: 13.52948856\n",
            "Epoch: [97] [  52/  95] time: 1191.9185, d_loss: 2.93065786, g_loss: 10.31838322\n",
            "Epoch: [97] [  53/  95] time: 1192.0395, d_loss: 2.79143763, g_loss: 11.23639297\n",
            "Epoch: [97] [  54/  95] time: 1192.1867, d_loss: 2.83471584, g_loss: 12.44323540\n",
            "Epoch: [97] [  55/  95] time: 1192.3069, d_loss: 2.72293234, g_loss: 14.06855488\n",
            "Epoch: [97] [  56/  95] time: 1192.4299, d_loss: 2.56362987, g_loss: 12.19536495\n",
            "Epoch: [97] [  57/  95] time: 1192.5588, d_loss: 3.09476018, g_loss: 10.06844425\n",
            "Epoch: [97] [  58/  95] time: 1192.6918, d_loss: 3.16480517, g_loss: 11.03929710\n",
            "Epoch: [97] [  59/  95] time: 1192.8121, d_loss: 3.20743704, g_loss: 11.93686199\n",
            "Epoch: [97] [  60/  95] time: 1192.9293, d_loss: 2.92671108, g_loss: 12.41451550\n",
            "Epoch: [97] [  61/  95] time: 1193.0543, d_loss: 3.00668168, g_loss: 12.97366238\n",
            "Epoch: [97] [  62/  95] time: 1193.1916, d_loss: 3.13363338, g_loss: 13.36528969\n",
            "Epoch: [97] [  63/  95] time: 1193.3138, d_loss: 3.00155592, g_loss: 13.13790035\n",
            "Epoch: [97] [  64/  95] time: 1193.4337, d_loss: 2.99583817, g_loss: 12.39760399\n",
            "Epoch: [97] [  65/  95] time: 1193.5440, d_loss: 2.70677686, g_loss: 12.47971058\n",
            "Epoch: [97] [  66/  95] time: 1193.6646, d_loss: 3.15896058, g_loss: 12.03942490\n",
            "Epoch: [97] [  67/  95] time: 1193.7868, d_loss: 3.03871512, g_loss: 11.85832977\n",
            "Epoch: [97] [  68/  95] time: 1193.9094, d_loss: 3.14148092, g_loss: 12.25044632\n",
            "Epoch: [97] [  69/  95] time: 1194.0289, d_loss: 2.74474788, g_loss: 11.59734631\n",
            "Epoch: [97] [  70/  95] time: 1194.1685, d_loss: 3.36284900, g_loss: 12.61748409\n",
            "Epoch: [97] [  71/  95] time: 1194.2832, d_loss: 3.07241011, g_loss: 12.13282394\n",
            "Epoch: [97] [  72/  95] time: 1194.3987, d_loss: 3.00002003, g_loss: 12.53838634\n",
            "Epoch: [97] [  73/  95] time: 1194.5232, d_loss: 3.10825229, g_loss: 11.58275318\n",
            "Epoch: [97] [  74/  95] time: 1194.6476, d_loss: 3.03354740, g_loss: 11.29765701\n",
            "Epoch: [97] [  75/  95] time: 1194.7556, d_loss: 2.94164586, g_loss: 11.90107632\n",
            "Epoch: [97] [  76/  95] time: 1194.8786, d_loss: 3.23450875, g_loss: 12.50792313\n",
            "Epoch: [97] [  77/  95] time: 1194.9966, d_loss: 3.29372144, g_loss: 13.56785679\n",
            "Epoch: [97] [  78/  95] time: 1195.1205, d_loss: 2.65216589, g_loss: 11.50113964\n",
            "Epoch: [97] [  79/  95] time: 1195.2541, d_loss: 2.92848492, g_loss: 11.53907108\n",
            "Epoch: [97] [  80/  95] time: 1195.3663, d_loss: 2.94064069, g_loss: 11.73259830\n",
            "Epoch: [97] [  81/  95] time: 1195.4842, d_loss: 2.65592384, g_loss: 12.32693863\n",
            "Epoch: [97] [  82/  95] time: 1195.6047, d_loss: 2.75876570, g_loss: 13.80495453\n",
            "Epoch: [97] [  83/  95] time: 1195.7245, d_loss: 2.70451689, g_loss: 12.80149174\n",
            "Epoch: [97] [  84/  95] time: 1195.8370, d_loss: 2.87109089, g_loss: 11.99761963\n",
            "Epoch: [97] [  85/  95] time: 1195.9572, d_loss: 2.81025672, g_loss: 12.19597244\n",
            "<class 'numpy.ndarray'>\n",
            "<class 'numpy.ndarray'>\n",
            "<class 'numpy.ndarray'>\n",
            "(120, 100)\n",
            "(120, 24)\n",
            "(120, 175)\n",
            "(120, 100)\n",
            "(120, 24)\n",
            "(120, 175)\n",
            "(120, 100)\n",
            "(120, 24)\n",
            "(120, 175)\n",
            "(120, 100)\n",
            "(120, 24)\n",
            "(120, 175)\n",
            "(120, 100)\n",
            "(120, 24)\n",
            "(120, 175)\n",
            "(120, 100)\n",
            "(120, 24)\n",
            "(120, 175)\n",
            "(120, 100)\n",
            "(120, 24)\n",
            "(120, 175)\n",
            "(120, 100)\n",
            "(120, 24)\n",
            "(120, 175)\n",
            "[Sample] d_loss: 4.96012878, g_loss: 23.67105484\n",
            "Epoch: [97] [  86/  95] time: 1196.3829, d_loss: 3.28102207, g_loss: 12.16268444\n",
            "Epoch: [97] [  87/  95] time: 1196.5156, d_loss: 3.05586576, g_loss: 10.98382378\n",
            "Epoch: [97] [  88/  95] time: 1196.6335, d_loss: 2.97384858, g_loss: 11.66269588\n",
            "Epoch: [97] [  89/  95] time: 1196.7595, d_loss: 2.71357799, g_loss: 12.01071167\n",
            "Epoch: [97] [  90/  95] time: 1196.8845, d_loss: 2.54858232, g_loss: 12.11158943\n",
            "Epoch: [97] [  91/  95] time: 1197.0096, d_loss: 3.26364541, g_loss: 11.86248875\n",
            "Epoch: [97] [  92/  95] time: 1197.1260, d_loss: 2.76686049, g_loss: 12.30240822\n",
            "Epoch: [97] [  93/  95] time: 1197.2656, d_loss: 2.85638976, g_loss: 11.91139984\n",
            "Epoch: [97] [  94/  95] time: 1197.4046, d_loss: 3.00726271, g_loss: 12.15393734\n",
            "Epoch: [97] time: 1197.4052, d_loss: 0.03165540\n",
            "Epoch: [98] [   0/  95] time: 1197.6887, d_loss: 2.89550543, g_loss: 12.46941853\n",
            "Epoch: [98] [   1/  95] time: 1197.8090, d_loss: 2.61614060, g_loss: 11.82942963\n",
            "Epoch: [98] [   2/  95] time: 1197.9376, d_loss: 2.86116171, g_loss: 11.90100765\n",
            "Epoch: [98] [   3/  95] time: 1198.0581, d_loss: 2.77508998, g_loss: 11.26108646\n",
            "Epoch: [98] [   4/  95] time: 1198.1857, d_loss: 2.85003805, g_loss: 11.28192139\n",
            "Epoch: [98] [   5/  95] time: 1198.3212, d_loss: 3.01179171, g_loss: 12.96142769\n",
            "Epoch: [98] [   6/  95] time: 1198.4398, d_loss: 2.83330512, g_loss: 13.68123913\n",
            "Epoch: [98] [   7/  95] time: 1198.5606, d_loss: 2.80442810, g_loss: 10.86953068\n",
            "Epoch: [98] [   8/  95] time: 1198.6912, d_loss: 2.71428823, g_loss: 10.31787205\n",
            "Epoch: [98] [   9/  95] time: 1198.8229, d_loss: 2.87271833, g_loss: 11.92735481\n",
            "Epoch: [98] [  10/  95] time: 1198.9382, d_loss: 2.90623212, g_loss: 12.65488720\n",
            "Epoch: [98] [  11/  95] time: 1199.0703, d_loss: 2.73213100, g_loss: 13.41048145\n",
            "Epoch: [98] [  12/  95] time: 1199.2006, d_loss: 2.47904515, g_loss: 12.73443604\n",
            "Epoch: [98] [  13/  95] time: 1199.3386, d_loss: 2.95573854, g_loss: 11.71033478\n",
            "Epoch: [98] [  14/  95] time: 1199.4599, d_loss: 2.96560192, g_loss: 11.01094151\n",
            "Epoch: [98] [  15/  95] time: 1199.5759, d_loss: 2.56848931, g_loss: 11.70199585\n",
            "Epoch: [98] [  16/  95] time: 1199.6933, d_loss: 2.68398476, g_loss: 11.04719353\n",
            "Epoch: [98] [  17/  95] time: 1199.8332, d_loss: 3.03214765, g_loss: 13.12297153\n",
            "Epoch: [98] [  18/  95] time: 1199.9610, d_loss: 2.70428371, g_loss: 11.92144966\n",
            "Epoch: [98] [  19/  95] time: 1200.0912, d_loss: 2.84295750, g_loss: 11.98529148\n",
            "Epoch: [98] [  20/  95] time: 1200.2207, d_loss: 2.99082112, g_loss: 9.89420605\n",
            "Epoch: [98] [  21/  95] time: 1200.3465, d_loss: 3.04557037, g_loss: 12.12128162\n",
            "Epoch: [98] [  22/  95] time: 1200.4840, d_loss: 3.03302884, g_loss: 12.40966702\n",
            "Epoch: [98] [  23/  95] time: 1200.6025, d_loss: 3.05944252, g_loss: 12.93973064\n",
            "Epoch: [98] [  24/  95] time: 1200.7343, d_loss: 2.98710394, g_loss: 9.99517727\n",
            "Epoch: [98] [  25/  95] time: 1200.8563, d_loss: 2.73236966, g_loss: 9.61678123\n",
            "Epoch: [98] [  26/  95] time: 1200.9872, d_loss: 2.65034461, g_loss: 12.49173355\n",
            "Epoch: [98] [  27/  95] time: 1201.0928, d_loss: 3.08948326, g_loss: 14.14133453\n",
            "Epoch: [98] [  28/  95] time: 1201.2221, d_loss: 3.06015158, g_loss: 10.69839859\n",
            "Epoch: [98] [  29/  95] time: 1201.3462, d_loss: 3.20340490, g_loss: 9.86680126\n",
            "Epoch: [98] [  30/  95] time: 1201.4709, d_loss: 2.99354482, g_loss: 11.96529579\n",
            "Epoch: [98] [  31/  95] time: 1201.5764, d_loss: 3.06723619, g_loss: 12.65854645\n",
            "Epoch: [98] [  32/  95] time: 1201.7157, d_loss: 2.91797113, g_loss: 12.69875431\n",
            "Epoch: [98] [  33/  95] time: 1201.8483, d_loss: 2.91302347, g_loss: 11.84940815\n",
            "Epoch: [98] [  34/  95] time: 1201.9824, d_loss: 2.85679054, g_loss: 10.74481678\n",
            "Epoch: [98] [  35/  95] time: 1202.1160, d_loss: 3.05552530, g_loss: 12.59261131\n",
            "Epoch: [98] [  36/  95] time: 1202.2407, d_loss: 2.72400260, g_loss: 11.21231747\n",
            "Epoch: [98] [  37/  95] time: 1202.3611, d_loss: 2.89972878, g_loss: 12.48466206\n",
            "Epoch: [98] [  38/  95] time: 1202.4970, d_loss: 2.92519379, g_loss: 11.78367329\n",
            "Epoch: [98] [  39/  95] time: 1202.6139, d_loss: 2.78468418, g_loss: 10.98167515\n",
            "Epoch: [98] [  40/  95] time: 1202.7290, d_loss: 2.77883434, g_loss: 10.02182102\n",
            "Epoch: [98] [  41/  95] time: 1202.8540, d_loss: 2.80456018, g_loss: 11.90701294\n",
            "Epoch: [98] [  42/  95] time: 1202.9750, d_loss: 2.86176753, g_loss: 12.08658791\n",
            "Epoch: [98] [  43/  95] time: 1203.0784, d_loss: 2.98750424, g_loss: 13.90095329\n",
            "Epoch: [98] [  44/  95] time: 1203.1890, d_loss: 2.97563815, g_loss: 12.62994671\n",
            "Epoch: [98] [  45/  95] time: 1203.3151, d_loss: 3.11246061, g_loss: 13.45251846\n",
            "Epoch: [98] [  46/  95] time: 1203.4401, d_loss: 2.63791919, g_loss: 12.55020142\n",
            "Epoch: [98] [  47/  95] time: 1203.5587, d_loss: 3.13613367, g_loss: 13.67842770\n",
            "Epoch: [98] [  48/  95] time: 1203.6857, d_loss: 2.70798302, g_loss: 12.36109734\n",
            "Epoch: [98] [  49/  95] time: 1203.8029, d_loss: 2.83921576, g_loss: 13.61288834\n",
            "Epoch: [98] [  50/  95] time: 1203.9192, d_loss: 2.98761892, g_loss: 12.15203953\n",
            "Epoch: [98] [  51/  95] time: 1204.0513, d_loss: 3.51617312, g_loss: 11.39584827\n",
            "Epoch: [98] [  52/  95] time: 1204.1684, d_loss: 2.79502869, g_loss: 10.49331856\n",
            "Epoch: [98] [  53/  95] time: 1204.2818, d_loss: 2.74243665, g_loss: 11.31590271\n",
            "Epoch: [98] [  54/  95] time: 1204.4199, d_loss: 2.86040258, g_loss: 12.54066277\n",
            "Epoch: [98] [  55/  95] time: 1204.5632, d_loss: 2.71226239, g_loss: 11.96908760\n",
            "Epoch: [98] [  56/  95] time: 1204.6874, d_loss: 2.62328458, g_loss: 11.63407230\n",
            "Epoch: [98] [  57/  95] time: 1204.8203, d_loss: 2.95600295, g_loss: 12.85471249\n",
            "Epoch: [98] [  58/  95] time: 1204.9627, d_loss: 3.10148382, g_loss: 12.95325661\n",
            "Epoch: [98] [  59/  95] time: 1205.0718, d_loss: 3.32536840, g_loss: 10.30497932\n",
            "Epoch: [98] [  60/  95] time: 1205.1936, d_loss: 2.97466159, g_loss: 9.80419064\n",
            "Epoch: [98] [  61/  95] time: 1205.3066, d_loss: 3.00164819, g_loss: 11.05867481\n",
            "Epoch: [98] [  62/  95] time: 1205.4301, d_loss: 3.23819613, g_loss: 11.94555569\n",
            "Epoch: [98] [  63/  95] time: 1205.5602, d_loss: 3.01490331, g_loss: 12.45617771\n",
            "Epoch: [98] [  64/  95] time: 1205.6832, d_loss: 3.00064826, g_loss: 13.14086151\n",
            "Epoch: [98] [  65/  95] time: 1205.8040, d_loss: 2.72639084, g_loss: 13.64230824\n",
            "Epoch: [98] [  66/  95] time: 1205.9132, d_loss: 3.14684868, g_loss: 12.05259895\n",
            "Epoch: [98] [  67/  95] time: 1206.0383, d_loss: 3.19976544, g_loss: 10.77669716\n",
            "Epoch: [98] [  68/  95] time: 1206.1597, d_loss: 3.20096064, g_loss: 12.11111832\n",
            "Epoch: [98] [  69/  95] time: 1206.2930, d_loss: 2.80182862, g_loss: 13.25181580\n",
            "Epoch: [98] [  70/  95] time: 1206.4095, d_loss: 3.43533349, g_loss: 10.97207165\n",
            "Epoch: [98] [  71/  95] time: 1206.5126, d_loss: 3.16339421, g_loss: 10.91451263\n",
            "Epoch: [98] [  72/  95] time: 1206.6277, d_loss: 3.14632583, g_loss: 10.76378250\n",
            "Epoch: [98] [  73/  95] time: 1206.7579, d_loss: 3.06728268, g_loss: 12.40359592\n",
            "Epoch: [98] [  74/  95] time: 1206.8801, d_loss: 2.97175980, g_loss: 12.98083687\n",
            "Epoch: [98] [  75/  95] time: 1206.9874, d_loss: 2.77491093, g_loss: 11.79029465\n",
            "Epoch: [98] [  76/  95] time: 1207.1166, d_loss: 3.21723342, g_loss: 11.17937660\n",
            "Epoch: [98] [  77/  95] time: 1207.2403, d_loss: 3.48184061, g_loss: 12.23146534\n",
            "Epoch: [98] [  78/  95] time: 1207.3652, d_loss: 2.68626142, g_loss: 11.00733757\n",
            "Epoch: [98] [  79/  95] time: 1207.4852, d_loss: 3.31307077, g_loss: 9.09336567\n",
            "Epoch: [98] [  80/  95] time: 1207.6262, d_loss: 3.03721046, g_loss: 12.06682587\n",
            "Epoch: [98] [  81/  95] time: 1207.7526, d_loss: 2.70861864, g_loss: 14.71279907\n",
            "Epoch: [98] [  82/  95] time: 1207.8781, d_loss: 3.00179386, g_loss: 10.89277744\n",
            "Epoch: [98] [  83/  95] time: 1207.9941, d_loss: 2.83339357, g_loss: 10.16927052\n",
            "Epoch: [98] [  84/  95] time: 1208.1115, d_loss: 2.77440286, g_loss: 11.09400558\n",
            "Epoch: [98] [  85/  95] time: 1208.2429, d_loss: 2.86369085, g_loss: 12.19617844\n",
            "Epoch: [98] [  86/  95] time: 1208.3698, d_loss: 3.26677656, g_loss: 11.55969429\n",
            "Epoch: [98] [  87/  95] time: 1208.4940, d_loss: 2.96485162, g_loss: 12.41989040\n",
            "Epoch: [98] [  88/  95] time: 1208.6331, d_loss: 2.96635628, g_loss: 11.36352348\n",
            "Epoch: [98] [  89/  95] time: 1208.7522, d_loss: 2.70497346, g_loss: 12.88615131\n",
            "Epoch: [98] [  90/  95] time: 1208.8753, d_loss: 2.50082159, g_loss: 11.39508629\n",
            "<class 'numpy.ndarray'>\n",
            "<class 'numpy.ndarray'>\n",
            "<class 'numpy.ndarray'>\n",
            "(120, 100)\n",
            "(120, 24)\n",
            "(120, 175)\n",
            "(120, 100)\n",
            "(120, 24)\n",
            "(120, 175)\n",
            "(120, 100)\n",
            "(120, 24)\n",
            "(120, 175)\n",
            "(120, 100)\n",
            "(120, 24)\n",
            "(120, 175)\n",
            "(120, 100)\n",
            "(120, 24)\n",
            "(120, 175)\n",
            "(120, 100)\n",
            "(120, 24)\n",
            "(120, 175)\n",
            "(120, 100)\n",
            "(120, 24)\n",
            "(120, 175)\n",
            "(120, 100)\n",
            "(120, 24)\n",
            "(120, 175)\n",
            "[Sample] d_loss: 5.08296919, g_loss: 23.54806709\n",
            "Epoch: [98] [  91/  95] time: 1209.2525, d_loss: 3.43902993, g_loss: 10.29509544\n",
            "Epoch: [98] [  92/  95] time: 1209.3831, d_loss: 2.82037759, g_loss: 10.32966900\n",
            "Epoch: [98] [  93/  95] time: 1209.5092, d_loss: 2.80793333, g_loss: 11.91333485\n",
            "Epoch: [98] [  94/  95] time: 1209.6419, d_loss: 2.94707537, g_loss: 11.58148384\n",
            "Epoch: [98] time: 1209.6422, d_loss: 0.03102185\n",
            "Epoch: [99] [   0/  95] time: 1209.9298, d_loss: 2.92202044, g_loss: 12.35649300\n",
            "Epoch: [99] [   1/  95] time: 1210.0642, d_loss: 2.65494776, g_loss: 10.88068676\n",
            "Epoch: [99] [   2/  95] time: 1210.1949, d_loss: 2.88588238, g_loss: 10.39359665\n",
            "Epoch: [99] [   3/  95] time: 1210.3215, d_loss: 2.75484419, g_loss: 12.13143635\n",
            "Epoch: [99] [   4/  95] time: 1210.4504, d_loss: 2.81970739, g_loss: 13.09444141\n",
            "Epoch: [99] [   5/  95] time: 1210.5626, d_loss: 3.17658186, g_loss: 10.56885719\n",
            "Epoch: [99] [   6/  95] time: 1210.6947, d_loss: 2.74899721, g_loss: 11.76404953\n",
            "Epoch: [99] [   7/  95] time: 1210.8103, d_loss: 2.78450298, g_loss: 12.04320526\n",
            "Epoch: [99] [   8/  95] time: 1210.9344, d_loss: 2.64935112, g_loss: 11.43659496\n",
            "Epoch: [99] [   9/  95] time: 1211.0476, d_loss: 2.99078989, g_loss: 10.83735847\n",
            "Epoch: [99] [  10/  95] time: 1211.1764, d_loss: 2.77597666, g_loss: 11.34585571\n",
            "Epoch: [99] [  11/  95] time: 1211.2903, d_loss: 2.97841477, g_loss: 9.30908394\n",
            "Epoch: [99] [  12/  95] time: 1211.4060, d_loss: 2.65055299, g_loss: 10.54885769\n",
            "Epoch: [99] [  13/  95] time: 1211.5139, d_loss: 2.98219085, g_loss: 11.35301018\n",
            "Epoch: [99] [  14/  95] time: 1211.6272, d_loss: 3.05521107, g_loss: 11.40825176\n",
            "Epoch: [99] [  15/  95] time: 1211.7541, d_loss: 2.46723056, g_loss: 12.92153454\n",
            "Epoch: [99] [  16/  95] time: 1211.8747, d_loss: 2.71212840, g_loss: 11.99657631\n",
            "Epoch: [99] [  17/  95] time: 1211.9893, d_loss: 3.07175207, g_loss: 12.80061626\n",
            "Epoch: [99] [  18/  95] time: 1212.1210, d_loss: 2.87197852, g_loss: 9.79198456\n",
            "Epoch: [99] [  19/  95] time: 1212.2413, d_loss: 3.04357767, g_loss: 9.50741196\n",
            "Epoch: [99] [  20/  95] time: 1212.3748, d_loss: 2.97748184, g_loss: 12.11168194\n",
            "Epoch: [99] [  21/  95] time: 1212.4798, d_loss: 3.10702801, g_loss: 11.63490868\n",
            "Epoch: [99] [  22/  95] time: 1212.6127, d_loss: 3.00806165, g_loss: 12.26071739\n",
            "Epoch: [99] [  23/  95] time: 1212.7415, d_loss: 3.14522696, g_loss: 12.14415550\n",
            "Epoch: [99] [  24/  95] time: 1212.8683, d_loss: 2.82034898, g_loss: 11.97166443\n",
            "Epoch: [99] [  25/  95] time: 1213.0043, d_loss: 2.64638638, g_loss: 12.33200645\n",
            "Epoch: [99] [  26/  95] time: 1213.1390, d_loss: 2.64790487, g_loss: 11.26275730\n",
            "Epoch: [99] [  27/  95] time: 1213.2502, d_loss: 3.08840632, g_loss: 10.89579773\n",
            "Epoch: [99] [  28/  95] time: 1213.3722, d_loss: 3.07117581, g_loss: 11.63310051\n",
            "Epoch: [99] [  29/  95] time: 1213.5034, d_loss: 3.06190586, g_loss: 10.22888947\n",
            "Epoch: [99] [  30/  95] time: 1213.6217, d_loss: 3.08622694, g_loss: 10.95264912\n",
            "Epoch: [99] [  31/  95] time: 1213.7598, d_loss: 3.28031969, g_loss: 11.14489746\n",
            "Epoch: [99] [  32/  95] time: 1213.8829, d_loss: 3.24239826, g_loss: 11.77422619\n",
            "Epoch: [99] [  33/  95] time: 1214.0038, d_loss: 2.98527932, g_loss: 11.52188015\n",
            "Epoch: [99] [  34/  95] time: 1214.1147, d_loss: 2.99469161, g_loss: 10.54067612\n",
            "Epoch: [99] [  35/  95] time: 1214.2270, d_loss: 3.04186773, g_loss: 11.61363792\n",
            "Epoch: [99] [  36/  95] time: 1214.3393, d_loss: 2.76912069, g_loss: 11.26526070\n",
            "Epoch: [99] [  37/  95] time: 1214.4452, d_loss: 2.88123775, g_loss: 12.04890633\n",
            "Epoch: [99] [  38/  95] time: 1214.5679, d_loss: 3.04440737, g_loss: 11.27607250\n",
            "Epoch: [99] [  39/  95] time: 1214.6845, d_loss: 2.86646032, g_loss: 11.20054531\n",
            "Epoch: [99] [  40/  95] time: 1214.8206, d_loss: 2.75245881, g_loss: 11.47938824\n",
            "Epoch: [99] [  41/  95] time: 1214.9299, d_loss: 2.73342276, g_loss: 12.42791939\n",
            "Epoch: [99] [  42/  95] time: 1215.0482, d_loss: 2.91731930, g_loss: 11.17674923\n",
            "Epoch: [99] [  43/  95] time: 1215.1670, d_loss: 3.00036526, g_loss: 11.52091789\n",
            "Epoch: [99] [  44/  95] time: 1215.2989, d_loss: 2.90892124, g_loss: 12.19008446\n",
            "Epoch: [99] [  45/  95] time: 1215.4261, d_loss: 3.33772278, g_loss: 12.24477196\n",
            "Epoch: [99] [  46/  95] time: 1215.5526, d_loss: 2.68048835, g_loss: 11.37036037\n",
            "Epoch: [99] [  47/  95] time: 1215.6820, d_loss: 3.23169947, g_loss: 11.34826946\n",
            "Epoch: [99] [  48/  95] time: 1215.8026, d_loss: 2.73440456, g_loss: 11.47647381\n",
            "Epoch: [99] [  49/  95] time: 1215.9266, d_loss: 2.89044762, g_loss: 11.28221130\n",
            "Epoch: [99] [  50/  95] time: 1216.0549, d_loss: 3.06438732, g_loss: 12.55440235\n",
            "Epoch: [99] [  51/  95] time: 1216.1814, d_loss: 3.37398696, g_loss: 12.31747150\n",
            "Epoch: [99] [  52/  95] time: 1216.2960, d_loss: 2.81639051, g_loss: 11.90279770\n",
            "Epoch: [99] [  53/  95] time: 1216.4158, d_loss: 2.72849202, g_loss: 11.20572758\n",
            "Epoch: [99] [  54/  95] time: 1216.5376, d_loss: 2.91238546, g_loss: 11.62504387\n",
            "Epoch: [99] [  55/  95] time: 1216.6502, d_loss: 2.78642249, g_loss: 10.67652225\n",
            "Epoch: [99] [  56/  95] time: 1216.7694, d_loss: 2.68544674, g_loss: 9.57132530\n",
            "Epoch: [99] [  57/  95] time: 1216.8951, d_loss: 3.01732254, g_loss: 11.43214989\n",
            "Epoch: [99] [  58/  95] time: 1217.0172, d_loss: 3.09620762, g_loss: 12.27477264\n",
            "Epoch: [99] [  59/  95] time: 1217.1241, d_loss: 3.12162757, g_loss: 12.25201988\n",
            "Epoch: [99] [  60/  95] time: 1217.2336, d_loss: 3.07623506, g_loss: 10.62275887\n",
            "Epoch: [99] [  61/  95] time: 1217.3562, d_loss: 2.98663855, g_loss: 10.32292557\n",
            "Epoch: [99] [  62/  95] time: 1217.4741, d_loss: 3.20065308, g_loss: 12.08747768\n",
            "Epoch: [99] [  63/  95] time: 1217.5929, d_loss: 3.07675838, g_loss: 11.42225647\n",
            "Epoch: [99] [  64/  95] time: 1217.7185, d_loss: 3.01300716, g_loss: 13.47316837\n",
            "Epoch: [99] [  65/  95] time: 1217.8456, d_loss: 2.90757632, g_loss: 11.15278244\n",
            "Epoch: [99] [  66/  95] time: 1217.9627, d_loss: 3.22723293, g_loss: 11.81750870\n",
            "Epoch: [99] [  67/  95] time: 1218.0787, d_loss: 3.19281220, g_loss: 13.04508114\n",
            "Epoch: [99] [  68/  95] time: 1218.2095, d_loss: 3.28264618, g_loss: 11.87957764\n",
            "Epoch: [99] [  69/  95] time: 1218.3414, d_loss: 2.87586808, g_loss: 11.79009628\n",
            "Epoch: [99] [  70/  95] time: 1218.4619, d_loss: 3.49836969, g_loss: 11.66521263\n",
            "Epoch: [99] [  71/  95] time: 1218.5907, d_loss: 3.18025899, g_loss: 11.97035313\n",
            "Epoch: [99] [  72/  95] time: 1218.7130, d_loss: 3.11995029, g_loss: 11.46838188\n",
            "Epoch: [99] [  73/  95] time: 1218.8474, d_loss: 3.14595461, g_loss: 11.01505470\n",
            "Epoch: [99] [  74/  95] time: 1218.9761, d_loss: 3.04089189, g_loss: 11.63081551\n",
            "Epoch: [99] [  75/  95] time: 1219.0824, d_loss: 2.80699968, g_loss: 11.91382599\n",
            "Epoch: [99] [  76/  95] time: 1219.2135, d_loss: 3.10737872, g_loss: 12.17140388\n",
            "Epoch: [99] [  77/  95] time: 1219.3220, d_loss: 3.49652386, g_loss: 11.41557980\n",
            "Epoch: [99] [  78/  95] time: 1219.4426, d_loss: 2.69580388, g_loss: 12.07514381\n",
            "Epoch: [99] [  79/  95] time: 1219.5659, d_loss: 3.02686405, g_loss: 12.82173061\n",
            "Epoch: [99] [  80/  95] time: 1219.6835, d_loss: 3.00351357, g_loss: 12.80951977\n",
            "Epoch: [99] [  81/  95] time: 1219.8040, d_loss: 2.91500139, g_loss: 10.01555157\n",
            "Epoch: [99] [  82/  95] time: 1219.9273, d_loss: 2.97093511, g_loss: 10.34669113\n",
            "Epoch: [99] [  83/  95] time: 1220.0608, d_loss: 2.82118273, g_loss: 12.08359051\n",
            "Epoch: [99] [  84/  95] time: 1220.2001, d_loss: 2.77199817, g_loss: 12.08797932\n",
            "Epoch: [99] [  85/  95] time: 1220.3395, d_loss: 3.04661369, g_loss: 9.59389496\n",
            "Epoch: [99] [  86/  95] time: 1220.4704, d_loss: 3.22910142, g_loss: 11.75659370\n",
            "Epoch: [99] [  87/  95] time: 1220.5796, d_loss: 2.93325758, g_loss: 12.97844505\n",
            "Epoch: [99] [  88/  95] time: 1220.7154, d_loss: 3.02368450, g_loss: 10.59997749\n",
            "Epoch: [99] [  89/  95] time: 1220.8389, d_loss: 2.94076800, g_loss: 9.94481468\n",
            "Epoch: [99] [  90/  95] time: 1220.9797, d_loss: 2.54838014, g_loss: 11.94797707\n",
            "Epoch: [99] [  91/  95] time: 1221.1047, d_loss: 3.38879919, g_loss: 11.45647430\n",
            "Epoch: [99] [  92/  95] time: 1221.2190, d_loss: 2.82316327, g_loss: 12.99291039\n",
            "Epoch: [99] [  93/  95] time: 1221.3286, d_loss: 3.04378605, g_loss: 10.57120228\n",
            "Epoch: [99] [  94/  95] time: 1221.4502, d_loss: 3.15487361, g_loss: 9.90630913\n",
            "Epoch: [99] time: 1221.4507, d_loss: 0.03320920\n"
          ],
          "name": "stdout"
        },
        {
          "output_type": "error",
          "ename": "SystemExit",
          "evalue": "ignored",
          "traceback": [
            "An exception has occurred, use %tb to see the full traceback.\n",
            "\u001b[0;31mSystemExit\u001b[0m\n"
          ]
        },
        {
          "output_type": "stream",
          "text": [
            "/usr/local/lib/python3.6/dist-packages/IPython/core/interactiveshell.py:2890: UserWarning: To exit: use 'exit', 'quit', or Ctrl-D.\n",
            "  warn(\"To exit: use 'exit', 'quit', or Ctrl-D.\", stacklevel=1)\n"
          ],
          "name": "stderr"
        }
      ]
    },
    {
      "metadata": {
        "id": "Cw-iBftZqrAD",
        "colab_type": "code",
        "colab": {}
      },
      "cell_type": "code",
      "source": [
        "# !tensorboard --logdir /logs # Si quieres ver el tensorboard"
      ],
      "execution_count": 0,
      "outputs": []
    },
    {
      "metadata": {
        "id": "xnTdO0BLqrAG",
        "colab_type": "code",
        "outputId": "e5cb4b22-4007-4274-9e51-f9fb0c627d26",
        "colab": {
          "base_uri": "https://localhost:8080/",
          "height": 179
        }
      },
      "cell_type": "code",
      "source": [
        "!pip install music21 #instalar antes"
      ],
      "execution_count": 0,
      "outputs": [
        {
          "output_type": "stream",
          "text": [
            "Collecting music21\n",
            "\u001b[?25l  Downloading https://files.pythonhosted.org/packages/81/de/5af13438e28b80b41e1db0d6f082204fadccd3b1d90c1951568d92df7c68/music21-5.5.0.tar.gz (18.5MB)\n",
            "\u001b[K    100% |████████████████████████████████| 18.5MB 2.0MB/s \n",
            "\u001b[?25hBuilding wheels for collected packages: music21\n",
            "  Running setup.py bdist_wheel for music21 ... \u001b[?25l-\b \b\\\b \b|\b \b/\b \b-\b \b\\\b \b|\b \b/\b \b-\b \b\\\b \b|\b \b/\b \b-\b \b\\\b \b|\b \b/\b \b-\b \b\\\b \b|\b \b/\b \b-\b \b\\\b \b|\b \b/\b \b-\b \b\\\b \b|\b \b/\b \b-\b \b\\\b \b|\b \b/\b \b-\b \b\\\b \b|\b \b/\b \b-\b \b\\\b \b|\b \b/\b \b-\b \b\\\b \b|\b \b/\b \b-\b \b\\\b \b|\b \b/\b \b-\b \b\\\b \b|\b \b/\b \b-\b \b\\\b \b|\b \b/\b \b-\b \b\\\b \b|\b \b/\b \b-\b \b\\\b \b|\b \b/\b \b-\b \b\\\b \b|\b \b/\b \b-\b \b\\\b \b|\b \b/\b \b-\b \b\\\b \b|\b \b/\b \b-\b \b\\\b \b|\b \b/\b \b-\b \b\\\b \b|\b \bdone\n",
            "\u001b[?25h  Stored in directory: /root/.cache/pip/wheels/7b/21/95/d396f231b8095f30aba2a1fbffbc2411fb22eb4e611ddbed57\n",
            "Successfully built music21\n",
            "Installing collected packages: music21\n",
            "Successfully installed music21-5.5.0\n"
          ],
          "name": "stdout"
        }
      ]
    },
    {
      "metadata": {
        "id": "YSPJvSKkqrAK",
        "colab_type": "code",
        "outputId": "e7f9e77b-03da-4c70-b33a-072c18ceee0d",
        "colab": {
          "base_uri": "https://localhost:8080/",
          "height": 35
        }
      },
      "cell_type": "code",
      "source": [
        "folder_png ='samples/'\n",
        "sample_save='mid_samples/'\n",
        "!mkdir ./mid_samples\n",
        "import os\n",
        "import numpy as np\n",
        "import matplotlib.pyplot as plt\n",
        "import music21"
      ],
      "execution_count": 0,
      "outputs": [
        {
          "output_type": "stream",
          "text": [
            "mkdir: cannot create directory ‘./mid_samples’: File exists\n"
          ],
          "name": "stdout"
        }
      ]
    },
    {
      "metadata": {
        "id": "GiIh4l_8qrAN",
        "colab_type": "code",
        "colab": {}
      },
      "cell_type": "code",
      "source": [
        "def generate_midis(png_dir):\n",
        "    for f in os.listdir(png_dir):    \n",
        "        image_plt = plt.imread(os.path.join(png_dir,f))\n",
        "        image_arr = np.array(image_plt)\n",
        "        r_song = []\n",
        "        for i in range(0,1024,128):\n",
        "            print(i)\n",
        "            r_measure = []\n",
        "            for j in range(0,16):\n",
        "                measure = image_arr[j][i:i+128]\n",
        "                #print(len(measure))\n",
        "                r_measure.append([0 if x[0]<0.65 else x[0] for x in measure])\n",
        "            r_song.append(r_measure)\n",
        "        new_test_stream = music21.stream.Stream()\n",
        "        sup = r_song\n",
        "        new_track = music21.stream.Part()\n",
        "        for j in range(0,len(sup)):\n",
        "            measure = sup[j]\n",
        "            for k in range(0,len(measure)):\n",
        "                if sum(measure[k]) == 0 :\n",
        "                    new_track.append(music21.note.Rest(type='16th'))\n",
        "                else:\n",
        "                    note_value = np.argmax(measure[k])\n",
        "                    new_track.append(music21.note.Note(note_value, type='16th'))\n",
        "        new_test_stream.append(new_track)\n",
        "        new_test_stream.write('midi',sample_save+f.split('.png')[0]+'.mid')\n",
        "        new_test_stream.show('midi') "
      ],
      "execution_count": 0,
      "outputs": []
    },
    {
      "metadata": {
        "id": "1G0Z62nJQ22-",
        "colab_type": "code",
        "colab": {}
      },
      "cell_type": "code",
      "source": [
        "!rm -r mid_samples/\n",
        "!mkdir mid_samples/"
      ],
      "execution_count": 0,
      "outputs": []
    },
    {
      "metadata": {
        "scrolled": true,
        "id": "z3KzBS-5qrAS",
        "colab_type": "code",
        "colab": {}
      },
      "cell_type": "code",
      "source": [
        "!rm -r mid_samples/\n",
        "!mkdir mid_samples/\n",
        "generate_midis(folder_png)"
      ],
      "execution_count": 0,
      "outputs": []
    },
    {
      "metadata": {
        "id": "pJ2pSPJQqrAU",
        "colab_type": "code",
        "colab": {}
      },
      "cell_type": "code",
      "source": [
        "from sklearn.utils import shuffle\n",
        "shuffle([1,2,3],[3,2,1],[3,3,3],random_state=0)"
      ],
      "execution_count": 0,
      "outputs": []
    },
    {
      "metadata": {
        "id": "g3cWSfy4ugJM",
        "colab_type": "code",
        "colab": {}
      },
      "cell_type": "code",
      "source": [
        "from google.colab import files\n",
        "for f in os.listdir('mid_samples/'):\n",
        "  files.download('mid_samples/'+f) "
      ],
      "execution_count": 0,
      "outputs": []
    },
    {
      "metadata": {
        "id": "P272_bmMLVEW",
        "colab_type": "code",
        "colab": {}
      },
      "cell_type": "code",
      "source": [
        "files.download('pca_kmeans_24.pickle')"
      ],
      "execution_count": 0,
      "outputs": []
    },
    {
      "metadata": {
        "id": "30lt0vCJVt30",
        "colab_type": "code",
        "colab": {}
      },
      "cell_type": "code",
      "source": [
        "files.download('pca_175.pickle')"
      ],
      "execution_count": 0,
      "outputs": []
    },
    {
      "metadata": {
        "id": "AT_akb8-V2Cb",
        "colab_type": "code",
        "colab": {}
      },
      "cell_type": "code",
      "source": [
        ""
      ],
      "execution_count": 0,
      "outputs": []
    }
  ]
}