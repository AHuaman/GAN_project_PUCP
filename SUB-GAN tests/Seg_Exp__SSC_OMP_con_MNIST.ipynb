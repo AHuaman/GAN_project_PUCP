{
  "nbformat": 4,
  "nbformat_minor": 0,
  "metadata": {
    "colab": {
      "name": "Seg Exp_ SSC_OMP con MNIST.ipynb",
      "version": "0.3.2",
      "provenance": [],
      "collapsed_sections": []
    },
    "kernelspec": {
      "name": "python3",
      "display_name": "Python 3"
    },
    "accelerator": "GPU"
  },
  "cells": [
    {
      "metadata": {
        "id": "YsBnY5WsKeQ4",
        "colab_type": "code",
        "outputId": "29ca711e-c3e4-4d3f-faa2-096c7c91d712",
        "colab": {
          "base_uri": "https://localhost:8080/",
          "height": 52
        }
      },
      "cell_type": "code",
      "source": [
        "from keras.datasets import mnist\n",
        "import numpy as np\n",
        "import pandas as pd\n",
        "import sys\n",
        "import copy\n",
        "import math\n",
        "from sklearn.preprocessing import normalize\n",
        "\n",
        "(x_train, y_train), (x_test, y_test) = mnist.load_data()\n",
        "x_train = x_train.reshape([60000,28*28])\n",
        "x_train.shape"
      ],
      "execution_count": 1,
      "outputs": [
        {
          "output_type": "stream",
          "text": [
            "Using TensorFlow backend.\n"
          ],
          "name": "stderr"
        },
        {
          "output_type": "execute_result",
          "data": {
            "text/plain": [
              "(60000, 784)"
            ]
          },
          "metadata": {
            "tags": []
          },
          "execution_count": 1
        }
      ]
    },
    {
      "metadata": {
        "id": "FKQ2hqb-KeRD",
        "colab_type": "code",
        "outputId": "06af919b-774e-4b7c-9385-201517f259c8",
        "colab": {
          "base_uri": "https://localhost:8080/",
          "height": 34
        }
      },
      "cell_type": "code",
      "source": [
        "\n",
        "n_sample=300\n",
        "X=x_train[:n_sample,:].T #traspuesta, donde las observaciones son columnas\n",
        "X.shape"
      ],
      "execution_count": 2,
      "outputs": [
        {
          "output_type": "execute_result",
          "data": {
            "text/plain": [
              "(784, 300)"
            ]
          },
          "metadata": {
            "tags": []
          },
          "execution_count": 2
        }
      ]
    },
    {
      "metadata": {
        "id": "vaRquwwuxgtu",
        "colab_type": "code",
        "outputId": "52633216-c13d-4181-8b47-38bbe87071ab",
        "colab": {
          "base_uri": "https://localhost:8080/",
          "height": 34
        }
      },
      "cell_type": "code",
      "source": [
        "# Normalizamos los datos:\n",
        "X = normalize(X - np.outer(np.mean(X, axis=1), np.ones(X.shape[1])), axis=0)\n",
        "X.shape"
      ],
      "execution_count": 3,
      "outputs": [
        {
          "output_type": "execute_result",
          "data": {
            "text/plain": [
              "(784, 300)"
            ]
          },
          "metadata": {
            "tags": []
          },
          "execution_count": 3
        }
      ]
    },
    {
      "metadata": {
        "id": "HywIJORXZEiN",
        "colab_type": "text"
      },
      "cell_type": "markdown",
      "source": [
        "A partir de las celdas de abajo se definirá una variación de la función SpectralClustering de sklearn, para logar rescatar el *manifold* que contiene el ebedding inicial con *eigenvectors*"
      ]
    },
    {
      "metadata": {
        "id": "giOejKcvQtoL",
        "colab_type": "code",
        "colab": {}
      },
      "cell_type": "code",
      "source": [
        "import numpy as np\n",
        "import sys\n",
        "import copy\n",
        "\n",
        "class MatchingPursuit:\n",
        "\t\"\"\"Simple implementation of the Matching Pursuit (MP) algorithm\n",
        "\t\n",
        "  FUENTE: https://github.com/mitscha/ssc_mps_py/blob/master/matchingpursuit.py\n",
        "  \n",
        "\tParameters\n",
        "\t----------\n",
        "\t\n",
        "\tsmax: int\n",
        "\t\tMaximum number of MP iterations\n",
        "\tpmax: int, optional\n",
        "\t\tMaximum sparsity level of x (default: pmax = smax)\n",
        "\ttol: float, optional\n",
        "\t\tThreshold on approximation quality ||Ax - y|| (default: 0.0)\n",
        "\t\t\n",
        "\tAttributes\n",
        "\t----------\n",
        "\t\n",
        "\tcoef_: array, shape (n_samples)\n",
        "\t\tcoefficient vector (solution)\n",
        "\t\n",
        "\t\n",
        "\tNote: Stops after smax iterations, or when approximation quality specified by tol\n",
        "\t      is attained, or when the sparsity level of the coefficient vector is pmax\n",
        "\t\n",
        "\t\"\"\"\n",
        "\t\n",
        "\tdef __init__(self,smax,pmax=None,tol=None):\n",
        "\t\tself._smax = smax if smax != None else sys.maxsize\n",
        "\t\tself._pmax = pmax if pmax != None else smax\n",
        "\t\tself._tol = 0.0 if tol == None else tol\n",
        "\t\tself.coef_ = None\n",
        "\t\n",
        "\tdef fit(self,A,y):\n",
        "\t\t\"\"\"\n",
        "\t\tFinds a sparse (approximate) solution x to Ax = y\n",
        "\t\t\n",
        "\t\tParameters\n",
        "\t\t----------\n",
        "\t\t\n",
        "\t\tX: dictionary, array, shape (n_features, n_samples)\n",
        "\t\ty: target, array, shape (n_features)\n",
        "\t\t\n",
        "\t\t\"\"\"\n",
        "\t\t\n",
        "\t\tassert(len(A.shape) == 2)\n",
        "\t\tassert(len(y.shape) == 1 and A.shape[0] == y.shape[0])\n",
        "\t\t\n",
        "\t\tx = np.zeros(A.shape[1])\n",
        "\t\tr = copy.deepcopy(y)\n",
        "\t\tnit = 0\n",
        "\t\twhile np.linalg.norm(r) > self._tol \\\n",
        "\t\t\tand nit < self._smax \\\n",
        "\t\t\tand np.sum(np.abs(x) > 0) < self._pmax:\n",
        "\t\t\t\n",
        "\t\t\tidx = np.argmax(np.dot(r.T,A))\n",
        "\t\t\tdx = np.dot(r.T,A[:,idx])/np.dot(A[:,idx].T,A[:,idx])\n",
        "\t\t\tx[idx] += dx\n",
        "\t\t\tr -= dx*A[:,idx]\n",
        "\t\t\tnit += 1\n",
        "\t\t\n",
        "\t\tself.coef_ = x"
      ],
      "execution_count": 0,
      "outputs": []
    },
    {
      "metadata": {
        "id": "TQKIe1mHgfXJ",
        "colab_type": "code",
        "colab": {}
      },
      "cell_type": "code",
      "source": [
        "import numpy as np\n",
        "from sklearn.linear_model import OrthogonalMatchingPursuit\n",
        "from sklearn.cluster import SpectralClustering\n",
        "from sklearn.manifold import SpectralEmbedding\n",
        "from sklearn.preprocessing import normalize\n",
        "\n",
        "def ssc_mps_modificado(X,smax,L,tol=None,alg_name='OMP',pmax=None):\n",
        "\t\"\"\"\n",
        "  Esta es una versión modificada de la función 'ssc_mps', implementada por\n",
        "  https://github.com/mitscha/ssc_mps_py/blob/master/ssc_mps.py\n",
        "  \n",
        "\tImplements Sparse Subspace Clustering-Orthogonal Matching Pursuit (SSC-OMP) and \n",
        "\tSSC-Matching Pursuit (SSC-MP)\n",
        "\t\n",
        "\tParameters\n",
        "\t----------\n",
        "\t\n",
        "\tX: array, shape (n_features, n_samples)\n",
        "\t\tdata matrix\n",
        "\tsmax: int\n",
        "\t\tMaximum number of OMP/MP iterations\n",
        "\tL: int\n",
        "\t\tNumber of clusters\n",
        "\ttol: float, optional\n",
        "\t\tThreshold on approximation quality\n",
        "\talg_name: string, optional\n",
        "\t\t'OMP' (default) or 'MP'\n",
        "\tpmax:\n",
        "\t\tMaximum sparsity level for MP\n",
        "\t\n",
        "\t\n",
        "\tNote: \n",
        "\t\n",
        "\t- Stopping behavior:\n",
        "\t  SSC-OMP: Stop after smax iterations if tol=None, stop when approximation quality\n",
        "\t           specified by tol is attained otherwise\n",
        "\t  SSC-MP:  Stop after smax iterations, or when approximation quality specified by tol\n",
        "\t           is attained, or when the sparsity level of the coefficient vector is pmax\n",
        "\t- See https://arxiv.org/abs/1612.03450 for a discussion of the stopping criteria\n",
        "\t\n",
        "\t\"\"\"\n",
        "\t\n",
        "\t\n",
        "\tXX = np.array(X)\n",
        "\t\n",
        "\tassert(len(XX.shape) == 2)\n",
        "\t\n",
        "\tm = XX.shape[0]\n",
        "\tN = XX.shape[1]\n",
        "\t\n",
        "\t\n",
        "\talg = None\n",
        "\tif alg_name == 'MP':\n",
        "\t\talg = MatchingPursuit(smax, pmax, tol)\n",
        "\telse:\n",
        "\t\talg = OrthogonalMatchingPursuit(\n",
        "\t\t\tn_nonzero_coefs=smax, \n",
        "\t\t\ttol=tol, \n",
        "\t\t\tfit_intercept=False, \n",
        "\t\t\tnormalize=False)\n",
        "\t\n",
        "\t\n",
        "\tC = np.zeros((N,N))\n",
        "\t\n",
        "\tfor i in range(N):\n",
        "\t\tdata_idx = [j for j in range(i)]\n",
        "\t\tdata_idx.extend([j for j in range(i+1,N)])\n",
        "\t\talg.fit(XX[:,data_idx],np.squeeze(XX[:,i]))\n",
        "\t\tc = np.zeros(N)\n",
        "\t\tc[data_idx] = alg.coef_\n",
        "\t\tC[:,i] = c\n",
        "\tmaps=SpectralEmbedding(affinity='precomputed', n_components=L, eigen_solver='arpack').fit(np.abs(C)+np.abs(C.T))\n",
        "  # Se utiliza ahora una descomposición por eigenvectors\n",
        "\tsc = SpectralClustering(n_clusters=L, affinity='precomputed', n_init=50, n_jobs=-1, eigen_solver='arpack')\n",
        "\tsc.fit(np.abs(C) + np.abs(C.T)) # Se introduce la matriz de afinidad descrita en SUB-GAN\n",
        "\t\n",
        "\treturn sc.labels_, maps.embedding_"
      ],
      "execution_count": 0,
      "outputs": []
    },
    {
      "metadata": {
        "id": "yx-lU5j78ooH",
        "colab_type": "code",
        "colab": {}
      },
      "cell_type": "code",
      "source": [
        "K = 10 # Numero de grupos\n",
        "soft_assign, eigen_embedding=ssc_mps_modificado(X,K,K)"
      ],
      "execution_count": 0,
      "outputs": []
    },
    {
      "metadata": {
        "id": "hDvBfhbcBsf8",
        "colab_type": "code",
        "outputId": "a7057bde-eaca-47a7-f67e-a1d9943cd9d4",
        "colab": {
          "base_uri": "https://localhost:8080/",
          "height": 34
        }
      },
      "cell_type": "code",
      "source": [
        "# Verificamos que se obtienen las asignaciones correctas y el embedding tras la descomposición:\n",
        "soft_assign.shape, eigen_embedding.shape"
      ],
      "execution_count": 7,
      "outputs": [
        {
          "output_type": "execute_result",
          "data": {
            "text/plain": [
              "((300,), (300, 10))"
            ]
          },
          "metadata": {
            "tags": []
          },
          "execution_count": 7
        }
      ]
    },
    {
      "metadata": {
        "id": "tfH6qCxRTNbo",
        "colab_type": "code",
        "outputId": "6fdf236b-5aa1-4acf-98dd-59fcb6c11e23",
        "colab": {
          "base_uri": "https://localhost:8080/",
          "height": 389
        }
      },
      "cell_type": "code",
      "source": [
        "# Este es el resultado del SpectralClustering utilizando la descomposición por\n",
        "# eigenvectors con el número equivalente de dimensiones = 10\n",
        "pd.crosstab(soft_assign,y_train[:n_sample]) "
      ],
      "execution_count": 8,
      "outputs": [
        {
          "output_type": "execute_result",
          "data": {
            "text/html": [
              "<div>\n",
              "<style scoped>\n",
              "    .dataframe tbody tr th:only-of-type {\n",
              "        vertical-align: middle;\n",
              "    }\n",
              "\n",
              "    .dataframe tbody tr th {\n",
              "        vertical-align: top;\n",
              "    }\n",
              "\n",
              "    .dataframe thead th {\n",
              "        text-align: right;\n",
              "    }\n",
              "</style>\n",
              "<table border=\"1\" class=\"dataframe\">\n",
              "  <thead>\n",
              "    <tr style=\"text-align: right;\">\n",
              "      <th>col_0</th>\n",
              "      <th>0</th>\n",
              "      <th>1</th>\n",
              "      <th>2</th>\n",
              "      <th>3</th>\n",
              "      <th>4</th>\n",
              "      <th>5</th>\n",
              "      <th>6</th>\n",
              "      <th>7</th>\n",
              "      <th>8</th>\n",
              "      <th>9</th>\n",
              "    </tr>\n",
              "    <tr>\n",
              "      <th>row_0</th>\n",
              "      <th></th>\n",
              "      <th></th>\n",
              "      <th></th>\n",
              "      <th></th>\n",
              "      <th></th>\n",
              "      <th></th>\n",
              "      <th></th>\n",
              "      <th></th>\n",
              "      <th></th>\n",
              "      <th></th>\n",
              "    </tr>\n",
              "  </thead>\n",
              "  <tbody>\n",
              "    <tr>\n",
              "      <th>0</th>\n",
              "      <td>0</td>\n",
              "      <td>8</td>\n",
              "      <td>12</td>\n",
              "      <td>9</td>\n",
              "      <td>2</td>\n",
              "      <td>3</td>\n",
              "      <td>1</td>\n",
              "      <td>2</td>\n",
              "      <td>1</td>\n",
              "      <td>2</td>\n",
              "    </tr>\n",
              "    <tr>\n",
              "      <th>1</th>\n",
              "      <td>21</td>\n",
              "      <td>0</td>\n",
              "      <td>0</td>\n",
              "      <td>0</td>\n",
              "      <td>1</td>\n",
              "      <td>0</td>\n",
              "      <td>2</td>\n",
              "      <td>0</td>\n",
              "      <td>0</td>\n",
              "      <td>0</td>\n",
              "    </tr>\n",
              "    <tr>\n",
              "      <th>2</th>\n",
              "      <td>0</td>\n",
              "      <td>3</td>\n",
              "      <td>0</td>\n",
              "      <td>0</td>\n",
              "      <td>0</td>\n",
              "      <td>0</td>\n",
              "      <td>0</td>\n",
              "      <td>0</td>\n",
              "      <td>0</td>\n",
              "      <td>0</td>\n",
              "    </tr>\n",
              "    <tr>\n",
              "      <th>3</th>\n",
              "      <td>1</td>\n",
              "      <td>0</td>\n",
              "      <td>1</td>\n",
              "      <td>0</td>\n",
              "      <td>13</td>\n",
              "      <td>0</td>\n",
              "      <td>0</td>\n",
              "      <td>8</td>\n",
              "      <td>1</td>\n",
              "      <td>21</td>\n",
              "    </tr>\n",
              "    <tr>\n",
              "      <th>4</th>\n",
              "      <td>0</td>\n",
              "      <td>0</td>\n",
              "      <td>0</td>\n",
              "      <td>0</td>\n",
              "      <td>0</td>\n",
              "      <td>0</td>\n",
              "      <td>0</td>\n",
              "      <td>15</td>\n",
              "      <td>0</td>\n",
              "      <td>0</td>\n",
              "    </tr>\n",
              "    <tr>\n",
              "      <th>5</th>\n",
              "      <td>7</td>\n",
              "      <td>10</td>\n",
              "      <td>15</td>\n",
              "      <td>7</td>\n",
              "      <td>16</td>\n",
              "      <td>4</td>\n",
              "      <td>5</td>\n",
              "      <td>4</td>\n",
              "      <td>13</td>\n",
              "      <td>7</td>\n",
              "    </tr>\n",
              "    <tr>\n",
              "      <th>6</th>\n",
              "      <td>0</td>\n",
              "      <td>18</td>\n",
              "      <td>0</td>\n",
              "      <td>0</td>\n",
              "      <td>0</td>\n",
              "      <td>0</td>\n",
              "      <td>0</td>\n",
              "      <td>0</td>\n",
              "      <td>0</td>\n",
              "      <td>0</td>\n",
              "    </tr>\n",
              "    <tr>\n",
              "      <th>7</th>\n",
              "      <td>0</td>\n",
              "      <td>0</td>\n",
              "      <td>0</td>\n",
              "      <td>0</td>\n",
              "      <td>0</td>\n",
              "      <td>13</td>\n",
              "      <td>0</td>\n",
              "      <td>0</td>\n",
              "      <td>0</td>\n",
              "      <td>0</td>\n",
              "    </tr>\n",
              "    <tr>\n",
              "      <th>8</th>\n",
              "      <td>0</td>\n",
              "      <td>0</td>\n",
              "      <td>0</td>\n",
              "      <td>18</td>\n",
              "      <td>0</td>\n",
              "      <td>3</td>\n",
              "      <td>0</td>\n",
              "      <td>0</td>\n",
              "      <td>6</td>\n",
              "      <td>1</td>\n",
              "    </tr>\n",
              "    <tr>\n",
              "      <th>9</th>\n",
              "      <td>5</td>\n",
              "      <td>0</td>\n",
              "      <td>0</td>\n",
              "      <td>0</td>\n",
              "      <td>0</td>\n",
              "      <td>0</td>\n",
              "      <td>21</td>\n",
              "      <td>0</td>\n",
              "      <td>0</td>\n",
              "      <td>0</td>\n",
              "    </tr>\n",
              "  </tbody>\n",
              "</table>\n",
              "</div>"
            ],
            "text/plain": [
              "col_0   0   1   2   3   4   5   6   7   8   9\n",
              "row_0                                        \n",
              "0       0   8  12   9   2   3   1   2   1   2\n",
              "1      21   0   0   0   1   0   2   0   0   0\n",
              "2       0   3   0   0   0   0   0   0   0   0\n",
              "3       1   0   1   0  13   0   0   8   1  21\n",
              "4       0   0   0   0   0   0   0  15   0   0\n",
              "5       7  10  15   7  16   4   5   4  13   7\n",
              "6       0  18   0   0   0   0   0   0   0   0\n",
              "7       0   0   0   0   0  13   0   0   0   0\n",
              "8       0   0   0  18   0   3   0   0   6   1\n",
              "9       5   0   0   0   0   0  21   0   0   0"
            ]
          },
          "metadata": {
            "tags": []
          },
          "execution_count": 8
        }
      ]
    }
  ]
}